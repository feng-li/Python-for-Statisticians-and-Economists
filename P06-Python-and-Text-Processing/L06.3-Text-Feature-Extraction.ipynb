{
 "cells": [
  {
   "cell_type": "markdown",
   "metadata": {
    "slideshow": {
     "slide_type": "slide"
    }
   },
   "source": [
    "# Text Feature Extraction\n",
    "\n",
    "Feng Li\n",
    "\n",
    "School of Statistics and Mathematics\n",
    "\n",
    "Central University of Finance and Economics\n",
    "\n",
    "[feng.li@cufe.edu.cn](mailto:feng.li@cufe.edu.cn)\n",
    "\n",
    "[https://feng.li/python](https://feng.li/python)"
   ]
  },
  {
   "cell_type": "markdown",
   "metadata": {
    "slideshow": {
     "slide_type": "slide"
    }
   },
   "source": [
    "# TF-IDF\n",
    "\n",
    "In information retrieval, **tf–idf** or **TFIDF**, short for **term frequency–inverse document frequency**, is a numerical statistic that is intended to reflect how important a word is to a document in a collection or corpus.\n",
    "\n",
    "It is often used as a weighting factor in searches of information retrieval, text mining, and user modeling. The tf-idf value increases proportionally to the number of times a word appears in the document and is offset by the frequency of the word in the corpus, which helps to adjust for the fact that some words appear more frequently in general. \n",
    "\n",
    "Tf-idf is one of the most popular term-weighting schemes today; 83% of text-based recommender systems in digital libraries use tf-idf.\n",
    "\n",
    "\n"
   ]
  },
  {
   "cell_type": "markdown",
   "metadata": {
    "slideshow": {
     "slide_type": "slide"
    }
   },
   "source": [
    "## Term frequency\n",
    "\n",
    "Suppose we have a set of text documents and wish to rank which document is most relevant to the query, \"the brown cow\". \n",
    "\n",
    "- A simple way to start out is by eliminating documents that do not contain all three words \"the\", \"brown\", and \"cow\", but this still leaves many documents. \n",
    "\n",
    "- To further distinguish them, we might **count the number of times each term occurs in each document**; the number of times a term occurs in a document is called its **term frequency**. However, in the case where the length of documents varies greatly, adjustments are often made (see definition below). The first form of term weighting is due to Hans Peter Luhn (1957) which may be summarized as:\n",
    "\n",
    "        The weight of a term that occurs in a document is simply proportional to the term frequency."
   ]
  },
  {
   "cell_type": "markdown",
   "metadata": {
    "slideshow": {
     "slide_type": "slide"
    }
   },
   "source": [
    "\n",
    "In the case of the term frequency $tf(t,d)$, the simplest choice is to use the raw count of a term in a document, i.e. the number of times that term t occurs in document d. If we denote the raw count by $f_{t,d}$, then the simplest tf scheme is $tf(t,d) = f_{t,d}$. Other possibilities include\n",
    "\n",
    "- **Boolean \"frequencies\"**: $tf(t,d) = 1$ if t occurs in d and 0 otherwise;\n",
    "\n",
    "- **term frequency adjusted for document length** : $f_{t,d} ÷$ (number of words in d)\n",
    "\n",
    "- **logarithmically scaled frequency**: $tf(t,d) = log (1 + f_{t,d})$\n",
    "\n",
    "- **augmented frequency**, to prevent a bias towards longer documents, e.g. raw frequency divided by the raw frequency of the most occurring term in the document:\n",
    "$$\n",
    "{\\displaystyle \\mathrm {tf} (t,d)=0.5+0.5\\cdot {\\frac {f_{t,d}}{\\max\\{f_{t',d}:t'\\in d\\}}}} \n",
    "$$"
   ]
  },
  {
   "cell_type": "markdown",
   "metadata": {
    "slideshow": {
     "slide_type": "slide"
    }
   },
   "source": [
    "## Inverse document frequency\n",
    "\n",
    "Because the term \"the\" is so common, term frequency will tend to incorrectly emphasize documents which happen to use the word \"the\" more frequently, without giving enough weight to the more meaningful terms \"brown\" and \"cow\". The term \"the\" is not a good keyword to distinguish relevant and non-relevant documents and terms, unlike the less-common words \"brown\" and \"cow\". Hence an inverse document frequency factor is incorporated which diminishes the weight of terms that occur very frequently in the document set and increases the weight of terms that occur rarely.\n",
    "\n",
    "Karen Spärck Jones (1972) conceived a statistical interpretation of term specificity called **Inverse Document Frequency (IDF)**, which became a cornerstone of term weighting:\n",
    "\n",
    "    The specificity of a term can be quantified as an inverse function of the number of documents in which it occurs."
   ]
  },
  {
   "cell_type": "markdown",
   "metadata": {
    "slideshow": {
     "slide_type": "slide"
    }
   },
   "source": [
    "The inverse document frequency is a **measure of how much information the word provides**, that is, whether the term is common or rare across all documents. It is the logarithmically scaled inverse fraction of the documents that contain the word, obtained by dividing the total number of documents by the number of documents containing the term, and then taking the logarithm of that quotient.\n",
    "$$\n",
    "{\\displaystyle \\mathrm {idf} (t,D)=\\log {\\frac {N}{|\\{d\\in D:t\\in d\\}|}}}$$\n",
    "with\n",
    "\n",
    "- ${\\displaystyle N}$: total number of documents in the corpus ${\\displaystyle N={|D|}}$\n",
    "\n",
    "- ${\\displaystyle |\\{d\\in D:t\\in d\\}|}$  : number of documents where the term ${\\displaystyle t}$ appears (i.e., ${\\displaystyle \\mathrm {tf} (t,d)\\neq 0}$). If the term is not in the corpus, this will lead to a division-by-zero. It is therefore common to adjust the denominator to ${\\displaystyle 1+|\\{d\\in D:t\\in d\\}|}$."
   ]
  },
  {
   "cell_type": "markdown",
   "metadata": {
    "slideshow": {
     "slide_type": "slide"
    }
   },
   "source": [
    "## Term frequency–Inverse document frequency\n",
    "\n",
    "Then tf–idf is calculated as\n",
    "\n",
    "$${\\displaystyle \\mathrm {tfidf} (t,d,D)=\\mathrm {tf} (t,d)\\cdot \\mathrm {idf} (t,D)}$$\n",
    "\n",
    "- A high weight in tf–idf is reached by a high term frequency (in the given document) and a low document frequency of the term in the whole collection of documents; \n",
    "\n",
    "- The weights hence tend to filter out common terms.\n",
    "\n",
    "- Since the ratio inside the idf's log function is always greater than or equal to 1, the value of idf (and tf-idf) is greater than or equal to 0. \n",
    "\n",
    "- As a term appears in more documents, the ratio inside the logarithm approaches 1, bringing the idf and tf-idf closer to 0."
   ]
  },
  {
   "cell_type": "markdown",
   "metadata": {
    "slideshow": {
     "slide_type": "slide"
    }
   },
   "source": [
    "## Example\n",
    "\n",
    "Let find interesting insights into _How I met your mother_ from its transcripts and one technique that kept coming up is TF/IDF.\n",
    "\n",
    "Let's first build a corpus. "
   ]
  },
  {
   "cell_type": "code",
   "execution_count": 1,
   "metadata": {
    "slideshow": {
     "slide_type": "slide"
    }
   },
   "outputs": [
    {
     "data": {
      "text/plain": [
       "209"
      ]
     },
     "execution_count": 1,
     "metadata": {},
     "output_type": "execute_result"
    }
   ],
   "source": [
    "from collections import defaultdict\n",
    "import csv\n",
    "\n",
    "episodes = defaultdict(list)\n",
    "with open(\"data/sentences.csv\", \"r\") as sentences_file:\n",
    "    reader = csv.reader(sentences_file, delimiter=',')\n",
    "    for row in reader:\n",
    "        episodes[row[1]].append(row[4])\n",
    "\n",
    "for episode_id, text in episodes.items():\n",
    "    episodes[episode_id] = \"\".join(text)\n",
    "\n",
    "corpus = []\n",
    "for id, episode in sorted(episodes.items(), key=lambda t: t[0]):\n",
    "    corpus.append(episode)\n",
    "    \n",
    "len(corpus)"
   ]
  },
  {
   "cell_type": "markdown",
   "metadata": {
    "slideshow": {
     "slide_type": "slide"
    }
   },
   "source": [
    "The corpus contains 209 entries (1 per episode), each of which is a string containing the transcript of that episode. \n",
    "\n",
    "Next it's time to train our TF/IDF model via [TfidfVectorizer](http://scikit-learn.org/stable/modules/generated/sklearn.feature_extraction.text.TfidfVectorizer.html) in `scikit-learn` module which is only a few lines of code. The most interesting parameter here is `ngram_range` - we're telling it to generate 2 and 3 word phrases along with the single words from the corpus.\n",
    "\n",
    "e.g. if we had the sentence \"Python is cool\" we'd end up with 6 phrases - 'Python', 'is', 'cool', 'Python is', 'Python is cool' and 'is cool'.\n"
   ]
  },
  {
   "cell_type": "code",
   "execution_count": 2,
   "metadata": {
    "slideshow": {
     "slide_type": "slide"
    }
   },
   "outputs": [],
   "source": [
    "from sklearn.feature_extraction.text import TfidfVectorizer\n",
    "tf = TfidfVectorizer(analyzer='word', ngram_range=(1,3), min_df = 0, stop_words = 'english')"
   ]
  },
  {
   "cell_type": "code",
   "execution_count": 5,
   "metadata": {
    "slideshow": {
     "slide_type": "slide"
    }
   },
   "outputs": [
    {
     "name": "stdout",
     "output_type": "stream",
     "text": [
      "498229\n"
     ]
    },
    {
     "data": {
      "text/plain": [
       "['00 does sound',\n",
       " '00 don',\n",
       " '00 don buy',\n",
       " '00 dressed',\n",
       " '00 dressed blond',\n",
       " '00 drunkenly',\n",
       " '00 drunkenly slurred',\n",
       " '00 fair',\n",
       " '00 fair tonight',\n",
       " '00 fall',\n",
       " '00 fall foliage',\n",
       " '00 far',\n",
       " '00 far impossible',\n",
       " '00 fart',\n",
       " '00 fart sure',\n",
       " '00 friends',\n",
       " '00 friends singing',\n",
       " '00 getting',\n",
       " '00 getting guys',\n",
       " '00 god']"
      ]
     },
     "execution_count": 5,
     "metadata": {},
     "output_type": "execute_result"
    }
   ],
   "source": [
    "tfidf_matrix =  tf.fit_transform(corpus)\n",
    "feature_names = tf.get_feature_names() \n",
    "print(len(feature_names))\n",
    "feature_names[50:70]"
   ]
  },
  {
   "cell_type": "markdown",
   "metadata": {
    "slideshow": {
     "slide_type": "slide"
    }
   },
   "source": [
    "So we're got nearly 500,000 phrases and if we look at tfidf_matrix we'd expect it to be a $209 \\times 498229$ matrix - one row per episode, one column per phrase:"
   ]
  },
  {
   "cell_type": "code",
   "execution_count": 5,
   "metadata": {
    "slideshow": {
     "slide_type": "slide"
    }
   },
   "outputs": [
    {
     "data": {
      "text/plain": [
       "<209x498229 sparse matrix of type '<class 'numpy.float64'>'\n",
       "\twith 740366 stored elements in Compressed Sparse Row format>"
      ]
     },
     "execution_count": 5,
     "metadata": {},
     "output_type": "execute_result"
    }
   ],
   "source": [
    "tfidf_matrix"
   ]
  },
  {
   "cell_type": "markdown",
   "metadata": {
    "slideshow": {
     "slide_type": "slide"
    }
   },
   "source": [
    "This is what we've got although under the covers it's using a sparse representation to save space. Let's convert the matrix to dense format to explore further and find out why:"
   ]
  },
  {
   "cell_type": "code",
   "execution_count": 7,
   "metadata": {
    "slideshow": {
     "slide_type": "slide"
    }
   },
   "outputs": [
    {
     "data": {
      "text/plain": [
       "498229"
      ]
     },
     "execution_count": 7,
     "metadata": {},
     "output_type": "execute_result"
    }
   ],
   "source": [
    "dense = tfidf_matrix.todense()\n",
    "len(dense[0].tolist()[0])"
   ]
  },
  {
   "cell_type": "markdown",
   "metadata": {
    "slideshow": {
     "slide_type": "slide"
    }
   },
   "source": [
    "The first value in each tuple is the phrase's position in our initial vector and also corresponds to the phrase's position in `feature_names` which allows us to map the scores back to phrases. Let's automate that lookup:\n"
   ]
  },
  {
   "cell_type": "code",
   "execution_count": 8,
   "metadata": {
    "slideshow": {
     "slide_type": "slide"
    }
   },
   "outputs": [
    {
     "name": "stdout",
     "output_type": "stream",
     "text": [
      "ted                  0.2633241815084314\n",
      "olives               0.19556508008332224\n",
      "marshall             0.1559959550807364\n",
      "yasmine              0.1521528557736951\n",
      "robin                0.13081226492372183\n",
      "barney               0.1247967640645891\n",
      "lily                 0.12330259292855121\n",
      "signal               0.1037285359479745\n",
      "goanna               0.09807284390611715\n",
      "scene                0.09535105429648502\n",
      "cut                  0.0918076740694677\n",
      "narrator             0.08652535148952963\n",
      "flashback            0.07836273694979588\n",
      "flashback date       0.07022439497247467\n",
      "ranjit               0.06937564856742995\n",
      "flashback date robin 0.058520329143728886\n",
      "ted yasmine          0.058520329143728886\n",
      "carl                 0.05819191692744656\n",
      "eye patch            0.0543236333564784\n",
      "lebanese             0.0543236333564784\n"
     ]
    }
   ],
   "source": [
    "episode = dense[0].tolist()[0]\n",
    "phrase_scores = [pair for pair in zip(range(0, len(episode)), episode) if pair[1] > 0]\n",
    "sorted_phrase_scores = sorted(phrase_scores, key=lambda t: t[1] * -1)\n",
    "for phrase, score in [(feature_names[word_id], score) \n",
    "    for (word_id, score) in sorted_phrase_scores][:20]:\n",
    "        print('{0: <20} {1}'.format(phrase, score))"
   ]
  },
  {
   "cell_type": "markdown",
   "metadata": {
    "slideshow": {
     "slide_type": "slide"
    }
   },
   "source": [
    "Let's find some interesting phrase in this episode. The (!) sign indicates this is not python command. It envokes a shell command to do this quickly."
   ]
  },
  {
   "cell_type": "code",
   "execution_count": 10,
   "metadata": {
    "scrolled": false,
    "slideshow": {
     "slide_type": "slide"
    }
   },
   "outputs": [
    {
     "name": "stdout",
     "output_type": "stream",
     "text": [
      "\u001b[32m\u001b[K22\u001b[m\u001b[K\u001b[36m\u001b[K:\u001b[m\u001b[K21,1,1,1,\"Barney: (on the phone) hey, so you know how I've always had a thing for half-Asian girls? Well, now I've got a new favorite: \u001b[01;31m\u001b[KLebanese\u001b[m\u001b[K girls! \u001b[01;31m\u001b[KLebanese\u001b[m\u001b[K girls are the new half-Asians.\"\r",
      "\r\n",
      "\u001b[32m\u001b[K53\u001b[m\u001b[K\u001b[36m\u001b[K:\u001b[m\u001b[K52,1,1,1,\"Yasmine: Thanks, It's \u001b[01;31m\u001b[KLebanese\u001b[m\u001b[K.\"\r",
      "\r\n",
      "\u001b[32m\u001b[K97\u001b[m\u001b[K\u001b[36m\u001b[K:\u001b[m\u001b[K96,1,1,1,Barney: (ignoring) how does Carl land a \u001b[01;31m\u001b[KLebanese\u001b[m\u001b[K girl?\r",
      "\r\n",
      "\u001b[32m\u001b[K269\u001b[m\u001b[K\u001b[36m\u001b[K:\u001b[m\u001b[K268,1,1,1,\"Barney: So, (looks to the cabdriver) Ranjit... you must've done it with a \u001b[01;31m\u001b[KLebanese\u001b[m\u001b[K girl.\"\r",
      "\r\n",
      "\u001b[32m\u001b[K56381\u001b[m\u001b[K\u001b[36m\u001b[K:\u001b[m\u001b[K56380,178,8,18,\u001b[01;31m\u001b[KLebanese\u001b[m\u001b[K girls sprint to third base and then stay there?\r",
      "\r\n",
      "grep: sentences.csv: No such file or directory\r\n"
     ]
    }
   ],
   "source": [
    "! grep -h -rni --color \"lebanese\" data/ sentences.csv"
   ]
  },
  {
   "cell_type": "markdown",
   "metadata": {},
   "source": [
    "For now we'll extract phrases for all episodes and write to CSV so we can explore more easily:\n"
   ]
  },
  {
   "cell_type": "code",
   "execution_count": 11,
   "metadata": {
    "slideshow": {
     "slide_type": "slide"
    }
   },
   "outputs": [
    {
     "name": "stdout",
     "output_type": "stream",
     "text": [
      "Writing Document: 0, 1, 2, 3, 4, 5, 6, 7, 8, 9, 10, 11, 12, 13, 14, 15, 16, 17, 18, 19, 20, 21, 22, 23, 24, 25, 26, 27, 28, 29, 30, 31, 32, 33, 34, 35, 36, 37, 38, 39, 40, 41, 42, 43, 44, 45, 46, 47, 48, 49, 50, 51, 52, 53, 54, 55, 56, 57, 58, 59, 60, 61, 62, 63, 64, 65, 66, 67, 68, 69, 70, 71, 72, 73, 74, 75, 76, 77, 78, 79, 80, 81, 82, 83, 84, 85, 86, 87, 88, 89, 90, 91, 92, 93, 94, 95, 96, 97, 98, 99, 100, 101, 102, 103, 104, 105, 106, 107, 108, 109, 110, 111, 112, 113, 114, 115, 116, 117, 118, 119, 120, 121, 122, 123, 124, 125, 126, 127, 128, 129, 130, 131, 132, 133, 134, 135, 136, 137, 138, 139, 140, 141, 142, 143, 144, 145, 146, 147, 148, 149, 150, 151, 152, 153, 154, 155, 156, 157, 158, 159, 160, 161, 162, 163, 164, 165, 166, 167, 168, 169, 170, 171, 172, 173, 174, 175, 176, 177, 178, 179, 180, 181, 182, 183, 184, 185, 186, 187, 188, 189, 190, 191, 192, 193, 194, 195, 196, 197, 198, 199, 200, 201, 202, 203, 204, 205, 206, 207, 208, "
     ]
    }
   ],
   "source": [
    "with open(\"data/tfidf_scikit.csv\", \"w\") as file:\n",
    "    writer = csv.writer(file, delimiter=\",\")\n",
    "    writer.writerow([\"EpisodeId\", \"Phrase\", \"Score\"])\n",
    "\n",
    "    doc_id = 0\n",
    "    print(\"Writing Document:\", end = \" \")\n",
    "    for doc in tfidf_matrix.todense():\n",
    "        print(doc_id, end = \", \")\n",
    "        word_id = 0\n",
    "        for score in doc.tolist()[0]:\n",
    "            if score > 0:\n",
    "                word = feature_names[word_id]\n",
    "                writer.writerow([doc_id+1, word, score])\n",
    "            word_id +=1\n",
    "        doc_id +=1"
   ]
  },
  {
   "cell_type": "markdown",
   "metadata": {
    "slideshow": {
     "slide_type": "slide"
    }
   },
   "source": [
    "And finally a quick look at the contents of the CSV:"
   ]
  },
  {
   "cell_type": "code",
   "execution_count": 14,
   "metadata": {
    "slideshow": {
     "slide_type": "slide"
    }
   },
   "outputs": [
    {
     "data": {
      "text/html": [
       "<div>\n",
       "<style scoped>\n",
       "    .dataframe tbody tr th:only-of-type {\n",
       "        vertical-align: middle;\n",
       "    }\n",
       "\n",
       "    .dataframe tbody tr th {\n",
       "        vertical-align: top;\n",
       "    }\n",
       "\n",
       "    .dataframe thead th {\n",
       "        text-align: right;\n",
       "    }\n",
       "</style>\n",
       "<table border=\"1\" class=\"dataframe\">\n",
       "  <thead>\n",
       "    <tr style=\"text-align: right;\">\n",
       "      <th></th>\n",
       "      <th>EpisodeId</th>\n",
       "      <th>Phrase</th>\n",
       "      <th>Score</th>\n",
       "    </tr>\n",
       "  </thead>\n",
       "  <tbody>\n",
       "    <tr>\n",
       "      <th>0</th>\n",
       "      <td>1</td>\n",
       "      <td>2005</td>\n",
       "      <td>0.007399</td>\n",
       "    </tr>\n",
       "    <tr>\n",
       "      <th>1</th>\n",
       "      <td>1</td>\n",
       "      <td>2005 seven</td>\n",
       "      <td>0.010865</td>\n",
       "    </tr>\n",
       "    <tr>\n",
       "      <th>2</th>\n",
       "      <td>1</td>\n",
       "      <td>2005 seven just</td>\n",
       "      <td>0.011704</td>\n",
       "    </tr>\n",
       "    <tr>\n",
       "      <th>3</th>\n",
       "      <td>1</td>\n",
       "      <td>2030</td>\n",
       "      <td>0.010004</td>\n",
       "    </tr>\n",
       "    <tr>\n",
       "      <th>4</th>\n",
       "      <td>1</td>\n",
       "      <td>2030 kids</td>\n",
       "      <td>0.004960</td>\n",
       "    </tr>\n",
       "    <tr>\n",
       "      <th>...</th>\n",
       "      <td>...</td>\n",
       "      <td>...</td>\n",
       "      <td>...</td>\n",
       "    </tr>\n",
       "    <tr>\n",
       "      <th>740361</th>\n",
       "      <td>208</td>\n",
       "      <td>young marshall went</td>\n",
       "      <td>0.014774</td>\n",
       "    </tr>\n",
       "    <tr>\n",
       "      <th>740362</th>\n",
       "      <td>208</td>\n",
       "      <td>young marshall wow</td>\n",
       "      <td>0.014774</td>\n",
       "    </tr>\n",
       "    <tr>\n",
       "      <th>740363</th>\n",
       "      <td>208</td>\n",
       "      <td>young real</td>\n",
       "      <td>0.014774</td>\n",
       "    </tr>\n",
       "    <tr>\n",
       "      <th>740364</th>\n",
       "      <td>208</td>\n",
       "      <td>young real marshall</td>\n",
       "      <td>0.014774</td>\n",
       "    </tr>\n",
       "    <tr>\n",
       "      <th>740365</th>\n",
       "      <td>209</td>\n",
       "      <td>sentence</td>\n",
       "      <td>1.000000</td>\n",
       "    </tr>\n",
       "  </tbody>\n",
       "</table>\n",
       "<p>740366 rows × 3 columns</p>\n",
       "</div>"
      ],
      "text/plain": [
       "        EpisodeId               Phrase     Score\n",
       "0               1                 2005  0.007399\n",
       "1               1           2005 seven  0.010865\n",
       "2               1      2005 seven just  0.011704\n",
       "3               1                 2030  0.010004\n",
       "4               1            2030 kids  0.004960\n",
       "...           ...                  ...       ...\n",
       "740361        208  young marshall went  0.014774\n",
       "740362        208   young marshall wow  0.014774\n",
       "740363        208           young real  0.014774\n",
       "740364        208  young real marshall  0.014774\n",
       "740365        209             sentence  1.000000\n",
       "\n",
       "[740366 rows x 3 columns]"
      ]
     },
     "execution_count": 14,
     "metadata": {},
     "output_type": "execute_result"
    }
   ],
   "source": [
    "import pandas as pd\n",
    "\n",
    "da = pd.read_csv('data/tfidf_scikit.csv')\n",
    "da"
   ]
  },
  {
   "cell_type": "markdown",
   "metadata": {
    "slideshow": {
     "slide_type": "slide"
    }
   },
   "source": [
    "# word2vec \n",
    "\n",
    "Related Papers by Tomas Mikolov et al from Google:\n",
    "\n",
    "- [Distributed Representations of Words and Phrases and their Compositionality]( https://arxiv.org/abs/1310.4546) \n",
    "- [Efficient Estimation of Word Representations in Vector Space\n",
    "](https://arxiv.org/abs/1301.3781)"
   ]
  },
  {
   "cell_type": "code",
   "execution_count": 54,
   "metadata": {
    "scrolled": true,
    "slideshow": {
     "slide_type": "slide"
    }
   },
   "outputs": [
    {
     "data": {
      "text/plain": [
       "[['human', 'interface', 'computer'],\n",
       " ['survey', 'user', 'computer', 'system', 'response', 'time'],\n",
       " ['eps', 'user', 'interface', 'system'],\n",
       " ['system', 'human', 'system', 'eps'],\n",
       " ['user', 'response', 'time'],\n",
       " ['trees'],\n",
       " ['graph', 'trees'],\n",
       " ['graph', 'minors', 'trees'],\n",
       " ['graph', 'minors', 'survey']]"
      ]
     },
     "execution_count": 54,
     "metadata": {},
     "output_type": "execute_result"
    }
   ],
   "source": [
    "from gensim.test.utils import common_texts\n",
    "common_texts"
   ]
  },
  {
   "cell_type": "code",
   "execution_count": 55,
   "metadata": {
    "slideshow": {
     "slide_type": "slide"
    }
   },
   "outputs": [],
   "source": [
    "from gensim.models import Word2Vec\n",
    "model = Word2Vec(sentences=common_texts, vector_size=100, window=5, min_count=1, workers=4)\n",
    "model.save(\"word2vec.model\")"
   ]
  },
  {
   "cell_type": "code",
   "execution_count": 56,
   "metadata": {
    "slideshow": {
     "slide_type": "slide"
    }
   },
   "outputs": [
    {
     "data": {
      "text/plain": [
       "array([-0.00515774, -0.00667028, -0.0077791 ,  0.00831315, -0.00198292,\n",
       "       -0.00685696, -0.0041556 ,  0.00514562, -0.00286997, -0.00375075,\n",
       "        0.0016219 , -0.0027771 , -0.00158482,  0.0010748 , -0.00297881,\n",
       "        0.00852176,  0.00391207, -0.00996176,  0.00626142, -0.00675622,\n",
       "        0.00076966,  0.00440552, -0.00510486, -0.00211128,  0.00809783,\n",
       "       -0.00424503, -0.00763848,  0.00926061, -0.00215612, -0.00472081,\n",
       "        0.00857329,  0.00428458,  0.0043261 ,  0.00928722, -0.00845554,\n",
       "        0.00525685,  0.00203994,  0.0041895 ,  0.00169839,  0.00446543,\n",
       "        0.00448759,  0.0061063 , -0.00320303, -0.00457706, -0.00042664,\n",
       "        0.00253447, -0.00326412,  0.00605948,  0.00415534,  0.00776685,\n",
       "        0.00257002,  0.00811904, -0.00138761,  0.00808028,  0.0037181 ,\n",
       "       -0.00804967, -0.00393476, -0.0024726 ,  0.00489447, -0.00087241,\n",
       "       -0.00283173,  0.00783599,  0.00932561, -0.0016154 , -0.00516075,\n",
       "       -0.00470313, -0.00484746, -0.00960562,  0.00137242, -0.00422615,\n",
       "        0.00252744,  0.00561612, -0.00406709, -0.00959937,  0.00154715,\n",
       "       -0.00670207,  0.0024959 , -0.00378173,  0.00708048,  0.00064041,\n",
       "        0.00356198, -0.00273993, -0.00171105,  0.00765502,  0.00140809,\n",
       "       -0.00585215, -0.00783678,  0.00123304,  0.00645651,  0.00555797,\n",
       "       -0.00897966,  0.00859466,  0.00404815,  0.00747178,  0.00974917,\n",
       "       -0.0072917 , -0.00904259,  0.0058377 ,  0.00939395,  0.00350795],\n",
       "      dtype=float32)"
      ]
     },
     "execution_count": 56,
     "metadata": {},
     "output_type": "execute_result"
    }
   ],
   "source": [
    "vector = model.wv['computer']  # get numpy vector of a word\n",
    "vector"
   ]
  },
  {
   "cell_type": "code",
   "execution_count": 48,
   "metadata": {
    "slideshow": {
     "slide_type": "slide"
    }
   },
   "outputs": [
    {
     "data": {
      "text/plain": [
       "[('system', 0.21617144346237183),\n",
       " ('survey', 0.044689204543828964),\n",
       " ('interface', 0.01520337164402008),\n",
       " ('time', 0.0019510634010657668),\n",
       " ('trees', -0.032843153923749924),\n",
       " ('human', -0.0742427185177803),\n",
       " ('response', -0.09317589551210403),\n",
       " ('graph', -0.09575346857309341),\n",
       " ('eps', -0.10513806343078613),\n",
       " ('user', -0.16911624372005463)]"
      ]
     },
     "execution_count": 48,
     "metadata": {},
     "output_type": "execute_result"
    }
   ],
   "source": [
    "sims = model.wv.most_similar('computer', topn=10)  # get other similar words\n",
    "sims"
   ]
  }
 ],
 "metadata": {
  "celltoolbar": "Slideshow",
  "kernelspec": {
   "display_name": "Python 3 (ipykernel)",
   "language": "python",
   "name": "python3"
  },
  "language_info": {
   "codemirror_mode": {
    "name": "ipython",
    "version": 3
   },
   "file_extension": ".py",
   "mimetype": "text/x-python",
   "name": "python",
   "nbconvert_exporter": "python",
   "pygments_lexer": "ipython3",
   "version": "3.9.9"
  },
  "rise": {
   "auto_select": "first",
   "autolaunch": false,
   "enable_chalkboard": true,
   "start_slideshow_at": "selected",
   "theme": "black"
  },
  "toc": {
   "base_numbering": 1,
   "nav_menu": {},
   "number_sections": false,
   "sideBar": true,
   "skip_h1_title": false,
   "title_cell": "Table of Contents",
   "title_sidebar": "Contents",
   "toc_cell": false,
   "toc_position": {},
   "toc_section_display": true,
   "toc_window_display": false
  }
 },
 "nbformat": 4,
 "nbformat_minor": 2
}
