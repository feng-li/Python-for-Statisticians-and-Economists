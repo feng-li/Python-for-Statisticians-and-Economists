{
 "cells": [
  {
   "cell_type": "markdown",
   "id": "36fae451",
   "metadata": {
    "slideshow": {
     "slide_type": "slide"
    }
   },
   "source": [
    "# Groups and pivot tables with Pandas\n",
    "\n",
    "Feng Li\n",
    "\n",
    "School of Statistics and Mathematics\n",
    "\n",
    "Central University of Finance and Economics\n",
    "\n",
    "[feng.li@cufe.edu.cn](mailto:feng.li@cufe.edu.cn)\n",
    "\n",
    "[https://feng.li/python](https://feng.li/python)"
   ]
  },
  {
   "cell_type": "code",
   "execution_count": 4,
   "id": "24c38d8a",
   "metadata": {
    "slideshow": {
     "slide_type": "slide"
    }
   },
   "outputs": [],
   "source": [
    "import pandas as pd\n",
    "ledger_df_info = pd.ExcelFile('data/Q1Sales.xlsx')\n",
    "ledger_df_info.sheet_names\n",
    "ledger_df = pd.read_excel('data/Q1Sales.xlsx') # read the first sheet"
   ]
  },
  {
   "cell_type": "code",
   "execution_count": 5,
   "id": "monthly-facial",
   "metadata": {
    "slideshow": {
     "slide_type": "slide"
    },
    "tags": []
   },
   "outputs": [],
   "source": [
    "columns = ['ProductID', 'Product Name', 'Channel', 'Unit Price', 'Quantity', 'Total']\n",
    "sample_df = ledger_df[columns].tail(10)"
   ]
  },
  {
   "cell_type": "code",
   "execution_count": 6,
   "id": "affected-briefs",
   "metadata": {
    "slideshow": {
     "slide_type": "slide"
    },
    "tags": []
   },
   "outputs": [
    {
     "data": {
      "text/html": [
       "<div>\n",
       "<style scoped>\n",
       "    .dataframe tbody tr th:only-of-type {\n",
       "        vertical-align: middle;\n",
       "    }\n",
       "\n",
       "    .dataframe tbody tr th {\n",
       "        vertical-align: top;\n",
       "    }\n",
       "\n",
       "    .dataframe thead th {\n",
       "        text-align: right;\n",
       "    }\n",
       "</style>\n",
       "<table border=\"1\" class=\"dataframe\">\n",
       "  <thead>\n",
       "    <tr style=\"text-align: right;\">\n",
       "      <th></th>\n",
       "      <th>ProductID</th>\n",
       "      <th>Product Name</th>\n",
       "      <th>Channel</th>\n",
       "      <th>Unit Price</th>\n",
       "      <th>Quantity</th>\n",
       "      <th>Total</th>\n",
       "    </tr>\n",
       "  </thead>\n",
       "  <tbody>\n",
       "    <tr>\n",
       "      <th>14044</th>\n",
       "      <td>MI/SEN-01085</td>\n",
       "      <td>Sennheiser EW 112P G3-B omni-directional EW sy...</td>\n",
       "      <td>Understock.com</td>\n",
       "      <td>18.58</td>\n",
       "      <td>6</td>\n",
       "      <td>111.48</td>\n",
       "    </tr>\n",
       "    <tr>\n",
       "      <th>14045</th>\n",
       "      <td>I&amp;S/WIH-08645</td>\n",
       "      <td>Wiha 26598 Nut Driver Set, Metric In Canvas Po...</td>\n",
       "      <td>Shoppe.com</td>\n",
       "      <td>16.56</td>\n",
       "      <td>62</td>\n",
       "      <td>1026.72</td>\n",
       "    </tr>\n",
       "    <tr>\n",
       "      <th>14046</th>\n",
       "      <td>H&amp;K/KIK-91404</td>\n",
       "      <td>Kikkerland Magnetic Decision Maker</td>\n",
       "      <td>iBay.com</td>\n",
       "      <td>3.64</td>\n",
       "      <td>15</td>\n",
       "      <td>54.60</td>\n",
       "    </tr>\n",
       "    <tr>\n",
       "      <th>14047</th>\n",
       "      <td>T&amp;G/YU--76445</td>\n",
       "      <td>Yu-Gi-Oh! - Light-Imprisoning Mirror (GLAS-EN0...</td>\n",
       "      <td>Understock.com</td>\n",
       "      <td>4.50</td>\n",
       "      <td>4</td>\n",
       "      <td>18.00</td>\n",
       "    </tr>\n",
       "    <tr>\n",
       "      <th>14048</th>\n",
       "      <td>T&amp;G/LAU-88048</td>\n",
       "      <td>Lauri Toddler Tote</td>\n",
       "      <td>iBay.com</td>\n",
       "      <td>14.46</td>\n",
       "      <td>1</td>\n",
       "      <td>14.46</td>\n",
       "    </tr>\n",
       "    <tr>\n",
       "      <th>14049</th>\n",
       "      <td>E/AC-63975</td>\n",
       "      <td>AC Adapter/Power Supply&amp;Cord for Lenovo 3000 G...</td>\n",
       "      <td>Bullseye</td>\n",
       "      <td>28.72</td>\n",
       "      <td>8</td>\n",
       "      <td>229.76</td>\n",
       "    </tr>\n",
       "    <tr>\n",
       "      <th>14050</th>\n",
       "      <td>E/CIS-74992</td>\n",
       "      <td>Cisco Systems Gigabit VPN Router (RV320K9NA)</td>\n",
       "      <td>Bullseye</td>\n",
       "      <td>33.39</td>\n",
       "      <td>1</td>\n",
       "      <td>33.39</td>\n",
       "    </tr>\n",
       "    <tr>\n",
       "      <th>14051</th>\n",
       "      <td>E/PHI-08100</td>\n",
       "      <td>Philips AJ3116M/37 Digital Tuning Clock Radio ...</td>\n",
       "      <td>Understock.com</td>\n",
       "      <td>4.18</td>\n",
       "      <td>1</td>\n",
       "      <td>4.18</td>\n",
       "    </tr>\n",
       "    <tr>\n",
       "      <th>14052</th>\n",
       "      <td>E/POL-61164</td>\n",
       "      <td>NaN</td>\n",
       "      <td>iBay.com</td>\n",
       "      <td>4.78</td>\n",
       "      <td>25</td>\n",
       "      <td>119.50</td>\n",
       "    </tr>\n",
       "    <tr>\n",
       "      <th>14053</th>\n",
       "      <td>E/SIR-83381</td>\n",
       "      <td>Sirius Satellite Radio XADH2 Home Access Kit f...</td>\n",
       "      <td>Understock.com</td>\n",
       "      <td>33.16</td>\n",
       "      <td>2</td>\n",
       "      <td>66.32</td>\n",
       "    </tr>\n",
       "  </tbody>\n",
       "</table>\n",
       "</div>"
      ],
      "text/plain": [
       "           ProductID                                       Product Name  \\\n",
       "14044   MI/SEN-01085  Sennheiser EW 112P G3-B omni-directional EW sy...   \n",
       "14045  I&S/WIH-08645  Wiha 26598 Nut Driver Set, Metric In Canvas Po...   \n",
       "14046  H&K/KIK-91404                 Kikkerland Magnetic Decision Maker   \n",
       "14047  T&G/YU--76445  Yu-Gi-Oh! - Light-Imprisoning Mirror (GLAS-EN0...   \n",
       "14048  T&G/LAU-88048                                 Lauri Toddler Tote   \n",
       "14049     E/AC-63975  AC Adapter/Power Supply&Cord for Lenovo 3000 G...   \n",
       "14050    E/CIS-74992       Cisco Systems Gigabit VPN Router (RV320K9NA)   \n",
       "14051    E/PHI-08100  Philips AJ3116M/37 Digital Tuning Clock Radio ...   \n",
       "14052    E/POL-61164                                                NaN   \n",
       "14053    E/SIR-83381  Sirius Satellite Radio XADH2 Home Access Kit f...   \n",
       "\n",
       "              Channel  Unit Price  Quantity    Total  \n",
       "14044  Understock.com       18.58         6   111.48  \n",
       "14045      Shoppe.com       16.56        62  1026.72  \n",
       "14046        iBay.com        3.64        15    54.60  \n",
       "14047  Understock.com        4.50         4    18.00  \n",
       "14048        iBay.com       14.46         1    14.46  \n",
       "14049        Bullseye       28.72         8   229.76  \n",
       "14050        Bullseye       33.39         1    33.39  \n",
       "14051  Understock.com        4.18         1     4.18  \n",
       "14052        iBay.com        4.78        25   119.50  \n",
       "14053  Understock.com       33.16         2    66.32  "
      ]
     },
     "execution_count": 6,
     "metadata": {},
     "output_type": "execute_result"
    }
   ],
   "source": [
    "sample_df"
   ]
  },
  {
   "cell_type": "code",
   "execution_count": 7,
   "id": "lined-grounds",
   "metadata": {
    "slideshow": {
     "slide_type": "slide"
    },
    "tags": []
   },
   "outputs": [
    {
     "data": {
      "text/html": [
       "<div>\n",
       "<style scoped>\n",
       "    .dataframe tbody tr th:only-of-type {\n",
       "        vertical-align: middle;\n",
       "    }\n",
       "\n",
       "    .dataframe tbody tr th {\n",
       "        vertical-align: top;\n",
       "    }\n",
       "\n",
       "    .dataframe thead th {\n",
       "        text-align: right;\n",
       "    }\n",
       "</style>\n",
       "<table border=\"1\" class=\"dataframe\">\n",
       "  <thead>\n",
       "    <tr style=\"text-align: right;\">\n",
       "      <th></th>\n",
       "      <th>Total</th>\n",
       "    </tr>\n",
       "    <tr>\n",
       "      <th>Channel</th>\n",
       "      <th></th>\n",
       "    </tr>\n",
       "  </thead>\n",
       "  <tbody>\n",
       "    <tr>\n",
       "      <th>Bullseye</th>\n",
       "      <td>263.15</td>\n",
       "    </tr>\n",
       "    <tr>\n",
       "      <th>Shoppe.com</th>\n",
       "      <td>1026.72</td>\n",
       "    </tr>\n",
       "    <tr>\n",
       "      <th>Understock.com</th>\n",
       "      <td>199.98</td>\n",
       "    </tr>\n",
       "    <tr>\n",
       "      <th>iBay.com</th>\n",
       "      <td>188.56</td>\n",
       "    </tr>\n",
       "  </tbody>\n",
       "</table>\n",
       "</div>"
      ],
      "text/plain": [
       "                  Total\n",
       "Channel                \n",
       "Bullseye         263.15\n",
       "Shoppe.com      1026.72\n",
       "Understock.com   199.98\n",
       "iBay.com         188.56"
      ]
     },
     "execution_count": 7,
     "metadata": {},
     "output_type": "execute_result"
    }
   ],
   "source": [
    "sample_df.groupby('Channel').agg({'Total': 'sum'})"
   ]
  },
  {
   "cell_type": "markdown",
   "id": "portuguese-complaint",
   "metadata": {
    "slideshow": {
     "slide_type": "slide"
    }
   },
   "source": [
    "### The pandas group object"
   ]
  },
  {
   "cell_type": "code",
   "execution_count": 8,
   "id": "committed-copying",
   "metadata": {
    "slideshow": {
     "slide_type": "slide"
    },
    "tags": []
   },
   "outputs": [],
   "source": [
    "groups = sample_df.groupby('Channel')"
   ]
  },
  {
   "cell_type": "code",
   "execution_count": 9,
   "id": "broad-overhead",
   "metadata": {
    "slideshow": {
     "slide_type": "slide"
    },
    "tags": []
   },
   "outputs": [
    {
     "data": {
      "text/plain": [
       "pandas.core.groupby.generic.DataFrameGroupBy"
      ]
     },
     "execution_count": 9,
     "metadata": {},
     "output_type": "execute_result"
    }
   ],
   "source": [
    "type(groups)"
   ]
  },
  {
   "cell_type": "code",
   "execution_count": 10,
   "id": "secondary-geology",
   "metadata": {
    "slideshow": {
     "slide_type": "slide"
    },
    "tags": []
   },
   "outputs": [
    {
     "data": {
      "text/plain": [
       "{'Bullseye': [14049, 14050], 'Shoppe.com': [14045], 'Understock.com': [14044, 14047, 14051, 14053], 'iBay.com': [14046, 14048, 14052]}"
      ]
     },
     "execution_count": 10,
     "metadata": {},
     "output_type": "execute_result"
    }
   ],
   "source": [
    "groups.groups"
   ]
  },
  {
   "cell_type": "code",
   "execution_count": 11,
   "id": "sweet-settlement",
   "metadata": {
    "slideshow": {
     "slide_type": "slide"
    },
    "tags": []
   },
   "outputs": [
    {
     "data": {
      "text/html": [
       "<div>\n",
       "<style scoped>\n",
       "    .dataframe tbody tr th:only-of-type {\n",
       "        vertical-align: middle;\n",
       "    }\n",
       "\n",
       "    .dataframe tbody tr th {\n",
       "        vertical-align: top;\n",
       "    }\n",
       "\n",
       "    .dataframe thead th {\n",
       "        text-align: right;\n",
       "    }\n",
       "</style>\n",
       "<table border=\"1\" class=\"dataframe\">\n",
       "  <thead>\n",
       "    <tr style=\"text-align: right;\">\n",
       "      <th></th>\n",
       "      <th>ProductID</th>\n",
       "      <th>Product Name</th>\n",
       "      <th>Channel</th>\n",
       "      <th>Unit Price</th>\n",
       "      <th>Quantity</th>\n",
       "      <th>Total</th>\n",
       "    </tr>\n",
       "  </thead>\n",
       "  <tbody>\n",
       "    <tr>\n",
       "      <th>14049</th>\n",
       "      <td>E/AC-63975</td>\n",
       "      <td>AC Adapter/Power Supply&amp;Cord for Lenovo 3000 G...</td>\n",
       "      <td>Bullseye</td>\n",
       "      <td>28.72</td>\n",
       "      <td>8</td>\n",
       "      <td>229.76</td>\n",
       "    </tr>\n",
       "    <tr>\n",
       "      <th>14050</th>\n",
       "      <td>E/CIS-74992</td>\n",
       "      <td>Cisco Systems Gigabit VPN Router (RV320K9NA)</td>\n",
       "      <td>Bullseye</td>\n",
       "      <td>33.39</td>\n",
       "      <td>1</td>\n",
       "      <td>33.39</td>\n",
       "    </tr>\n",
       "  </tbody>\n",
       "</table>\n",
       "</div>"
      ],
      "text/plain": [
       "         ProductID                                       Product Name  \\\n",
       "14049   E/AC-63975  AC Adapter/Power Supply&Cord for Lenovo 3000 G...   \n",
       "14050  E/CIS-74992       Cisco Systems Gigabit VPN Router (RV320K9NA)   \n",
       "\n",
       "        Channel  Unit Price  Quantity   Total  \n",
       "14049  Bullseye       28.72         8  229.76  \n",
       "14050  Bullseye       33.39         1   33.39  "
      ]
     },
     "execution_count": 11,
     "metadata": {},
     "output_type": "execute_result"
    }
   ],
   "source": [
    "groups.get_group('Bullseye')"
   ]
  },
  {
   "cell_type": "code",
   "execution_count": 12,
   "id": "ruled-radical",
   "metadata": {
    "slideshow": {
     "slide_type": "slide"
    },
    "tags": []
   },
   "outputs": [
    {
     "data": {
      "text/plain": [
       "14049    229.76\n",
       "14050     33.39\n",
       "Name: Total, dtype: float64"
      ]
     },
     "execution_count": 12,
     "metadata": {},
     "output_type": "execute_result"
    }
   ],
   "source": [
    "groups['Total'].get_group('Bullseye')"
   ]
  },
  {
   "cell_type": "code",
   "execution_count": 13,
   "id": "latest-investing",
   "metadata": {
    "slideshow": {
     "slide_type": "slide"
    },
    "tags": []
   },
   "outputs": [
    {
     "data": {
      "text/html": [
       "<div>\n",
       "<style scoped>\n",
       "    .dataframe tbody tr th:only-of-type {\n",
       "        vertical-align: middle;\n",
       "    }\n",
       "\n",
       "    .dataframe tbody tr th {\n",
       "        vertical-align: top;\n",
       "    }\n",
       "\n",
       "    .dataframe thead th {\n",
       "        text-align: right;\n",
       "    }\n",
       "</style>\n",
       "<table border=\"1\" class=\"dataframe\">\n",
       "  <thead>\n",
       "    <tr style=\"text-align: right;\">\n",
       "      <th></th>\n",
       "      <th>Quantity</th>\n",
       "      <th>Total</th>\n",
       "    </tr>\n",
       "  </thead>\n",
       "  <tbody>\n",
       "    <tr>\n",
       "      <th>14049</th>\n",
       "      <td>8</td>\n",
       "      <td>229.76</td>\n",
       "    </tr>\n",
       "    <tr>\n",
       "      <th>14050</th>\n",
       "      <td>1</td>\n",
       "      <td>33.39</td>\n",
       "    </tr>\n",
       "  </tbody>\n",
       "</table>\n",
       "</div>"
      ],
      "text/plain": [
       "       Quantity   Total\n",
       "14049         8  229.76\n",
       "14050         1   33.39"
      ]
     },
     "execution_count": 13,
     "metadata": {},
     "output_type": "execute_result"
    }
   ],
   "source": [
    "groups[['Quantity', 'Total']].get_group('Bullseye')"
   ]
  },
  {
   "cell_type": "code",
   "execution_count": 14,
   "id": "celtic-england",
   "metadata": {
    "slideshow": {
     "slide_type": "slide"
    },
    "tags": []
   },
   "outputs": [
    {
     "data": {
      "text/plain": [
       "Channel\n",
       "Bullseye           263.15\n",
       "Shoppe.com        1026.72\n",
       "Understock.com     199.98\n",
       "iBay.com           188.56\n",
       "Name: Total, dtype: float64"
      ]
     },
     "execution_count": 14,
     "metadata": {},
     "output_type": "execute_result"
    }
   ],
   "source": [
    "groups['Total'].sum()"
   ]
  },
  {
   "cell_type": "code",
   "execution_count": 15,
   "id": "federal-candy",
   "metadata": {
    "slideshow": {
     "slide_type": "slide"
    },
    "tags": []
   },
   "outputs": [
    {
     "data": {
      "text/html": [
       "<div>\n",
       "<style scoped>\n",
       "    .dataframe tbody tr th:only-of-type {\n",
       "        vertical-align: middle;\n",
       "    }\n",
       "\n",
       "    .dataframe tbody tr th {\n",
       "        vertical-align: top;\n",
       "    }\n",
       "\n",
       "    .dataframe thead th {\n",
       "        text-align: right;\n",
       "    }\n",
       "</style>\n",
       "<table border=\"1\" class=\"dataframe\">\n",
       "  <thead>\n",
       "    <tr style=\"text-align: right;\">\n",
       "      <th></th>\n",
       "      <th>Quantity</th>\n",
       "      <th>Total</th>\n",
       "    </tr>\n",
       "    <tr>\n",
       "      <th>Channel</th>\n",
       "      <th></th>\n",
       "      <th></th>\n",
       "    </tr>\n",
       "  </thead>\n",
       "  <tbody>\n",
       "    <tr>\n",
       "      <th>Bullseye</th>\n",
       "      <td>9</td>\n",
       "      <td>263.15</td>\n",
       "    </tr>\n",
       "    <tr>\n",
       "      <th>Shoppe.com</th>\n",
       "      <td>62</td>\n",
       "      <td>1026.72</td>\n",
       "    </tr>\n",
       "    <tr>\n",
       "      <th>Understock.com</th>\n",
       "      <td>13</td>\n",
       "      <td>199.98</td>\n",
       "    </tr>\n",
       "    <tr>\n",
       "      <th>iBay.com</th>\n",
       "      <td>41</td>\n",
       "      <td>188.56</td>\n",
       "    </tr>\n",
       "  </tbody>\n",
       "</table>\n",
       "</div>"
      ],
      "text/plain": [
       "                Quantity    Total\n",
       "Channel                          \n",
       "Bullseye               9   263.15\n",
       "Shoppe.com            62  1026.72\n",
       "Understock.com        13   199.98\n",
       "iBay.com              41   188.56"
      ]
     },
     "execution_count": 15,
     "metadata": {},
     "output_type": "execute_result"
    }
   ],
   "source": [
    "groups[['Quantity', 'Total']].sum()"
   ]
  },
  {
   "cell_type": "code",
   "execution_count": 16,
   "id": "sacred-removal",
   "metadata": {
    "slideshow": {
     "slide_type": "slide"
    },
    "tags": []
   },
   "outputs": [
    {
     "data": {
      "text/plain": [
       "Channel\n",
       "Bullseye           263.15\n",
       "Shoppe.com        1026.72\n",
       "Understock.com     199.98\n",
       "iBay.com           188.56\n",
       "Name: Total, dtype: float64"
      ]
     },
     "execution_count": 16,
     "metadata": {},
     "output_type": "execute_result"
    }
   ],
   "source": [
    "sample_df.groupby('Channel')['Total'].sum()"
   ]
  },
  {
   "cell_type": "markdown",
   "id": "south-retreat",
   "metadata": {
    "slideshow": {
     "slide_type": "slide"
    }
   },
   "source": [
    "### Aggregating group functions"
   ]
  },
  {
   "cell_type": "code",
   "execution_count": 17,
   "id": "reduced-divide",
   "metadata": {
    "slideshow": {
     "slide_type": "slide"
    },
    "tags": []
   },
   "outputs": [
    {
     "data": {
      "text/html": [
       "<div>\n",
       "<style scoped>\n",
       "    .dataframe tbody tr th:only-of-type {\n",
       "        vertical-align: middle;\n",
       "    }\n",
       "\n",
       "    .dataframe tbody tr th {\n",
       "        vertical-align: top;\n",
       "    }\n",
       "\n",
       "    .dataframe thead th {\n",
       "        text-align: right;\n",
       "    }\n",
       "</style>\n",
       "<table border=\"1\" class=\"dataframe\">\n",
       "  <thead>\n",
       "    <tr style=\"text-align: right;\">\n",
       "      <th></th>\n",
       "      <th>Total</th>\n",
       "    </tr>\n",
       "    <tr>\n",
       "      <th>Channel</th>\n",
       "      <th></th>\n",
       "    </tr>\n",
       "  </thead>\n",
       "  <tbody>\n",
       "    <tr>\n",
       "      <th>Bullseye</th>\n",
       "      <td>263.15</td>\n",
       "    </tr>\n",
       "    <tr>\n",
       "      <th>Shoppe.com</th>\n",
       "      <td>1026.72</td>\n",
       "    </tr>\n",
       "    <tr>\n",
       "      <th>Understock.com</th>\n",
       "      <td>199.98</td>\n",
       "    </tr>\n",
       "    <tr>\n",
       "      <th>iBay.com</th>\n",
       "      <td>188.56</td>\n",
       "    </tr>\n",
       "  </tbody>\n",
       "</table>\n",
       "</div>"
      ],
      "text/plain": [
       "                  Total\n",
       "Channel                \n",
       "Bullseye         263.15\n",
       "Shoppe.com      1026.72\n",
       "Understock.com   199.98\n",
       "iBay.com         188.56"
      ]
     },
     "execution_count": 17,
     "metadata": {},
     "output_type": "execute_result"
    }
   ],
   "source": [
    "# this works as well\n",
    "# sample_df.groupby('Channel')['Total'].agg('sum')\n",
    "sample_df.groupby('Channel').agg({'Total': 'sum'})"
   ]
  },
  {
   "cell_type": "code",
   "execution_count": 18,
   "id": "tribal-rental",
   "metadata": {
    "slideshow": {
     "slide_type": "slide"
    },
    "tags": []
   },
   "outputs": [
    {
     "data": {
      "text/html": [
       "<div>\n",
       "<style scoped>\n",
       "    .dataframe tbody tr th:only-of-type {\n",
       "        vertical-align: middle;\n",
       "    }\n",
       "\n",
       "    .dataframe tbody tr th {\n",
       "        vertical-align: top;\n",
       "    }\n",
       "\n",
       "    .dataframe thead tr th {\n",
       "        text-align: left;\n",
       "    }\n",
       "\n",
       "    .dataframe thead tr:last-of-type th {\n",
       "        text-align: right;\n",
       "    }\n",
       "</style>\n",
       "<table border=\"1\" class=\"dataframe\">\n",
       "  <thead>\n",
       "    <tr>\n",
       "      <th></th>\n",
       "      <th colspan=\"2\" halign=\"left\">Total</th>\n",
       "      <th colspan=\"3\" halign=\"left\">Quantity</th>\n",
       "    </tr>\n",
       "    <tr>\n",
       "      <th></th>\n",
       "      <th>sum</th>\n",
       "      <th>mean</th>\n",
       "      <th>sum</th>\n",
       "      <th>max</th>\n",
       "      <th>min</th>\n",
       "    </tr>\n",
       "    <tr>\n",
       "      <th>Channel</th>\n",
       "      <th></th>\n",
       "      <th></th>\n",
       "      <th></th>\n",
       "      <th></th>\n",
       "      <th></th>\n",
       "    </tr>\n",
       "  </thead>\n",
       "  <tbody>\n",
       "    <tr>\n",
       "      <th>Bullseye</th>\n",
       "      <td>263.15</td>\n",
       "      <td>131.575000</td>\n",
       "      <td>9</td>\n",
       "      <td>8</td>\n",
       "      <td>1</td>\n",
       "    </tr>\n",
       "    <tr>\n",
       "      <th>Shoppe.com</th>\n",
       "      <td>1026.72</td>\n",
       "      <td>1026.720000</td>\n",
       "      <td>62</td>\n",
       "      <td>62</td>\n",
       "      <td>62</td>\n",
       "    </tr>\n",
       "    <tr>\n",
       "      <th>Understock.com</th>\n",
       "      <td>199.98</td>\n",
       "      <td>49.995000</td>\n",
       "      <td>13</td>\n",
       "      <td>6</td>\n",
       "      <td>1</td>\n",
       "    </tr>\n",
       "    <tr>\n",
       "      <th>iBay.com</th>\n",
       "      <td>188.56</td>\n",
       "      <td>62.853333</td>\n",
       "      <td>41</td>\n",
       "      <td>25</td>\n",
       "      <td>1</td>\n",
       "    </tr>\n",
       "  </tbody>\n",
       "</table>\n",
       "</div>"
      ],
      "text/plain": [
       "                  Total              Quantity        \n",
       "                    sum         mean      sum max min\n",
       "Channel                                              \n",
       "Bullseye         263.15   131.575000        9   8   1\n",
       "Shoppe.com      1026.72  1026.720000       62  62  62\n",
       "Understock.com   199.98    49.995000       13   6   1\n",
       "iBay.com         188.56    62.853333       41  25   1"
      ]
     },
     "execution_count": 18,
     "metadata": {},
     "output_type": "execute_result"
    }
   ],
   "source": [
    "(sample_df\n",
    "    .groupby('Channel').agg({\n",
    "        'Total': ['sum', 'mean'],\n",
    "        'Quantity': ['sum', 'max', 'min']\n",
    "    })\n",
    ") "
   ]
  },
  {
   "cell_type": "code",
   "execution_count": 19,
   "id": "mechanical-savage",
   "metadata": {
    "slideshow": {
     "slide_type": "slide"
    },
    "tags": []
   },
   "outputs": [
    {
     "data": {
      "text/plain": [
       "Channel\n",
       "Bullseye           8\n",
       "Shoppe.com        62\n",
       "Understock.com     6\n",
       "iBay.com          25\n",
       "Name: (Quantity, max), dtype: int64"
      ]
     },
     "execution_count": 19,
     "metadata": {},
     "output_type": "execute_result"
    }
   ],
   "source": [
    "# assigns the output above\n",
    "# to another variable \n",
    "aggregate_df = (\n",
    "  sample_df\n",
    "    .groupby('Channel').agg({\n",
    "        'Total': ['sum', 'mean'],\n",
    "        'Quantity': ['sum', 'max', 'min']\n",
    "    })\n",
    ") \n",
    "\n",
    "# selects the max column under Quantity\n",
    "aggregate_df.loc[:, ('Quantity', 'max')]"
   ]
  },
  {
   "cell_type": "code",
   "execution_count": 20,
   "id": "sensitive-tutorial",
   "metadata": {
    "slideshow": {
     "slide_type": "slide"
    },
    "tags": []
   },
   "outputs": [
    {
     "data": {
      "text/html": [
       "<div>\n",
       "<style scoped>\n",
       "    .dataframe tbody tr th:only-of-type {\n",
       "        vertical-align: middle;\n",
       "    }\n",
       "\n",
       "    .dataframe tbody tr th {\n",
       "        vertical-align: top;\n",
       "    }\n",
       "\n",
       "    .dataframe thead th {\n",
       "        text-align: right;\n",
       "    }\n",
       "</style>\n",
       "<table border=\"1\" class=\"dataframe\">\n",
       "  <thead>\n",
       "    <tr style=\"text-align: right;\">\n",
       "      <th></th>\n",
       "      <th>sum</th>\n",
       "      <th>max</th>\n",
       "      <th>min</th>\n",
       "    </tr>\n",
       "    <tr>\n",
       "      <th>Channel</th>\n",
       "      <th></th>\n",
       "      <th></th>\n",
       "      <th></th>\n",
       "    </tr>\n",
       "  </thead>\n",
       "  <tbody>\n",
       "    <tr>\n",
       "      <th>Bullseye</th>\n",
       "      <td>9</td>\n",
       "      <td>8</td>\n",
       "      <td>1</td>\n",
       "    </tr>\n",
       "    <tr>\n",
       "      <th>Shoppe.com</th>\n",
       "      <td>62</td>\n",
       "      <td>62</td>\n",
       "      <td>62</td>\n",
       "    </tr>\n",
       "    <tr>\n",
       "      <th>Understock.com</th>\n",
       "      <td>13</td>\n",
       "      <td>6</td>\n",
       "      <td>1</td>\n",
       "    </tr>\n",
       "    <tr>\n",
       "      <th>iBay.com</th>\n",
       "      <td>41</td>\n",
       "      <td>25</td>\n",
       "      <td>1</td>\n",
       "    </tr>\n",
       "  </tbody>\n",
       "</table>\n",
       "</div>"
      ],
      "text/plain": [
       "                sum  max  min\n",
       "Channel                      \n",
       "Bullseye          9    8    1\n",
       "Shoppe.com       62   62   62\n",
       "Understock.com   13    6    1\n",
       "iBay.com         41   25    1"
      ]
     },
     "execution_count": 20,
     "metadata": {},
     "output_type": "execute_result"
    }
   ],
   "source": [
    "aggregate_df.loc[:, 'Quantity']"
   ]
  },
  {
   "cell_type": "markdown",
   "id": "endless-assistant",
   "metadata": {
    "slideshow": {
     "slide_type": "slide"
    }
   },
   "source": [
    "#### Custom aggregating functions"
   ]
  },
  {
   "cell_type": "code",
   "execution_count": 21,
   "id": "central-selection",
   "metadata": {
    "slideshow": {
     "slide_type": "slide"
    },
    "tags": []
   },
   "outputs": [
    {
     "data": {
      "text/html": [
       "<div>\n",
       "<style scoped>\n",
       "    .dataframe tbody tr th:only-of-type {\n",
       "        vertical-align: middle;\n",
       "    }\n",
       "\n",
       "    .dataframe tbody tr th {\n",
       "        vertical-align: top;\n",
       "    }\n",
       "\n",
       "    .dataframe thead tr th {\n",
       "        text-align: left;\n",
       "    }\n",
       "\n",
       "    .dataframe thead tr:last-of-type th {\n",
       "        text-align: right;\n",
       "    }\n",
       "</style>\n",
       "<table border=\"1\" class=\"dataframe\">\n",
       "  <thead>\n",
       "    <tr>\n",
       "      <th></th>\n",
       "      <th colspan=\"3\" halign=\"left\">Total</th>\n",
       "    </tr>\n",
       "    <tr>\n",
       "      <th></th>\n",
       "      <th>min</th>\n",
       "      <th>max</th>\n",
       "      <th>total_diff</th>\n",
       "    </tr>\n",
       "    <tr>\n",
       "      <th>Channel</th>\n",
       "      <th></th>\n",
       "      <th></th>\n",
       "      <th></th>\n",
       "    </tr>\n",
       "  </thead>\n",
       "  <tbody>\n",
       "    <tr>\n",
       "      <th>Bullseye</th>\n",
       "      <td>33.39</td>\n",
       "      <td>229.76</td>\n",
       "      <td>196.37</td>\n",
       "    </tr>\n",
       "    <tr>\n",
       "      <th>Shoppe.com</th>\n",
       "      <td>1026.72</td>\n",
       "      <td>1026.72</td>\n",
       "      <td>0.00</td>\n",
       "    </tr>\n",
       "    <tr>\n",
       "      <th>Understock.com</th>\n",
       "      <td>4.18</td>\n",
       "      <td>111.48</td>\n",
       "      <td>107.30</td>\n",
       "    </tr>\n",
       "    <tr>\n",
       "      <th>iBay.com</th>\n",
       "      <td>14.46</td>\n",
       "      <td>119.50</td>\n",
       "      <td>105.04</td>\n",
       "    </tr>\n",
       "  </tbody>\n",
       "</table>\n",
       "</div>"
      ],
      "text/plain": [
       "                  Total                    \n",
       "                    min      max total_diff\n",
       "Channel                                    \n",
       "Bullseye          33.39   229.76     196.37\n",
       "Shoppe.com      1026.72  1026.72       0.00\n",
       "Understock.com     4.18   111.48     107.30\n",
       "iBay.com          14.46   119.50     105.04"
      ]
     },
     "execution_count": 21,
     "metadata": {},
     "output_type": "execute_result"
    }
   ],
   "source": [
    "def total_diff(column):\n",
    "    return column.max() - column.min()    \n",
    "\n",
    "sample_df.groupby('Channel').agg({'Total': ['min', 'max', total_diff]})"
   ]
  },
  {
   "cell_type": "markdown",
   "id": "sealed-airplane",
   "metadata": {
    "slideshow": {
     "slide_type": "slide"
    }
   },
   "source": [
    "### Overthinking: Other group functions"
   ]
  },
  {
   "cell_type": "code",
   "execution_count": 23,
   "id": "dated-equality",
   "metadata": {
    "slideshow": {
     "slide_type": "slide"
    },
    "tags": []
   },
   "outputs": [
    {
     "data": {
      "text/html": [
       "<div>\n",
       "<style scoped>\n",
       "    .dataframe tbody tr th:only-of-type {\n",
       "        vertical-align: middle;\n",
       "    }\n",
       "\n",
       "    .dataframe tbody tr th {\n",
       "        vertical-align: top;\n",
       "    }\n",
       "\n",
       "    .dataframe thead th {\n",
       "        text-align: right;\n",
       "    }\n",
       "</style>\n",
       "<table border=\"1\" class=\"dataframe\">\n",
       "  <thead>\n",
       "    <tr style=\"text-align: right;\">\n",
       "      <th></th>\n",
       "      <th></th>\n",
       "      <th>ProductID</th>\n",
       "      <th>Product Name</th>\n",
       "      <th>Channel</th>\n",
       "      <th>Unit Price</th>\n",
       "      <th>Quantity</th>\n",
       "      <th>Total</th>\n",
       "    </tr>\n",
       "    <tr>\n",
       "      <th>Channel</th>\n",
       "      <th></th>\n",
       "      <th></th>\n",
       "      <th></th>\n",
       "      <th></th>\n",
       "      <th></th>\n",
       "      <th></th>\n",
       "      <th></th>\n",
       "    </tr>\n",
       "  </thead>\n",
       "  <tbody>\n",
       "    <tr>\n",
       "      <th rowspan=\"2\" valign=\"top\">Bullseye</th>\n",
       "      <th>14049</th>\n",
       "      <td>E/AC-63975</td>\n",
       "      <td>AC Adapter/Power Supply&amp;Cord for Lenovo 3000 G...</td>\n",
       "      <td>Bullseye</td>\n",
       "      <td>28.72</td>\n",
       "      <td>8</td>\n",
       "      <td>229.76</td>\n",
       "    </tr>\n",
       "    <tr>\n",
       "      <th>14050</th>\n",
       "      <td>E/CIS-74992</td>\n",
       "      <td>Cisco Systems Gigabit VPN Router (RV320K9NA)</td>\n",
       "      <td>Bullseye</td>\n",
       "      <td>33.39</td>\n",
       "      <td>1</td>\n",
       "      <td>33.39</td>\n",
       "    </tr>\n",
       "    <tr>\n",
       "      <th>Shoppe.com</th>\n",
       "      <th>14045</th>\n",
       "      <td>I&amp;S/WIH-08645</td>\n",
       "      <td>Wiha 26598 Nut Driver Set, Metric In Canvas Po...</td>\n",
       "      <td>Shoppe.com</td>\n",
       "      <td>16.56</td>\n",
       "      <td>62</td>\n",
       "      <td>1026.72</td>\n",
       "    </tr>\n",
       "  </tbody>\n",
       "</table>\n",
       "</div>"
      ],
      "text/plain": [
       "                      ProductID  \\\n",
       "Channel                           \n",
       "Bullseye   14049     E/AC-63975   \n",
       "           14050    E/CIS-74992   \n",
       "Shoppe.com 14045  I&S/WIH-08645   \n",
       "\n",
       "                                                       Product Name  \\\n",
       "Channel                                                               \n",
       "Bullseye   14049  AC Adapter/Power Supply&Cord for Lenovo 3000 G...   \n",
       "           14050       Cisco Systems Gigabit VPN Router (RV320K9NA)   \n",
       "Shoppe.com 14045  Wiha 26598 Nut Driver Set, Metric In Canvas Po...   \n",
       "\n",
       "                     Channel  Unit Price  Quantity    Total  \n",
       "Channel                                                      \n",
       "Bullseye   14049    Bullseye       28.72         8   229.76  \n",
       "           14050    Bullseye       33.39         1    33.39  \n",
       "Shoppe.com 14045  Shoppe.com       16.56        62  1026.72  "
      ]
     },
     "execution_count": 23,
     "metadata": {},
     "output_type": "execute_result"
    }
   ],
   "source": [
    "def filter_group(group_df):\n",
    "    return group_df if group_df['Total'].sum() > 200 else None\n",
    "\n",
    "sample_df.groupby('Channel').apply(filter_group)"
   ]
  },
  {
   "cell_type": "code",
   "execution_count": 24,
   "id": "violent-jewel",
   "metadata": {
    "slideshow": {
     "slide_type": "slide"
    },
    "tags": []
   },
   "outputs": [
    {
     "data": {
      "text/html": [
       "<div>\n",
       "<style scoped>\n",
       "    .dataframe tbody tr th:only-of-type {\n",
       "        vertical-align: middle;\n",
       "    }\n",
       "\n",
       "    .dataframe tbody tr th {\n",
       "        vertical-align: top;\n",
       "    }\n",
       "\n",
       "    .dataframe thead th {\n",
       "        text-align: right;\n",
       "    }\n",
       "</style>\n",
       "<table border=\"1\" class=\"dataframe\">\n",
       "  <thead>\n",
       "    <tr style=\"text-align: right;\">\n",
       "      <th></th>\n",
       "      <th>ProductID</th>\n",
       "      <th>Product Name</th>\n",
       "      <th>Channel</th>\n",
       "      <th>Unit Price</th>\n",
       "      <th>Quantity</th>\n",
       "      <th>Total</th>\n",
       "    </tr>\n",
       "  </thead>\n",
       "  <tbody>\n",
       "    <tr>\n",
       "      <th>0</th>\n",
       "      <td>E/AC-63975</td>\n",
       "      <td>AC Adapter/Power Supply&amp;Cord for Lenovo 3000 G...</td>\n",
       "      <td>Bullseye</td>\n",
       "      <td>28.72</td>\n",
       "      <td>8</td>\n",
       "      <td>229.76</td>\n",
       "    </tr>\n",
       "    <tr>\n",
       "      <th>1</th>\n",
       "      <td>E/CIS-74992</td>\n",
       "      <td>Cisco Systems Gigabit VPN Router (RV320K9NA)</td>\n",
       "      <td>Bullseye</td>\n",
       "      <td>33.39</td>\n",
       "      <td>1</td>\n",
       "      <td>33.39</td>\n",
       "    </tr>\n",
       "    <tr>\n",
       "      <th>2</th>\n",
       "      <td>I&amp;S/WIH-08645</td>\n",
       "      <td>Wiha 26598 Nut Driver Set, Metric In Canvas Po...</td>\n",
       "      <td>Shoppe.com</td>\n",
       "      <td>16.56</td>\n",
       "      <td>62</td>\n",
       "      <td>1026.72</td>\n",
       "    </tr>\n",
       "  </tbody>\n",
       "</table>\n",
       "</div>"
      ],
      "text/plain": [
       "       ProductID                                       Product Name  \\\n",
       "0     E/AC-63975  AC Adapter/Power Supply&Cord for Lenovo 3000 G...   \n",
       "1    E/CIS-74992       Cisco Systems Gigabit VPN Router (RV320K9NA)   \n",
       "2  I&S/WIH-08645  Wiha 26598 Nut Driver Set, Metric In Canvas Po...   \n",
       "\n",
       "      Channel  Unit Price  Quantity    Total  \n",
       "0    Bullseye       28.72         8   229.76  \n",
       "1    Bullseye       33.39         1    33.39  \n",
       "2  Shoppe.com       16.56        62  1026.72  "
      ]
     },
     "execution_count": 24,
     "metadata": {},
     "output_type": "execute_result"
    }
   ],
   "source": [
    "sample_df.groupby('Channel').apply(filter_group).reset_index(drop=True)"
   ]
  },
  {
   "cell_type": "code",
   "execution_count": 25,
   "id": "spectacular-costs",
   "metadata": {
    "slideshow": {
     "slide_type": "slide"
    },
    "tags": []
   },
   "outputs": [
    {
     "data": {
      "text/html": [
       "<div>\n",
       "<style scoped>\n",
       "    .dataframe tbody tr th:only-of-type {\n",
       "        vertical-align: middle;\n",
       "    }\n",
       "\n",
       "    .dataframe tbody tr th {\n",
       "        vertical-align: top;\n",
       "    }\n",
       "\n",
       "    .dataframe thead th {\n",
       "        text-align: right;\n",
       "    }\n",
       "</style>\n",
       "<table border=\"1\" class=\"dataframe\">\n",
       "  <thead>\n",
       "    <tr style=\"text-align: right;\">\n",
       "      <th></th>\n",
       "      <th>ProductID</th>\n",
       "      <th>Product Name</th>\n",
       "      <th>Channel</th>\n",
       "      <th>Unit Price</th>\n",
       "      <th>Quantity</th>\n",
       "      <th>Total</th>\n",
       "      <th>% Group Total</th>\n",
       "    </tr>\n",
       "  </thead>\n",
       "  <tbody>\n",
       "    <tr>\n",
       "      <th>14044</th>\n",
       "      <td>MI/SEN-01085</td>\n",
       "      <td>Sennheiser EW 112P G3-B omni-directional EW sy...</td>\n",
       "      <td>Understock.com</td>\n",
       "      <td>18.58</td>\n",
       "      <td>6</td>\n",
       "      <td>111.48</td>\n",
       "      <td>55.75</td>\n",
       "    </tr>\n",
       "    <tr>\n",
       "      <th>14045</th>\n",
       "      <td>I&amp;S/WIH-08645</td>\n",
       "      <td>Wiha 26598 Nut Driver Set, Metric In Canvas Po...</td>\n",
       "      <td>Shoppe.com</td>\n",
       "      <td>16.56</td>\n",
       "      <td>62</td>\n",
       "      <td>1026.72</td>\n",
       "      <td>100.00</td>\n",
       "    </tr>\n",
       "    <tr>\n",
       "      <th>14046</th>\n",
       "      <td>H&amp;K/KIK-91404</td>\n",
       "      <td>Kikkerland Magnetic Decision Maker</td>\n",
       "      <td>iBay.com</td>\n",
       "      <td>3.64</td>\n",
       "      <td>15</td>\n",
       "      <td>54.60</td>\n",
       "      <td>28.96</td>\n",
       "    </tr>\n",
       "    <tr>\n",
       "      <th>14047</th>\n",
       "      <td>T&amp;G/YU--76445</td>\n",
       "      <td>Yu-Gi-Oh! - Light-Imprisoning Mirror (GLAS-EN0...</td>\n",
       "      <td>Understock.com</td>\n",
       "      <td>4.50</td>\n",
       "      <td>4</td>\n",
       "      <td>18.00</td>\n",
       "      <td>9.00</td>\n",
       "    </tr>\n",
       "    <tr>\n",
       "      <th>14048</th>\n",
       "      <td>T&amp;G/LAU-88048</td>\n",
       "      <td>Lauri Toddler Tote</td>\n",
       "      <td>iBay.com</td>\n",
       "      <td>14.46</td>\n",
       "      <td>1</td>\n",
       "      <td>14.46</td>\n",
       "      <td>7.67</td>\n",
       "    </tr>\n",
       "    <tr>\n",
       "      <th>14049</th>\n",
       "      <td>E/AC-63975</td>\n",
       "      <td>AC Adapter/Power Supply&amp;Cord for Lenovo 3000 G...</td>\n",
       "      <td>Bullseye</td>\n",
       "      <td>28.72</td>\n",
       "      <td>8</td>\n",
       "      <td>229.76</td>\n",
       "      <td>87.31</td>\n",
       "    </tr>\n",
       "    <tr>\n",
       "      <th>14050</th>\n",
       "      <td>E/CIS-74992</td>\n",
       "      <td>Cisco Systems Gigabit VPN Router (RV320K9NA)</td>\n",
       "      <td>Bullseye</td>\n",
       "      <td>33.39</td>\n",
       "      <td>1</td>\n",
       "      <td>33.39</td>\n",
       "      <td>12.69</td>\n",
       "    </tr>\n",
       "    <tr>\n",
       "      <th>14051</th>\n",
       "      <td>E/PHI-08100</td>\n",
       "      <td>Philips AJ3116M/37 Digital Tuning Clock Radio ...</td>\n",
       "      <td>Understock.com</td>\n",
       "      <td>4.18</td>\n",
       "      <td>1</td>\n",
       "      <td>4.18</td>\n",
       "      <td>2.09</td>\n",
       "    </tr>\n",
       "    <tr>\n",
       "      <th>14052</th>\n",
       "      <td>E/POL-61164</td>\n",
       "      <td>NaN</td>\n",
       "      <td>iBay.com</td>\n",
       "      <td>4.78</td>\n",
       "      <td>25</td>\n",
       "      <td>119.50</td>\n",
       "      <td>63.38</td>\n",
       "    </tr>\n",
       "    <tr>\n",
       "      <th>14053</th>\n",
       "      <td>E/SIR-83381</td>\n",
       "      <td>Sirius Satellite Radio XADH2 Home Access Kit f...</td>\n",
       "      <td>Understock.com</td>\n",
       "      <td>33.16</td>\n",
       "      <td>2</td>\n",
       "      <td>66.32</td>\n",
       "      <td>33.16</td>\n",
       "    </tr>\n",
       "  </tbody>\n",
       "</table>\n",
       "</div>"
      ],
      "text/plain": [
       "           ProductID                                       Product Name  \\\n",
       "14044   MI/SEN-01085  Sennheiser EW 112P G3-B omni-directional EW sy...   \n",
       "14045  I&S/WIH-08645  Wiha 26598 Nut Driver Set, Metric In Canvas Po...   \n",
       "14046  H&K/KIK-91404                 Kikkerland Magnetic Decision Maker   \n",
       "14047  T&G/YU--76445  Yu-Gi-Oh! - Light-Imprisoning Mirror (GLAS-EN0...   \n",
       "14048  T&G/LAU-88048                                 Lauri Toddler Tote   \n",
       "14049     E/AC-63975  AC Adapter/Power Supply&Cord for Lenovo 3000 G...   \n",
       "14050    E/CIS-74992       Cisco Systems Gigabit VPN Router (RV320K9NA)   \n",
       "14051    E/PHI-08100  Philips AJ3116M/37 Digital Tuning Clock Radio ...   \n",
       "14052    E/POL-61164                                                NaN   \n",
       "14053    E/SIR-83381  Sirius Satellite Radio XADH2 Home Access Kit f...   \n",
       "\n",
       "              Channel  Unit Price  Quantity    Total  % Group Total  \n",
       "14044  Understock.com       18.58         6   111.48          55.75  \n",
       "14045      Shoppe.com       16.56        62  1026.72         100.00  \n",
       "14046        iBay.com        3.64        15    54.60          28.96  \n",
       "14047  Understock.com        4.50         4    18.00           9.00  \n",
       "14048        iBay.com       14.46         1    14.46           7.67  \n",
       "14049        Bullseye       28.72         8   229.76          87.31  \n",
       "14050        Bullseye       33.39         1    33.39          12.69  \n",
       "14051  Understock.com        4.18         1     4.18           2.09  \n",
       "14052        iBay.com        4.78        25   119.50          63.38  \n",
       "14053  Understock.com       33.16         2    66.32          33.16  "
      ]
     },
     "execution_count": 25,
     "metadata": {},
     "output_type": "execute_result"
    }
   ],
   "source": [
    "def percent_group_total(group_df):    \n",
    "    group_df['% Group Total'] = group_df['Total'] / group_df['Total'].sum() * 100\n",
    "    group_df['% Group Total'] = group_df['% Group Total'].round(2)\n",
    "    \n",
    "    return group_df\n",
    "\n",
    "sample_df.groupby('Channel').apply(percent_group_total)"
   ]
  },
  {
   "cell_type": "markdown",
   "id": "detected-beauty",
   "metadata": {
    "slideshow": {
     "slide_type": "slide"
    }
   },
   "source": [
    "## Stacking and unstacking"
   ]
  },
  {
   "cell_type": "code",
   "execution_count": 26,
   "id": "relative-rochester",
   "metadata": {
    "slideshow": {
     "slide_type": "slide"
    },
    "tags": []
   },
   "outputs": [
    {
     "data": {
      "text/html": [
       "<div>\n",
       "<style scoped>\n",
       "    .dataframe tbody tr th:only-of-type {\n",
       "        vertical-align: middle;\n",
       "    }\n",
       "\n",
       "    .dataframe tbody tr th {\n",
       "        vertical-align: top;\n",
       "    }\n",
       "\n",
       "    .dataframe thead th {\n",
       "        text-align: right;\n",
       "    }\n",
       "</style>\n",
       "<table border=\"1\" class=\"dataframe\">\n",
       "  <thead>\n",
       "    <tr style=\"text-align: right;\">\n",
       "      <th></th>\n",
       "      <th>ProductID</th>\n",
       "      <th>Channel</th>\n",
       "      <th>Total</th>\n",
       "    </tr>\n",
       "  </thead>\n",
       "  <tbody>\n",
       "    <tr>\n",
       "      <th>0</th>\n",
       "      <td>T&amp;G/CAN-97509</td>\n",
       "      <td>Shoppe.com</td>\n",
       "      <td>281.54</td>\n",
       "    </tr>\n",
       "    <tr>\n",
       "      <th>1</th>\n",
       "      <td>T&amp;G/LEG-37777</td>\n",
       "      <td>Walcart</td>\n",
       "      <td>6.70</td>\n",
       "    </tr>\n",
       "    <tr>\n",
       "      <th>2</th>\n",
       "      <td>T&amp;G/PET-14209</td>\n",
       "      <td>Bullseye</td>\n",
       "      <td>58.35</td>\n",
       "    </tr>\n",
       "    <tr>\n",
       "      <th>3</th>\n",
       "      <td>T&amp;G/TRA-20170</td>\n",
       "      <td>Bullseye</td>\n",
       "      <td>80.76</td>\n",
       "    </tr>\n",
       "    <tr>\n",
       "      <th>4</th>\n",
       "      <td>T&amp;G/TRA-20170</td>\n",
       "      <td>Bullseye</td>\n",
       "      <td>80.76</td>\n",
       "    </tr>\n",
       "  </tbody>\n",
       "</table>\n",
       "</div>"
      ],
      "text/plain": [
       "       ProductID     Channel   Total\n",
       "0  T&G/CAN-97509  Shoppe.com  281.54\n",
       "1  T&G/LEG-37777     Walcart    6.70\n",
       "2  T&G/PET-14209    Bullseye   58.35\n",
       "3  T&G/TRA-20170    Bullseye   80.76\n",
       "4  T&G/TRA-20170    Bullseye   80.76"
      ]
     },
     "execution_count": 26,
     "metadata": {},
     "output_type": "execute_result"
    }
   ],
   "source": [
    "columns = ['ProductID', 'Channel', 'Total']\n",
    "sample_df = ledger_df[columns].head()\n",
    "\n",
    "sample_df"
   ]
  },
  {
   "cell_type": "code",
   "execution_count": 27,
   "id": "toxic-grenada",
   "metadata": {
    "slideshow": {
     "slide_type": "slide"
    },
    "tags": []
   },
   "outputs": [
    {
     "data": {
      "text/plain": [
       "0  ProductID    T&G/CAN-97509\n",
       "   Channel         Shoppe.com\n",
       "   Total               281.54\n",
       "1  ProductID    T&G/LEG-37777\n",
       "   Channel            Walcart\n",
       "   Total                  6.7\n",
       "2  ProductID    T&G/PET-14209\n",
       "   Channel           Bullseye\n",
       "   Total                58.35\n",
       "3  ProductID    T&G/TRA-20170\n",
       "   Channel           Bullseye\n",
       "   Total                80.76\n",
       "4  ProductID    T&G/TRA-20170\n",
       "   Channel           Bullseye\n",
       "   Total                80.76\n",
       "dtype: object"
      ]
     },
     "execution_count": 27,
     "metadata": {},
     "output_type": "execute_result"
    }
   ],
   "source": [
    "sample_df.stack()"
   ]
  },
  {
   "cell_type": "code",
   "execution_count": 28,
   "id": "rocky-kuwait",
   "metadata": {
    "slideshow": {
     "slide_type": "slide"
    },
    "tags": []
   },
   "outputs": [
    {
     "data": {
      "text/html": [
       "<div>\n",
       "<style scoped>\n",
       "    .dataframe tbody tr th:only-of-type {\n",
       "        vertical-align: middle;\n",
       "    }\n",
       "\n",
       "    .dataframe tbody tr th {\n",
       "        vertical-align: top;\n",
       "    }\n",
       "\n",
       "    .dataframe thead th {\n",
       "        text-align: right;\n",
       "    }\n",
       "</style>\n",
       "<table border=\"1\" class=\"dataframe\">\n",
       "  <thead>\n",
       "    <tr style=\"text-align: right;\">\n",
       "      <th></th>\n",
       "      <th>ProductID</th>\n",
       "      <th>Channel</th>\n",
       "      <th>Total</th>\n",
       "    </tr>\n",
       "  </thead>\n",
       "  <tbody>\n",
       "    <tr>\n",
       "      <th>0</th>\n",
       "      <td>T&amp;G/CAN-97509</td>\n",
       "      <td>Shoppe.com</td>\n",
       "      <td>281.54</td>\n",
       "    </tr>\n",
       "    <tr>\n",
       "      <th>1</th>\n",
       "      <td>T&amp;G/LEG-37777</td>\n",
       "      <td>Walcart</td>\n",
       "      <td>6.7</td>\n",
       "    </tr>\n",
       "    <tr>\n",
       "      <th>2</th>\n",
       "      <td>T&amp;G/PET-14209</td>\n",
       "      <td>Bullseye</td>\n",
       "      <td>58.35</td>\n",
       "    </tr>\n",
       "    <tr>\n",
       "      <th>3</th>\n",
       "      <td>T&amp;G/TRA-20170</td>\n",
       "      <td>Bullseye</td>\n",
       "      <td>80.76</td>\n",
       "    </tr>\n",
       "    <tr>\n",
       "      <th>4</th>\n",
       "      <td>T&amp;G/TRA-20170</td>\n",
       "      <td>Bullseye</td>\n",
       "      <td>80.76</td>\n",
       "    </tr>\n",
       "  </tbody>\n",
       "</table>\n",
       "</div>"
      ],
      "text/plain": [
       "       ProductID     Channel   Total\n",
       "0  T&G/CAN-97509  Shoppe.com  281.54\n",
       "1  T&G/LEG-37777     Walcart     6.7\n",
       "2  T&G/PET-14209    Bullseye   58.35\n",
       "3  T&G/TRA-20170    Bullseye   80.76\n",
       "4  T&G/TRA-20170    Bullseye   80.76"
      ]
     },
     "execution_count": 28,
     "metadata": {},
     "output_type": "execute_result"
    }
   ],
   "source": [
    "stacked_sample = sample_df.stack() \n",
    "\n",
    "stacked_sample.unstack()"
   ]
  },
  {
   "cell_type": "markdown",
   "id": "center-ultimate",
   "metadata": {
    "slideshow": {
     "slide_type": "slide"
    }
   },
   "source": [
    "## Pivot tables"
   ]
  },
  {
   "cell_type": "code",
   "execution_count": 31,
   "id": "framed-utilization",
   "metadata": {
    "slideshow": {
     "slide_type": "slide"
    },
    "tags": []
   },
   "outputs": [
    {
     "data": {
      "text/html": [
       "<div>\n",
       "<style scoped>\n",
       "    .dataframe tbody tr th:only-of-type {\n",
       "        vertical-align: middle;\n",
       "    }\n",
       "\n",
       "    .dataframe tbody tr th {\n",
       "        vertical-align: top;\n",
       "    }\n",
       "\n",
       "    .dataframe thead th {\n",
       "        text-align: right;\n",
       "    }\n",
       "</style>\n",
       "<table border=\"1\" class=\"dataframe\">\n",
       "  <thead>\n",
       "    <tr style=\"text-align: right;\">\n",
       "      <th></th>\n",
       "      <th>InvoiceNo</th>\n",
       "      <th>Channel</th>\n",
       "      <th>Product Name</th>\n",
       "      <th>ProductID</th>\n",
       "      <th>Account</th>\n",
       "      <th>AccountNo</th>\n",
       "      <th>Date</th>\n",
       "      <th>Deadline</th>\n",
       "      <th>Currency</th>\n",
       "      <th>Unit Price</th>\n",
       "      <th>Quantity</th>\n",
       "      <th>Total</th>\n",
       "      <th>Deadline Quarter</th>\n",
       "    </tr>\n",
       "  </thead>\n",
       "  <tbody>\n",
       "    <tr>\n",
       "      <th>0</th>\n",
       "      <td>1532</td>\n",
       "      <td>Shoppe.com</td>\n",
       "      <td>Cannon Water Bomb Balloons 100 Pack</td>\n",
       "      <td>T&amp;G/CAN-97509</td>\n",
       "      <td>Sales</td>\n",
       "      <td>5004</td>\n",
       "      <td>2020-01-01</td>\n",
       "      <td>2019-11-23</td>\n",
       "      <td>USD</td>\n",
       "      <td>20.11</td>\n",
       "      <td>14</td>\n",
       "      <td>281.54</td>\n",
       "      <td>2019Q4</td>\n",
       "    </tr>\n",
       "    <tr>\n",
       "      <th>1</th>\n",
       "      <td>1533</td>\n",
       "      <td>Walcart</td>\n",
       "      <td>LEGO Ninja Turtles Stealth Shell in Pursuit 79102</td>\n",
       "      <td>T&amp;G/LEG-37777</td>\n",
       "      <td>Sales</td>\n",
       "      <td>5004</td>\n",
       "      <td>2020-01-01</td>\n",
       "      <td>2020-06-15</td>\n",
       "      <td>USD</td>\n",
       "      <td>6.70</td>\n",
       "      <td>1</td>\n",
       "      <td>6.70</td>\n",
       "      <td>2020Q2</td>\n",
       "    </tr>\n",
       "    <tr>\n",
       "      <th>2</th>\n",
       "      <td>1534</td>\n",
       "      <td>Bullseye</td>\n",
       "      <td>NaN</td>\n",
       "      <td>T&amp;G/PET-14209</td>\n",
       "      <td>Sales</td>\n",
       "      <td>5004</td>\n",
       "      <td>2020-01-01</td>\n",
       "      <td>2020-05-07</td>\n",
       "      <td>USD</td>\n",
       "      <td>11.67</td>\n",
       "      <td>5</td>\n",
       "      <td>58.35</td>\n",
       "      <td>2020Q2</td>\n",
       "    </tr>\n",
       "    <tr>\n",
       "      <th>3</th>\n",
       "      <td>1535</td>\n",
       "      <td>Bullseye</td>\n",
       "      <td>Transformers Age of Extinction Generations Del...</td>\n",
       "      <td>T&amp;G/TRA-20170</td>\n",
       "      <td>Sales</td>\n",
       "      <td>5004</td>\n",
       "      <td>2020-01-01</td>\n",
       "      <td>2019-12-22</td>\n",
       "      <td>USD</td>\n",
       "      <td>13.46</td>\n",
       "      <td>6</td>\n",
       "      <td>80.76</td>\n",
       "      <td>2019Q4</td>\n",
       "    </tr>\n",
       "    <tr>\n",
       "      <th>4</th>\n",
       "      <td>1535</td>\n",
       "      <td>Bullseye</td>\n",
       "      <td>Transformers Age of Extinction Generations Del...</td>\n",
       "      <td>T&amp;G/TRA-20170</td>\n",
       "      <td>Sales</td>\n",
       "      <td>5004</td>\n",
       "      <td>2020-01-01</td>\n",
       "      <td>2019-12-22</td>\n",
       "      <td>USD</td>\n",
       "      <td>13.46</td>\n",
       "      <td>6</td>\n",
       "      <td>80.76</td>\n",
       "      <td>2019Q4</td>\n",
       "    </tr>\n",
       "    <tr>\n",
       "      <th>...</th>\n",
       "      <td>...</td>\n",
       "      <td>...</td>\n",
       "      <td>...</td>\n",
       "      <td>...</td>\n",
       "      <td>...</td>\n",
       "      <td>...</td>\n",
       "      <td>...</td>\n",
       "      <td>...</td>\n",
       "      <td>...</td>\n",
       "      <td>...</td>\n",
       "      <td>...</td>\n",
       "      <td>...</td>\n",
       "      <td>...</td>\n",
       "    </tr>\n",
       "    <tr>\n",
       "      <th>14049</th>\n",
       "      <td>15581</td>\n",
       "      <td>Bullseye</td>\n",
       "      <td>AC Adapter/Power Supply&amp;Cord for Lenovo 3000 G...</td>\n",
       "      <td>E/AC-63975</td>\n",
       "      <td>Sales</td>\n",
       "      <td>5004</td>\n",
       "      <td>2020-01-31</td>\n",
       "      <td>2020-02-23</td>\n",
       "      <td>USD</td>\n",
       "      <td>28.72</td>\n",
       "      <td>8</td>\n",
       "      <td>229.76</td>\n",
       "      <td>2020Q1</td>\n",
       "    </tr>\n",
       "    <tr>\n",
       "      <th>14050</th>\n",
       "      <td>15582</td>\n",
       "      <td>Bullseye</td>\n",
       "      <td>Cisco Systems Gigabit VPN Router (RV320K9NA)</td>\n",
       "      <td>E/CIS-74992</td>\n",
       "      <td>Sales</td>\n",
       "      <td>5004</td>\n",
       "      <td>2020-01-31</td>\n",
       "      <td>2020-01-21</td>\n",
       "      <td>USD</td>\n",
       "      <td>33.39</td>\n",
       "      <td>1</td>\n",
       "      <td>33.39</td>\n",
       "      <td>2020Q1</td>\n",
       "    </tr>\n",
       "    <tr>\n",
       "      <th>14051</th>\n",
       "      <td>15583</td>\n",
       "      <td>Understock.com</td>\n",
       "      <td>Philips AJ3116M/37 Digital Tuning Clock Radio ...</td>\n",
       "      <td>E/PHI-08100</td>\n",
       "      <td>Sales</td>\n",
       "      <td>5004</td>\n",
       "      <td>2020-01-31</td>\n",
       "      <td>2020-03-22</td>\n",
       "      <td>USD</td>\n",
       "      <td>4.18</td>\n",
       "      <td>1</td>\n",
       "      <td>4.18</td>\n",
       "      <td>2020Q1</td>\n",
       "    </tr>\n",
       "    <tr>\n",
       "      <th>14052</th>\n",
       "      <td>15584</td>\n",
       "      <td>iBay.com</td>\n",
       "      <td>NaN</td>\n",
       "      <td>E/POL-61164</td>\n",
       "      <td>Sales</td>\n",
       "      <td>5004</td>\n",
       "      <td>2020-01-31</td>\n",
       "      <td>2020-06-25</td>\n",
       "      <td>USD</td>\n",
       "      <td>4.78</td>\n",
       "      <td>25</td>\n",
       "      <td>119.50</td>\n",
       "      <td>2020Q2</td>\n",
       "    </tr>\n",
       "    <tr>\n",
       "      <th>14053</th>\n",
       "      <td>15585</td>\n",
       "      <td>Understock.com</td>\n",
       "      <td>Sirius Satellite Radio XADH2 Home Access Kit f...</td>\n",
       "      <td>E/SIR-83381</td>\n",
       "      <td>Sales</td>\n",
       "      <td>5004</td>\n",
       "      <td>2020-01-31</td>\n",
       "      <td>2020-02-01</td>\n",
       "      <td>USD</td>\n",
       "      <td>33.16</td>\n",
       "      <td>2</td>\n",
       "      <td>66.32</td>\n",
       "      <td>2020Q1</td>\n",
       "    </tr>\n",
       "  </tbody>\n",
       "</table>\n",
       "<p>14054 rows × 13 columns</p>\n",
       "</div>"
      ],
      "text/plain": [
       "       InvoiceNo         Channel  \\\n",
       "0           1532      Shoppe.com   \n",
       "1           1533         Walcart   \n",
       "2           1534        Bullseye   \n",
       "3           1535        Bullseye   \n",
       "4           1535        Bullseye   \n",
       "...          ...             ...   \n",
       "14049      15581        Bullseye   \n",
       "14050      15582        Bullseye   \n",
       "14051      15583  Understock.com   \n",
       "14052      15584        iBay.com   \n",
       "14053      15585  Understock.com   \n",
       "\n",
       "                                            Product Name      ProductID  \\\n",
       "0                    Cannon Water Bomb Balloons 100 Pack  T&G/CAN-97509   \n",
       "1      LEGO Ninja Turtles Stealth Shell in Pursuit 79102  T&G/LEG-37777   \n",
       "2                                                    NaN  T&G/PET-14209   \n",
       "3      Transformers Age of Extinction Generations Del...  T&G/TRA-20170   \n",
       "4      Transformers Age of Extinction Generations Del...  T&G/TRA-20170   \n",
       "...                                                  ...            ...   \n",
       "14049  AC Adapter/Power Supply&Cord for Lenovo 3000 G...     E/AC-63975   \n",
       "14050       Cisco Systems Gigabit VPN Router (RV320K9NA)    E/CIS-74992   \n",
       "14051  Philips AJ3116M/37 Digital Tuning Clock Radio ...    E/PHI-08100   \n",
       "14052                                                NaN    E/POL-61164   \n",
       "14053  Sirius Satellite Radio XADH2 Home Access Kit f...    E/SIR-83381   \n",
       "\n",
       "      Account  AccountNo       Date   Deadline Currency  Unit Price  Quantity  \\\n",
       "0       Sales       5004 2020-01-01 2019-11-23      USD       20.11        14   \n",
       "1       Sales       5004 2020-01-01 2020-06-15      USD        6.70         1   \n",
       "2       Sales       5004 2020-01-01 2020-05-07      USD       11.67         5   \n",
       "3       Sales       5004 2020-01-01 2019-12-22      USD       13.46         6   \n",
       "4       Sales       5004 2020-01-01 2019-12-22      USD       13.46         6   \n",
       "...       ...        ...        ...        ...      ...         ...       ...   \n",
       "14049   Sales       5004 2020-01-31 2020-02-23      USD       28.72         8   \n",
       "14050   Sales       5004 2020-01-31 2020-01-21      USD       33.39         1   \n",
       "14051   Sales       5004 2020-01-31 2020-03-22      USD        4.18         1   \n",
       "14052   Sales       5004 2020-01-31 2020-06-25      USD        4.78        25   \n",
       "14053   Sales       5004 2020-01-31 2020-02-01      USD       33.16         2   \n",
       "\n",
       "        Total Deadline Quarter  \n",
       "0      281.54           2019Q4  \n",
       "1        6.70           2020Q2  \n",
       "2       58.35           2020Q2  \n",
       "3       80.76           2019Q4  \n",
       "4       80.76           2019Q4  \n",
       "...       ...              ...  \n",
       "14049  229.76           2020Q1  \n",
       "14050   33.39           2020Q1  \n",
       "14051    4.18           2020Q1  \n",
       "14052  119.50           2020Q2  \n",
       "14053   66.32           2020Q1  \n",
       "\n",
       "[14054 rows x 13 columns]"
      ]
     },
     "execution_count": 31,
     "metadata": {},
     "output_type": "execute_result"
    }
   ],
   "source": [
    "ledger_df = pd.read_excel('data/Q1Sales.xlsx')\n",
    "\n",
    "ledger_df['Deadline'] = pd.to_datetime(ledger_df['Deadline'])\n",
    "ledger_df['Deadline Quarter'] = ledger_df['Deadline'].dt.to_period(freq='Q-DEC')\n",
    "\n",
    "ledger_df"
   ]
  },
  {
   "cell_type": "code",
   "execution_count": 32,
   "id": "marine-firewall",
   "metadata": {
    "slideshow": {
     "slide_type": "slide"
    },
    "tags": []
   },
   "outputs": [
    {
     "data": {
      "text/html": [
       "<div>\n",
       "<style scoped>\n",
       "    .dataframe tbody tr th:only-of-type {\n",
       "        vertical-align: middle;\n",
       "    }\n",
       "\n",
       "    .dataframe tbody tr th {\n",
       "        vertical-align: top;\n",
       "    }\n",
       "\n",
       "    .dataframe thead th {\n",
       "        text-align: right;\n",
       "    }\n",
       "</style>\n",
       "<table border=\"1\" class=\"dataframe\">\n",
       "  <thead>\n",
       "    <tr style=\"text-align: right;\">\n",
       "      <th></th>\n",
       "      <th></th>\n",
       "      <th>Quantity</th>\n",
       "    </tr>\n",
       "    <tr>\n",
       "      <th>Channel</th>\n",
       "      <th>Deadline Quarter</th>\n",
       "      <th></th>\n",
       "    </tr>\n",
       "  </thead>\n",
       "  <tbody>\n",
       "    <tr>\n",
       "      <th rowspan=\"4\" valign=\"top\">Bullseye</th>\n",
       "      <th>2019Q4</th>\n",
       "      <td>2212</td>\n",
       "    </tr>\n",
       "    <tr>\n",
       "      <th>2020Q1</th>\n",
       "      <td>3413</td>\n",
       "    </tr>\n",
       "    <tr>\n",
       "      <th>2020Q2</th>\n",
       "      <td>3034</td>\n",
       "    </tr>\n",
       "    <tr>\n",
       "      <th>2020Q3</th>\n",
       "      <td>377</td>\n",
       "    </tr>\n",
       "    <tr>\n",
       "      <th rowspan=\"4\" valign=\"top\">Shoppe.com</th>\n",
       "      <th>2019Q4</th>\n",
       "      <td>11424</td>\n",
       "    </tr>\n",
       "    <tr>\n",
       "      <th>2020Q1</th>\n",
       "      <td>9969</td>\n",
       "    </tr>\n",
       "    <tr>\n",
       "      <th>2020Q2</th>\n",
       "      <td>11212</td>\n",
       "    </tr>\n",
       "    <tr>\n",
       "      <th>2020Q3</th>\n",
       "      <td>1757</td>\n",
       "    </tr>\n",
       "    <tr>\n",
       "      <th rowspan=\"4\" valign=\"top\">Understock.com</th>\n",
       "      <th>2019Q4</th>\n",
       "      <td>18518</td>\n",
       "    </tr>\n",
       "    <tr>\n",
       "      <th>2020Q1</th>\n",
       "      <td>21614</td>\n",
       "    </tr>\n",
       "    <tr>\n",
       "      <th>2020Q2</th>\n",
       "      <td>23222</td>\n",
       "    </tr>\n",
       "    <tr>\n",
       "      <th>2020Q3</th>\n",
       "      <td>3484</td>\n",
       "    </tr>\n",
       "    <tr>\n",
       "      <th rowspan=\"4\" valign=\"top\">Walcart</th>\n",
       "      <th>2019Q4</th>\n",
       "      <td>3816</td>\n",
       "    </tr>\n",
       "    <tr>\n",
       "      <th>2020Q1</th>\n",
       "      <td>5174</td>\n",
       "    </tr>\n",
       "    <tr>\n",
       "      <th>2020Q2</th>\n",
       "      <td>3921</td>\n",
       "    </tr>\n",
       "    <tr>\n",
       "      <th>2020Q3</th>\n",
       "      <td>411</td>\n",
       "    </tr>\n",
       "    <tr>\n",
       "      <th rowspan=\"4\" valign=\"top\">iBay.com</th>\n",
       "      <th>2019Q4</th>\n",
       "      <td>9711</td>\n",
       "    </tr>\n",
       "    <tr>\n",
       "      <th>2020Q1</th>\n",
       "      <td>11525</td>\n",
       "    </tr>\n",
       "    <tr>\n",
       "      <th>2020Q2</th>\n",
       "      <td>11995</td>\n",
       "    </tr>\n",
       "    <tr>\n",
       "      <th>2020Q3</th>\n",
       "      <td>1317</td>\n",
       "    </tr>\n",
       "  </tbody>\n",
       "</table>\n",
       "</div>"
      ],
      "text/plain": [
       "                                 Quantity\n",
       "Channel        Deadline Quarter          \n",
       "Bullseye       2019Q4                2212\n",
       "               2020Q1                3413\n",
       "               2020Q2                3034\n",
       "               2020Q3                 377\n",
       "Shoppe.com     2019Q4               11424\n",
       "               2020Q1                9969\n",
       "               2020Q2               11212\n",
       "               2020Q3                1757\n",
       "Understock.com 2019Q4               18518\n",
       "               2020Q1               21614\n",
       "               2020Q2               23222\n",
       "               2020Q3                3484\n",
       "Walcart        2019Q4                3816\n",
       "               2020Q1                5174\n",
       "               2020Q2                3921\n",
       "               2020Q3                 411\n",
       "iBay.com       2019Q4                9711\n",
       "               2020Q1               11525\n",
       "               2020Q2               11995\n",
       "               2020Q3                1317"
      ]
     },
     "execution_count": 32,
     "metadata": {},
     "output_type": "execute_result"
    }
   ],
   "source": [
    "ledger_df.groupby(['Channel', 'Deadline Quarter']).agg({'Quantity': 'sum'})"
   ]
  },
  {
   "cell_type": "code",
   "execution_count": 33,
   "id": "fitting-leone",
   "metadata": {
    "slideshow": {
     "slide_type": "slide"
    },
    "tags": []
   },
   "outputs": [
    {
     "data": {
      "text/html": [
       "<div>\n",
       "<style scoped>\n",
       "    .dataframe tbody tr th:only-of-type {\n",
       "        vertical-align: middle;\n",
       "    }\n",
       "\n",
       "    .dataframe tbody tr th {\n",
       "        vertical-align: top;\n",
       "    }\n",
       "\n",
       "    .dataframe thead tr th {\n",
       "        text-align: left;\n",
       "    }\n",
       "\n",
       "    .dataframe thead tr:last-of-type th {\n",
       "        text-align: right;\n",
       "    }\n",
       "</style>\n",
       "<table border=\"1\" class=\"dataframe\">\n",
       "  <thead>\n",
       "    <tr>\n",
       "      <th></th>\n",
       "      <th colspan=\"4\" halign=\"left\">Quantity</th>\n",
       "    </tr>\n",
       "    <tr>\n",
       "      <th>Deadline Quarter</th>\n",
       "      <th>2019Q4</th>\n",
       "      <th>2020Q1</th>\n",
       "      <th>2020Q2</th>\n",
       "      <th>2020Q3</th>\n",
       "    </tr>\n",
       "    <tr>\n",
       "      <th>Channel</th>\n",
       "      <th></th>\n",
       "      <th></th>\n",
       "      <th></th>\n",
       "      <th></th>\n",
       "    </tr>\n",
       "  </thead>\n",
       "  <tbody>\n",
       "    <tr>\n",
       "      <th>Bullseye</th>\n",
       "      <td>2212</td>\n",
       "      <td>3413</td>\n",
       "      <td>3034</td>\n",
       "      <td>377</td>\n",
       "    </tr>\n",
       "    <tr>\n",
       "      <th>Shoppe.com</th>\n",
       "      <td>11424</td>\n",
       "      <td>9969</td>\n",
       "      <td>11212</td>\n",
       "      <td>1757</td>\n",
       "    </tr>\n",
       "    <tr>\n",
       "      <th>Understock.com</th>\n",
       "      <td>18518</td>\n",
       "      <td>21614</td>\n",
       "      <td>23222</td>\n",
       "      <td>3484</td>\n",
       "    </tr>\n",
       "    <tr>\n",
       "      <th>Walcart</th>\n",
       "      <td>3816</td>\n",
       "      <td>5174</td>\n",
       "      <td>3921</td>\n",
       "      <td>411</td>\n",
       "    </tr>\n",
       "    <tr>\n",
       "      <th>iBay.com</th>\n",
       "      <td>9711</td>\n",
       "      <td>11525</td>\n",
       "      <td>11995</td>\n",
       "      <td>1317</td>\n",
       "    </tr>\n",
       "  </tbody>\n",
       "</table>\n",
       "</div>"
      ],
      "text/plain": [
       "                 Quantity                     \n",
       "Deadline Quarter   2019Q4 2020Q1 2020Q2 2020Q3\n",
       "Channel                                       \n",
       "Bullseye             2212   3413   3034    377\n",
       "Shoppe.com          11424   9969  11212   1757\n",
       "Understock.com      18518  21614  23222   3484\n",
       "Walcart              3816   5174   3921    411\n",
       "iBay.com             9711  11525  11995   1317"
      ]
     },
     "execution_count": 33,
     "metadata": {},
     "output_type": "execute_result"
    }
   ],
   "source": [
    "ledger_df.groupby(['Channel', 'Deadline Quarter']).agg({'Quantity': 'sum'}).unstack()"
   ]
  },
  {
   "cell_type": "code",
   "execution_count": 34,
   "id": "dominican-seafood",
   "metadata": {
    "slideshow": {
     "slide_type": "slide"
    },
    "tags": []
   },
   "outputs": [
    {
     "data": {
      "text/html": [
       "<div>\n",
       "<style scoped>\n",
       "    .dataframe tbody tr th:only-of-type {\n",
       "        vertical-align: middle;\n",
       "    }\n",
       "\n",
       "    .dataframe tbody tr th {\n",
       "        vertical-align: top;\n",
       "    }\n",
       "\n",
       "    .dataframe thead th {\n",
       "        text-align: right;\n",
       "    }\n",
       "</style>\n",
       "<table border=\"1\" class=\"dataframe\">\n",
       "  <thead>\n",
       "    <tr style=\"text-align: right;\">\n",
       "      <th>Deadline Quarter</th>\n",
       "      <th>2019Q4</th>\n",
       "      <th>2020Q1</th>\n",
       "      <th>2020Q2</th>\n",
       "      <th>2020Q3</th>\n",
       "    </tr>\n",
       "    <tr>\n",
       "      <th>Channel</th>\n",
       "      <th></th>\n",
       "      <th></th>\n",
       "      <th></th>\n",
       "      <th></th>\n",
       "    </tr>\n",
       "  </thead>\n",
       "  <tbody>\n",
       "    <tr>\n",
       "      <th>Bullseye</th>\n",
       "      <td>2212</td>\n",
       "      <td>3413</td>\n",
       "      <td>3034</td>\n",
       "      <td>377</td>\n",
       "    </tr>\n",
       "    <tr>\n",
       "      <th>Shoppe.com</th>\n",
       "      <td>11424</td>\n",
       "      <td>9969</td>\n",
       "      <td>11212</td>\n",
       "      <td>1757</td>\n",
       "    </tr>\n",
       "    <tr>\n",
       "      <th>Understock.com</th>\n",
       "      <td>18518</td>\n",
       "      <td>21614</td>\n",
       "      <td>23222</td>\n",
       "      <td>3484</td>\n",
       "    </tr>\n",
       "    <tr>\n",
       "      <th>Walcart</th>\n",
       "      <td>3816</td>\n",
       "      <td>5174</td>\n",
       "      <td>3921</td>\n",
       "      <td>411</td>\n",
       "    </tr>\n",
       "    <tr>\n",
       "      <th>iBay.com</th>\n",
       "      <td>9711</td>\n",
       "      <td>11525</td>\n",
       "      <td>11995</td>\n",
       "      <td>1317</td>\n",
       "    </tr>\n",
       "  </tbody>\n",
       "</table>\n",
       "</div>"
      ],
      "text/plain": [
       "Deadline Quarter  2019Q4  2020Q1  2020Q2  2020Q3\n",
       "Channel                                         \n",
       "Bullseye            2212    3413    3034     377\n",
       "Shoppe.com         11424    9969   11212    1757\n",
       "Understock.com     18518   21614   23222    3484\n",
       "Walcart             3816    5174    3921     411\n",
       "iBay.com            9711   11525   11995    1317"
      ]
     },
     "execution_count": 34,
     "metadata": {},
     "output_type": "execute_result"
    }
   ],
   "source": [
    "pd.pivot_table(ledger_df, \n",
    "               index='Channel', \n",
    "               columns='Deadline Quarter', \n",
    "               values='Quantity',\n",
    "               aggfunc='sum')"
   ]
  },
  {
   "cell_type": "code",
   "execution_count": 35,
   "id": "bacterial-powell",
   "metadata": {
    "slideshow": {
     "slide_type": "slide"
    },
    "tags": []
   },
   "outputs": [
    {
     "data": {
      "text/html": [
       "<div>\n",
       "<style scoped>\n",
       "    .dataframe tbody tr th:only-of-type {\n",
       "        vertical-align: middle;\n",
       "    }\n",
       "\n",
       "    .dataframe tbody tr th {\n",
       "        vertical-align: top;\n",
       "    }\n",
       "\n",
       "    .dataframe thead th {\n",
       "        text-align: right;\n",
       "    }\n",
       "</style>\n",
       "<table border=\"1\" class=\"dataframe\">\n",
       "  <thead>\n",
       "    <tr style=\"text-align: right;\">\n",
       "      <th>Deadline Quarter</th>\n",
       "      <th>2019Q4</th>\n",
       "      <th>2020Q1</th>\n",
       "      <th>2020Q2</th>\n",
       "      <th>2020Q3</th>\n",
       "      <th>TOTAL</th>\n",
       "    </tr>\n",
       "    <tr>\n",
       "      <th>Channel</th>\n",
       "      <th></th>\n",
       "      <th></th>\n",
       "      <th></th>\n",
       "      <th></th>\n",
       "      <th></th>\n",
       "    </tr>\n",
       "  </thead>\n",
       "  <tbody>\n",
       "    <tr>\n",
       "      <th>Bullseye</th>\n",
       "      <td>2212</td>\n",
       "      <td>3413</td>\n",
       "      <td>3034</td>\n",
       "      <td>377</td>\n",
       "      <td>9036</td>\n",
       "    </tr>\n",
       "    <tr>\n",
       "      <th>Shoppe.com</th>\n",
       "      <td>11424</td>\n",
       "      <td>9969</td>\n",
       "      <td>11212</td>\n",
       "      <td>1757</td>\n",
       "      <td>34362</td>\n",
       "    </tr>\n",
       "    <tr>\n",
       "      <th>Understock.com</th>\n",
       "      <td>18518</td>\n",
       "      <td>21614</td>\n",
       "      <td>23222</td>\n",
       "      <td>3484</td>\n",
       "      <td>66838</td>\n",
       "    </tr>\n",
       "    <tr>\n",
       "      <th>Walcart</th>\n",
       "      <td>3816</td>\n",
       "      <td>5174</td>\n",
       "      <td>3921</td>\n",
       "      <td>411</td>\n",
       "      <td>13322</td>\n",
       "    </tr>\n",
       "    <tr>\n",
       "      <th>iBay.com</th>\n",
       "      <td>9711</td>\n",
       "      <td>11525</td>\n",
       "      <td>11995</td>\n",
       "      <td>1317</td>\n",
       "      <td>34548</td>\n",
       "    </tr>\n",
       "    <tr>\n",
       "      <th>TOTAL</th>\n",
       "      <td>45681</td>\n",
       "      <td>51695</td>\n",
       "      <td>53384</td>\n",
       "      <td>7346</td>\n",
       "      <td>158106</td>\n",
       "    </tr>\n",
       "  </tbody>\n",
       "</table>\n",
       "</div>"
      ],
      "text/plain": [
       "Deadline Quarter  2019Q4  2020Q1  2020Q2  2020Q3   TOTAL\n",
       "Channel                                                 \n",
       "Bullseye            2212    3413    3034     377    9036\n",
       "Shoppe.com         11424    9969   11212    1757   34362\n",
       "Understock.com     18518   21614   23222    3484   66838\n",
       "Walcart             3816    5174    3921     411   13322\n",
       "iBay.com            9711   11525   11995    1317   34548\n",
       "TOTAL              45681   51695   53384    7346  158106"
      ]
     },
     "execution_count": 35,
     "metadata": {},
     "output_type": "execute_result"
    }
   ],
   "source": [
    "pd.pivot_table(ledger_df, \n",
    "               index='Channel', \n",
    "               columns='Deadline Quarter', \n",
    "               values='Quantity', \n",
    "               aggfunc='sum',\n",
    "               margins=True,\n",
    "               margins_name='TOTAL')"
   ]
  }
 ],
 "metadata": {
  "celltoolbar": "Slideshow",
  "jupytext": {
   "formats": "ipynb"
  },
  "kernelspec": {
   "display_name": "Python 3 (ipykernel)",
   "language": "python",
   "name": "python3"
  },
  "language_info": {
   "codemirror_mode": {
    "name": "ipython",
    "version": 3
   },
   "file_extension": ".py",
   "mimetype": "text/x-python",
   "name": "python",
   "nbconvert_exporter": "python",
   "pygments_lexer": "ipython3",
   "version": "3.9.7"
  },
  "rise": {
   "auto_select": "first",
   "autolaunch": false,
   "enable_chalkboard": true,
   "start_slideshow_at": "selected",
   "theme": "black"
  }
 },
 "nbformat": 4,
 "nbformat_minor": 5
}
