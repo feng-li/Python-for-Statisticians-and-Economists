{
 "cells": [
  {
   "cell_type": "markdown",
   "metadata": {
    "slideshow": {
     "slide_type": "slide"
    }
   },
   "source": [
    "# Model Selection and Seasonal ARIMA\n",
    "\n",
    "Feng Li\n",
    "\n",
    "School of Statistics and Mathematics\n",
    "\n",
    "Central University of Finance and Economics\n",
    "\n",
    "[feng.li@cufe.edu.cn](mailto:feng.li@cufe.edu.cn)\n",
    "\n",
    "[https://feng.li/python](https://feng.li/python)"
   ]
  },
  {
   "cell_type": "markdown",
   "metadata": {
    "slideshow": {
     "slide_type": "slide"
    }
   },
   "source": [
    "## Estimation"
   ]
  },
  {
   "cell_type": "markdown",
   "metadata": {
    "slideshow": {
     "slide_type": "slide"
    }
   },
   "source": [
    "## Conditional Sum of Squares\n",
    "\n",
    "- A straightforward way to estimate ARMA models is via least squares. For an ARMA(1,1)\n",
    "\n",
    "$$\\underset{c,\\phi,\\theta}{\\min}\\sum_{t=1}^T\\left(y_t-c-\\phi_1 y_{t-1}-\\theta\\epsilon_{t-1}\\right)^2$$\n",
    "\n",
    "- Need to condition on initial values\n",
    "\n",
    "- Need to find a way to update all $\\epsilon$"
   ]
  },
  {
   "cell_type": "markdown",
   "metadata": {
    "slideshow": {
     "slide_type": "slide"
    }
   },
   "source": [
    "## Recursion\n",
    "\n",
    "- Use the following recursion to update the $\\epsilon$\n",
    "\n",
    "$$\\begin{aligned}\\color{blue}{\\epsilon_2}&=y_2-c-\\phi y_{1}-\\theta\\epsilon_1\\\\\\color{red}{\\epsilon_3}&=y_t-c-\\phi y_{2}-\\theta\\color{blue}{\\epsilon_2}\\\\\\epsilon_4&=y_t-c-\\phi y_{3}-\\theta\\color{red}{\\epsilon_3}\\\\\\vdots&=\\vdots\\quad\\vdots\\quad\\vdots\\end{aligned}$$\n",
    "\n",
    "- There is no closed form solution for $c$, $\\theta$ and $\\phi$ but they can be found numerically."
   ]
  },
  {
   "cell_type": "markdown",
   "metadata": {
    "slideshow": {
     "slide_type": "slide"
    }
   },
   "source": [
    "## Initial values\n",
    "\n",
    "- There are many options but a common one is to condition on the first $p$ observed values of $y$ and set any $\\epsilon$ that need to be conditioned on to zero.\n",
    "- For an ARMA(1,1) condition on $y_1$ and set $\\epsilon_1=0$. Then use observations $t=2,\\dots,T$ in the sums of squares.\n",
    "\n",
    "$$\\underset{c,\\phi,\\theta}{\\min}\\sum_{t=2}^T\\left(y_t-c-\\phi_1 y_{t-1}-\\theta\\epsilon_{t-1}\\right)^2$$\n",
    "\n",
    "- Other options include setting $y_0=0$ or setting $y_0=E(Y)$ and using all of the data.\n",
    "- For stationary, invertible process, impact is minimal with enough data."
   ]
  },
  {
   "cell_type": "markdown",
   "metadata": {
    "slideshow": {
     "slide_type": "slide"
    }
   },
   "source": [
    "## Likelihood\n",
    "\n",
    "- Maximum likelihood maximises the joint density of the data with respect to the parameters\n",
    "\n",
    "$$\\begin{aligned}\\hat{\\Theta},\\hat{\\Phi},\\hat\\sigma,\\hat c=&\\underset{c,\\Phi,\\Theta,\\sigma}{\\max}f(y_1,y_2,\\dots,y_T|c, \\Theta,\\Phi,\\sigma^2\\color{blue}{,y_0,y_{-1},\\dots,\\epsilon_0, \\epsilon_{-1},\\dots})\\\\=&\\underset{c,\\Phi,\\Theta,\\sigma}{\\max}L(c, \\Theta,\\Phi,\\sigma^2;y_1,y_2,\\dots,y_T\\color{blue}{,y_0,y_{-1},\\dots,\\epsilon_0, \\epsilon_{-1},\\dots})\\\\\\end{aligned}$$\n",
    "\n",
    "- Assume $\\epsilon_t\\sim N(0,\\sigma^2)$ for all $t$, i.e. assume normality\n",
    "- Conditional likelihood (includes parts in <span style=\"color:blue;\">blue</span>) equivalent to conditional sum of squares.\n",
    "- Unconditional likelihood does not have any of the parts in <span style=\"color:blue;\">blue</span> and requires the Kalman filter."
   ]
  },
  {
   "cell_type": "markdown",
   "metadata": {
    "slideshow": {
     "slide_type": "slide"
    }
   },
   "source": [
    "## Advantages\n",
    "\n",
    "- Maximum likelihood is\n",
    "  - A consistent estimator\n",
    "  - Asymptotically normal\n",
    "  - Can be used to compute information criteria for model selection\n",
    "- Assuming normality is a disadvantage, but... \n",
    "- ...pseudo maximum likelihood theory establishes robustness to this assumption."
   ]
  },
  {
   "cell_type": "markdown",
   "metadata": {
    "slideshow": {
     "slide_type": "slide"
    }
   },
   "source": [
    "## Information criteria\n",
    "\n",
    "For a model with $k$ parameters, all IC take the form\n",
    "\n",
    "$$IC = -2\\log L + k\\times q$$\n",
    "\n",
    "- The log likelihood measures the \"fit\" of the data, with higher values indicating a better fit.\n",
    "- To avoid overfitting there is a \"penalty\" on the number of parameters $k$.\n",
    "- If many ARIMA models are fit by maximum likelihood, information criteria can be computed for each model \n",
    "- Choose the model with the **lowest** value of the information criterion.\n",
    "\n"
   ]
  },
  {
   "cell_type": "markdown",
   "metadata": {
    "slideshow": {
     "slide_type": "slide"
    }
   },
   "source": [
    "## AIC, AICc and BIC\n",
    "\n",
    "- If $q=2$ we have the **AIC**. Theoretically the AIC will choose a model closest to the true data generating process (DGP), even if the true DGP is not one of the models estimated.\n",
    "- If $q=2+\\frac{2(k+1)}{T-k-1}$ we have the **AICc**. The AIC relies on asymptotic arguments, the AICc is a correction for finite samples.\n",
    "- if $q=log(T)$ we have the **BIC**. Theoretically the BIC is model consistent (it will choose the correct model as $T\\rightarrow\\infty$). However the true DGP must be one of the models under consideration.\n",
    "- In ARIMA modelling AICc is most commonly used"
   ]
  },
  {
   "cell_type": "markdown",
   "metadata": {
    "slideshow": {
     "slide_type": "slide"
    }
   },
   "source": [
    "## Model Selection"
   ]
  },
  {
   "cell_type": "markdown",
   "metadata": {
    "slideshow": {
     "slide_type": "slide"
    }
   },
   "source": [
    "## Auto Arima\n",
    "\n",
    "- Box-Jenkins approach of looking at ACF and PACF plots popular when computers were slow.\n",
    "- With improvements in computing it is possible to search through a large number of possible ARIMA models and select the best models using selection criteria.\n",
    "- One popular such algorithm is *auto arima*, proposed by [Hyndman and Khandakar (2008)](https://doi.org/10.18637/jss.v027.i03) and implemented in R packages.\n",
    "- For a Python implementation install [`statsforecast`](https://github.com/Nixtla/statsforecast)"
   ]
  },
  {
   "cell_type": "markdown",
   "metadata": {
    "slideshow": {
     "slide_type": "slide"
    }
   },
   "source": [
    "## Auto Arima (find $d$)\n",
    "\n",
    "- Step 1 is to find the correct level of differencing using a hypothesis test\n",
    "- By default the KPSS test is used.\n",
    "  - Null is that data are stationary\n",
    "  - If fail to reject, $d=0$. If rejected, take differences and apply KPSS test again. \n",
    "  - If fail to reject, $d=1$. If rejected a second time, $d=2$.\n",
    "- Other tests (augmented Dickey-Fuller and Phillips Perron) can be used.\n",
    "  - The null for these is that data are non-stationary."
   ]
  },
  {
   "cell_type": "markdown",
   "metadata": {
    "slideshow": {
     "slide_type": "slide"
    }
   },
   "source": [
    "## Auto Arima (find $p,q$)\n",
    "\n",
    "- Fit four models\n",
    "  - ARIMA(0,d,0)\n",
    "  - ARIMA(1,d,0)\n",
    "  - ARIMA(0,d,1)\n",
    "  - ARIMA(2,d,2)\n",
    "- Select the model from the above list that minimises AICc"
   ]
  },
  {
   "cell_type": "markdown",
   "metadata": {
    "cell_style": "split",
    "slideshow": {
     "slide_type": "slide"
    }
   },
   "source": [
    "## Auto Arima (find $p,q$)\n",
    "\n",
    "Using the best current model search \"neighbouring models\", which are\n",
    "- Models with AR order different by $\\pm 1$.\n",
    "- Models with MA order different by $\\pm 1$.\n",
    "- Either one or both of these conditions makes the model a neighbouring model.\n",
    "- The algorithm moves to a better model as soon as it is found, but can also be forced to search all neighbouring models."
   ]
  },
  {
   "cell_type": "markdown",
   "metadata": {
    "slideshow": {
     "slide_type": "slide"
    }
   },
   "source": [
    "## Model neighbourhood\n",
    "\n",
    "- What are the \"neghboring\" models of an ARMA(2,3)?"
   ]
  },
  {
   "cell_type": "markdown",
   "metadata": {
    "slideshow": {
     "slide_type": "slide"
    }
   },
   "source": [
    "## Application\n",
    "\n",
    "- Forecast turnover in restaurant/cafe takeway sector in NSW"
   ]
  },
  {
   "cell_type": "code",
   "execution_count": 1,
   "metadata": {
    "slideshow": {
     "slide_type": "-"
    }
   },
   "outputs": [
    {
     "data": {
      "text/html": [
       "<div>\n",
       "<style scoped>\n",
       "    .dataframe tbody tr th:only-of-type {\n",
       "        vertical-align: middle;\n",
       "    }\n",
       "\n",
       "    .dataframe tbody tr th {\n",
       "        vertical-align: top;\n",
       "    }\n",
       "\n",
       "    .dataframe thead th {\n",
       "        text-align: right;\n",
       "    }\n",
       "</style>\n",
       "<table border=\"1\" class=\"dataframe\">\n",
       "  <thead>\n",
       "    <tr style=\"text-align: right;\">\n",
       "      <th></th>\n",
       "      <th>Month</th>\n",
       "      <th>Turnover</th>\n",
       "    </tr>\n",
       "  </thead>\n",
       "  <tbody>\n",
       "    <tr>\n",
       "      <th>0</th>\n",
       "      <td>1982-04-01</td>\n",
       "      <td>85.4</td>\n",
       "    </tr>\n",
       "    <tr>\n",
       "      <th>1</th>\n",
       "      <td>1982-05-01</td>\n",
       "      <td>84.8</td>\n",
       "    </tr>\n",
       "    <tr>\n",
       "      <th>2</th>\n",
       "      <td>1982-06-01</td>\n",
       "      <td>80.7</td>\n",
       "    </tr>\n",
       "    <tr>\n",
       "      <th>3</th>\n",
       "      <td>1982-07-01</td>\n",
       "      <td>82.4</td>\n",
       "    </tr>\n",
       "    <tr>\n",
       "      <th>4</th>\n",
       "      <td>1982-08-01</td>\n",
       "      <td>80.7</td>\n",
       "    </tr>\n",
       "    <tr>\n",
       "      <th>...</th>\n",
       "      <td>...</td>\n",
       "      <td>...</td>\n",
       "    </tr>\n",
       "    <tr>\n",
       "      <th>436</th>\n",
       "      <td>2018-08-01</td>\n",
       "      <td>579.2</td>\n",
       "    </tr>\n",
       "    <tr>\n",
       "      <th>437</th>\n",
       "      <td>2018-09-01</td>\n",
       "      <td>569.2</td>\n",
       "    </tr>\n",
       "    <tr>\n",
       "      <th>438</th>\n",
       "      <td>2018-10-01</td>\n",
       "      <td>588.6</td>\n",
       "    </tr>\n",
       "    <tr>\n",
       "      <th>439</th>\n",
       "      <td>2018-11-01</td>\n",
       "      <td>576.0</td>\n",
       "    </tr>\n",
       "    <tr>\n",
       "      <th>440</th>\n",
       "      <td>2018-12-01</td>\n",
       "      <td>630.3</td>\n",
       "    </tr>\n",
       "  </tbody>\n",
       "</table>\n",
       "<p>441 rows × 2 columns</p>\n",
       "</div>"
      ],
      "text/plain": [
       "         Month  Turnover\n",
       "0   1982-04-01      85.4\n",
       "1   1982-05-01      84.8\n",
       "2   1982-06-01      80.7\n",
       "3   1982-07-01      82.4\n",
       "4   1982-08-01      80.7\n",
       "..         ...       ...\n",
       "436 2018-08-01     579.2\n",
       "437 2018-09-01     569.2\n",
       "438 2018-10-01     588.6\n",
       "439 2018-11-01     576.0\n",
       "440 2018-12-01     630.3\n",
       "\n",
       "[441 rows x 2 columns]"
      ]
     },
     "execution_count": 1,
     "metadata": {},
     "output_type": "execute_result"
    }
   ],
   "source": [
    "import pandas as pd\n",
    "dat = pd.read_csv('data/takeaway.csv')\n",
    "dat['Month']=pd.to_datetime(dat['Month'])\n",
    "dat"
   ]
  },
  {
   "cell_type": "markdown",
   "metadata": {
    "slideshow": {
     "slide_type": "slide"
    }
   },
   "source": [
    "## Time series plot"
   ]
  },
  {
   "cell_type": "code",
   "execution_count": 3,
   "metadata": {
    "slideshow": {
     "slide_type": "-"
    }
   },
   "outputs": [
    {
     "data": {
      "text/plain": [
       "[<matplotlib.lines.Line2D at 0x7f53c05832b0>]"
      ]
     },
     "execution_count": 3,
     "metadata": {},
     "output_type": "execute_result"
    },
    {
     "data": {
      "image/png": "[encoded data removed]",
      "text/plain": [
       "<Figure size 1800x432 with 1 Axes>"
      ]
     },
     "metadata": {
      "needs_background": "light"
     },
     "output_type": "display_data"
    }
   ],
   "source": [
    "import matplotlib.pyplot as plt\n",
    "fig, ax = plt.subplots(figsize=(25, 6))\n",
    "ax.plot(dat.Month, dat.Turnover)"
   ]
  },
  {
   "cell_type": "markdown",
   "metadata": {
    "slideshow": {
     "slide_type": "slide"
    }
   },
   "source": [
    "## Transformation\n",
    "\n",
    "- Best to stabilise variance using log transformation\n",
    "- We can also split data into a test and training sample."
   ]
  },
  {
   "cell_type": "code",
   "execution_count": 4,
   "metadata": {
    "slideshow": {
     "slide_type": "fragment"
    }
   },
   "outputs": [],
   "source": [
    "import numpy as np\n",
    "dat['logTurnover'] = np.log(dat['Turnover'])\n",
    "train = dat.loc[1:404,:]\n",
    "test = dat.loc[405:,:]"
   ]
  },
  {
   "cell_type": "markdown",
   "metadata": {
    "slideshow": {
     "slide_type": "slide"
    }
   },
   "source": [
    "## Output\n",
    "\n",
    "- The `auto_arima_f` function finds the best model.\n",
    "  - The package is still under development and \n",
    "  - It is designed to work with many models and time series\n",
    "  - The classes created by the package are not easy to inspect compared to `statsmodels`."
   ]
  },
  {
   "cell_type": "code",
   "execution_count": 7,
   "metadata": {
    "slideshow": {
     "slide_type": "fragment"
    }
   },
   "outputs": [
    {
     "name": "stderr",
     "output_type": "stream",
     "text": [
      "/home/fli/downloads/statsforecast-0.5.5/statsforecast/arima.py:878: UserWarning: possible convergence problem: minimize gave code 2]\n",
      "  warnings.warn(\n",
      "/home/fli/downloads/statsforecast-0.5.5/statsforecast/arima.py:878: UserWarning: possible convergence problem: minimize gave code 2]\n",
      "  warnings.warn(\n",
      "/home/fli/downloads/statsforecast-0.5.5/statsforecast/arima.py:878: UserWarning: possible convergence problem: minimize gave code 2]\n",
      "  warnings.warn(\n",
      "/home/fli/downloads/statsforecast-0.5.5/statsforecast/arima.py:878: UserWarning: possible convergence problem: minimize gave code 2]\n",
      "  warnings.warn(\n",
      "/home/fli/downloads/statsforecast-0.5.5/statsforecast/arima.py:878: UserWarning: possible convergence problem: minimize gave code 2]\n",
      "  warnings.warn(\n",
      "/home/fli/downloads/statsforecast-0.5.5/statsforecast/arima.py:878: UserWarning: possible convergence problem: minimize gave code 2]\n",
      "  warnings.warn(\n",
      "/home/fli/downloads/statsforecast-0.5.5/statsforecast/arima.py:878: UserWarning: possible convergence problem: minimize gave code 2]\n",
      "  warnings.warn(\n",
      "/home/fli/downloads/statsforecast-0.5.5/statsforecast/arima.py:878: UserWarning: possible convergence problem: minimize gave code 2]\n",
      "  warnings.warn(\n",
      "/home/fli/downloads/statsforecast-0.5.5/statsforecast/arima.py:878: UserWarning: possible convergence problem: minimize gave code 2]\n",
      "  warnings.warn(\n",
      "/home/fli/.virtualenv/python3.9/lib/python3.9/site-packages/scipy/optimize/_numdiff.py:557: RuntimeWarning: invalid value encountered in subtract\n",
      "  df = fun(x) - f0\n",
      "/home/fli/downloads/statsforecast-0.5.5/statsforecast/arima.py:878: UserWarning: possible convergence problem: minimize gave code 2]\n",
      "  warnings.warn(\n",
      "/home/fli/.virtualenv/python3.9/lib/python3.9/site-packages/scipy/optimize/_numdiff.py:557: RuntimeWarning: invalid value encountered in subtract\n",
      "  df = fun(x) - f0\n",
      "/home/fli/downloads/statsforecast-0.5.5/statsforecast/arima.py:878: UserWarning: possible convergence problem: minimize gave code 2]\n",
      "  warnings.warn(\n",
      "/home/fli/downloads/statsforecast-0.5.5/statsforecast/arima.py:878: UserWarning: possible convergence problem: minimize gave code 2]\n",
      "  warnings.warn(\n",
      "/home/fli/downloads/statsforecast-0.5.5/statsforecast/arima.py:878: UserWarning: possible convergence problem: minimize gave code 2]\n",
      "  warnings.warn(\n",
      "/home/fli/downloads/statsforecast-0.5.5/statsforecast/arima.py:878: UserWarning: possible convergence problem: minimize gave code 2]\n",
      "  warnings.warn(\n",
      "/home/fli/downloads/statsforecast-0.5.5/statsforecast/arima.py:878: UserWarning: possible convergence problem: minimize gave code 2]\n",
      "  warnings.warn(\n",
      "/home/fli/downloads/statsforecast-0.5.5/statsforecast/arima.py:878: UserWarning: possible convergence problem: minimize gave code 2]\n",
      "  warnings.warn(\n",
      "/home/fli/.virtualenv/python3.9/lib/python3.9/site-packages/scipy/optimize/_numdiff.py:557: RuntimeWarning: invalid value encountered in subtract\n",
      "  df = fun(x) - f0\n",
      "/home/fli/downloads/statsforecast-0.5.5/statsforecast/arima.py:878: UserWarning: possible convergence problem: minimize gave code 2]\n",
      "  warnings.warn(\n",
      "/home/fli/.virtualenv/python3.9/lib/python3.9/site-packages/scipy/optimize/_numdiff.py:557: RuntimeWarning: invalid value encountered in subtract\n",
      "  df = fun(x) - f0\n",
      "/home/fli/downloads/statsforecast-0.5.5/statsforecast/arima.py:878: UserWarning: possible convergence problem: minimize gave code 2]\n",
      "  warnings.warn(\n",
      "/home/fli/.virtualenv/python3.9/lib/python3.9/site-packages/scipy/optimize/_numdiff.py:557: RuntimeWarning: invalid value encountered in subtract\n",
      "  df = fun(x) - f0\n",
      "/home/fli/.virtualenv/python3.9/lib/python3.9/site-packages/scipy/optimize/_numdiff.py:557: RuntimeWarning: invalid value encountered in subtract\n",
      "  df = fun(x) - f0\n"
     ]
    },
    {
     "data": {
      "text/plain": [
       "(2, 3, 0, 0, 1, 1, 0)"
      ]
     },
     "execution_count": 7,
     "metadata": {},
     "output_type": "execute_result"
    }
   ],
   "source": [
    "from statsforecast.arima import auto_arima_f\n",
    "out = auto_arima_f(train['logTurnover'].to_numpy())\n",
    "out['arma']"
   ]
  },
  {
   "cell_type": "code",
   "execution_count": 25,
   "metadata": {
    "scrolled": false
   },
   "outputs": [
    {
     "data": {
      "text/plain": [
       "{'coef': {'ar1': 0.2788458485218801,\n",
       "  'ma1': -0.8943704719287057,\n",
       "  'sma1': -0.0041451305044343505,\n",
       "  'ex_1': -72.54968100667351,\n",
       "  'ex_2': 0.24188426586857759,\n",
       "  'ex_3': 634.9983192985712,\n",
       "  'ex_4': 1303.9093166620105,\n",
       "  'ex_5': 1418.565918281681,\n",
       "  'ex_6': 1512.345456739643,\n",
       "  'ex_7': 1077.7682165051792,\n",
       "  'ex_8': 493.7429946178072,\n",
       "  'ex_9': 219.58309582085116,\n",
       "  'ex_10': -96.43671964316115,\n",
       "  'ex_11': -798.0211015826399,\n",
       "  'ex_12': -541.3850241908303,\n",
       "  'ex_13': -354.38237538747},\n",
       " 'sigma2': 737375.1447353556,\n",
       " 'var_coef': array([[ 2.08184522e-06,  0.00000000e+00,  0.00000000e+00,\n",
       "          0.00000000e+00,  0.00000000e+00,  0.00000000e+00,\n",
       "          0.00000000e+00,  0.00000000e+00,  0.00000000e+00,\n",
       "          0.00000000e+00,  0.00000000e+00,  0.00000000e+00,\n",
       "          0.00000000e+00,  0.00000000e+00,  0.00000000e+00,\n",
       "          0.00000000e+00],\n",
       "        [ 0.00000000e+00,  2.44905356e-06,  0.00000000e+00,\n",
       "          0.00000000e+00,  0.00000000e+00,  0.00000000e+00,\n",
       "          0.00000000e+00,  0.00000000e+00,  0.00000000e+00,\n",
       "          0.00000000e+00,  0.00000000e+00,  0.00000000e+00,\n",
       "          0.00000000e+00,  0.00000000e+00,  0.00000000e+00,\n",
       "          0.00000000e+00],\n",
       "        [ 0.00000000e+00,  0.00000000e+00,  2.44905356e-06,\n",
       "          0.00000000e+00,  0.00000000e+00,  0.00000000e+00,\n",
       "          0.00000000e+00,  0.00000000e+00,  0.00000000e+00,\n",
       "          0.00000000e+00,  0.00000000e+00,  0.00000000e+00,\n",
       "          0.00000000e+00,  0.00000000e+00,  0.00000000e+00,\n",
       "          0.00000000e+00],\n",
       "        [ 0.00000000e+00,  0.00000000e+00,  0.00000000e+00,\n",
       "          2.44905356e-06, -3.15466006e-22, -5.99163457e-24,\n",
       "         -2.00908076e-23,  2.49188160e-23, -5.86936343e-22,\n",
       "          2.93849279e-23, -6.02187486e-22,  6.08804931e-22,\n",
       "         -5.02925812e-22,  1.78671012e-22,  1.24077092e-23,\n",
       "         -2.91167576e-22],\n",
       "        [ 0.00000000e+00,  0.00000000e+00,  0.00000000e+00,\n",
       "         -3.28726745e-22,  2.44905356e-06, -7.49475919e-23,\n",
       "         -5.99686367e-22, -4.35772318e-22, -4.52823123e-22,\n",
       "         -9.20889266e-23,  4.78359194e-22, -8.08569049e-23,\n",
       "         -2.01832069e-22, -2.65628374e-22,  4.13396436e-23,\n",
       "          3.79262311e-22],\n",
       "        [ 0.00000000e+00,  0.00000000e+00,  0.00000000e+00,\n",
       "         -5.99163457e-24, -1.27887151e-22,  2.44905356e-06,\n",
       "          8.47032947e-22, -6.69578076e-22,  3.55101453e-23,\n",
       "          1.62345288e-22,  1.61313435e-22, -1.00142752e-22,\n",
       "          1.02481187e-22,  3.73244722e-22,  9.53810948e-24,\n",
       "         -2.79722681e-22],\n",
       "        [ 0.00000000e+00,  0.00000000e+00,  0.00000000e+00,\n",
       "         -2.00908076e-23, -7.05565486e-22,  6.35274710e-22,\n",
       "          2.44905356e-06, -4.58430458e-22,  3.58777081e-22,\n",
       "         -5.66938130e-22,  3.46152516e-22, -3.82996896e-23,\n",
       "          2.58810459e-22, -3.61866355e-22,  3.57419181e-23,\n",
       "         -3.32723417e-23],\n",
       "        [ 0.00000000e+00,  0.00000000e+00,  0.00000000e+00,\n",
       "          1.15805286e-23, -4.35764240e-22, -7.75457195e-22,\n",
       "         -3.52551340e-22,  2.44905356e-06, -3.43551373e-22,\n",
       "          2.19761438e-22,  2.49705147e-23,  2.62216254e-22,\n",
       "          3.80503082e-23,  2.13412598e-22,  1.06499504e-23,\n",
       "         -2.95303479e-22],\n",
       "        [ 0.00000000e+00,  0.00000000e+00,  0.00000000e+00,\n",
       "         -5.73701454e-22, -4.42898571e-22,  3.88188677e-23,\n",
       "          3.52159636e-22, -1.84733503e-22,  2.44905356e-06,\n",
       "          4.24279355e-22,  1.56763651e-22,  3.56101254e-22,\n",
       "          2.56115797e-22,  1.32503994e-22,  6.04649641e-23,\n",
       "          1.42016571e-22],\n",
       "        [ 0.00000000e+00,  0.00000000e+00,  0.00000000e+00,\n",
       "          2.93849279e-23, -9.87063715e-23,  1.62345288e-22,\n",
       "         -5.66938130e-22,  2.19761438e-22,  4.24279355e-22,\n",
       "          2.44905356e-06, -3.81657429e-22, -5.10840661e-22,\n",
       "          1.92391603e-22, -1.32098151e-22, -1.15230025e-23,\n",
       "          5.90073789e-22],\n",
       "        [ 0.00000000e+00,  0.00000000e+00,  0.00000000e+00,\n",
       "         -6.02187486e-22,  4.78352732e-22,  1.74548325e-22,\n",
       "          3.46152516e-22,  7.78842246e-23,  1.30293871e-22,\n",
       "         -3.28717870e-22,  2.44905356e-06,  3.47415857e-23,\n",
       "         -4.15244668e-22, -5.95570041e-23, -1.48995908e-22,\n",
       "          1.93560263e-22],\n",
       "        [ 0.00000000e+00,  0.00000000e+00,  0.00000000e+00,\n",
       "          5.82335151e-22, -5.27327641e-23, -1.53082311e-22,\n",
       "         -9.12392488e-23,  2.36573655e-22,  3.82622732e-22,\n",
       "         -5.63780220e-22,  9.92616735e-24,  2.44905356e-06,\n",
       "         -3.17637355e-22, -6.35274710e-22,  9.92616735e-24,\n",
       "          3.17637355e-22],\n",
       "        [ 0.00000000e+00,  0.00000000e+00,  0.00000000e+00,\n",
       "         -5.02925812e-22, -2.01625274e-22,  1.02481187e-22,\n",
       "          2.58810459e-22,  3.97046694e-23,  2.62733242e-22,\n",
       "          1.92391603e-22, -4.25170835e-22, -3.17637355e-22,\n",
       "          2.44905356e-06, -1.05879118e-22,  5.29395592e-23,\n",
       "          0.00000000e+00],\n",
       "        [ 0.00000000e+00,  0.00000000e+00,  0.00000000e+00,\n",
       "          1.72053567e-22, -2.68937097e-22,  3.78207806e-22,\n",
       "         -3.58557633e-22,  2.16721320e-22,  1.22577827e-22,\n",
       "         -1.32098151e-22, -5.95570041e-23, -5.29395592e-22,\n",
       "         -1.05879118e-22,  2.44905356e-06, -8.93355062e-23,\n",
       "          1.05879118e-22],\n",
       "        [ 0.00000000e+00,  0.00000000e+00,  0.00000000e+00,\n",
       "          9.09898674e-24,  4.79570885e-23,  9.53810948e-24,\n",
       "          2.25070283e-23,  1.06499504e-23,  7.36998539e-23,\n",
       "         -8.21428004e-24, -1.44032824e-22,  9.92616735e-24,\n",
       "          6.61744490e-23, -6.61744490e-23,  2.44905356e-06,\n",
       "          3.63959470e-23],\n",
       "        [ 0.00000000e+00,  0.00000000e+00,  0.00000000e+00,\n",
       "         -2.84550131e-22,  3.26219354e-22, -3.32662240e-22,\n",
       "         -3.32723417e-23, -3.48243038e-22,  2.47843991e-22,\n",
       "          5.90073789e-22,  6.20385459e-23,  3.17637355e-22,\n",
       "          0.00000000e+00,  1.58818678e-22,  3.63959470e-23,\n",
       "          2.44905356e-06]]),\n",
       " 'mask': array([ True,  True,  True,  True,  True,  True,  True,  True,  True,\n",
       "         True,  True,  True,  True,  True,  True,  True]),\n",
       " 'loglik': -5215.3638659969165,\n",
       " 'aic': 10464.727731993833,\n",
       " 'arma': (1, 1, 0, 1, 7, 1, 0),\n",
       " 'residuals': array([ 9.84757421e-01, -1.54909440e+02,  4.34682596e+02,  3.82432120e+02,\n",
       "         2.82900276e+02,  2.27537255e+02,  9.55858562e+01, -4.32584973e+02,\n",
       "        -3.56685001e+02,  2.23008499e+02,  3.03796048e-02, -8.42263339e+01,\n",
       "         1.96186379e+02,  1.20348521e+02, -7.19678057e+01, -5.96258781e+01,\n",
       "        -1.69691468e+02, -5.04122672e+02,  6.24307048e+02,  5.65276648e+02,\n",
       "         4.34351400e+01, -4.16528590e+02, -2.10374396e+02,  2.39966047e+02,\n",
       "         6.61873487e+02, -1.04114907e+03, -5.93271891e+02,  2.24486199e+02,\n",
       "        -7.53744519e+01, -4.94843110e+01,  3.63042590e+02, -5.62367654e+02,\n",
       "        -1.27300023e+02, -1.34728096e+02,  3.39454750e+01, -7.17818928e+02,\n",
       "         1.72124205e+02,  7.22986784e+01, -1.45831374e+02, -3.11801658e+00,\n",
       "        -9.07876269e+01,  1.46124659e+02, -2.04411456e+02,  1.39599945e+01,\n",
       "         3.03520567e+02,  8.22396931e+01,  4.01405892e+02,  6.34984488e+02,\n",
       "         9.20466070e+02, -5.96190344e+02,  4.87026937e+00, -6.76243175e+02,\n",
       "        -1.58789090e+02,  2.50928733e+02, -1.46539147e+01, -3.26971451e+02,\n",
       "         3.06163360e+02,  5.67399977e+02, -5.72095654e+02, -5.07150820e+02,\n",
       "        -9.53613380e+01, -6.14192671e+02, -1.66414946e+02, -8.55764076e+01,\n",
       "        -1.58440651e+03,  2.55939835e+02,  1.36626040e+02, -1.91099604e+02,\n",
       "        -1.37362549e+03,  4.80633649e+02,  2.07569476e+02,  4.21172581e+02,\n",
       "        -6.68520048e+01,  5.32788424e+01,  1.79563920e+02,  6.69688231e+02,\n",
       "         9.47111171e+02,  5.86118124e+02, -8.67977684e+01, -2.93333458e+02,\n",
       "         4.73985168e+02, -3.32092367e+02, -3.88615072e+02,  7.02618687e+01,\n",
       "         2.51556650e+02, -6.60297766e+02, -3.25317294e+01,  2.77543423e+02,\n",
       "        -7.54608923e+02, -2.78385679e+02,  1.38547386e+02,  3.05320134e+01,\n",
       "         1.01366617e+03,  4.96896844e+02, -8.36953733e+02,  6.28372931e+02,\n",
       "         6.14170953e+02, -1.21195295e+03,  3.65350559e+02,  4.96463025e+02,\n",
       "         7.72631452e+02, -7.54609832e+02, -1.74789795e+02,  9.13197163e+02,\n",
       "         4.32860987e+02, -1.99131703e+03,  1.83894814e+03,  5.08746642e+02,\n",
       "         3.11852097e+02,  1.08372465e+03,  1.01233871e+03, -1.67050259e+03,\n",
       "         1.54788050e+03,  8.98259383e+02,  6.37446883e+02,  9.29424080e+02,\n",
       "         2.15402917e+02,  5.26059219e+02,  9.44949028e+02,  1.42500348e+03,\n",
       "        -9.82246006e+02,  7.43787119e+02,  4.23922485e+02, -1.45535130e+03,\n",
       "         1.00670054e+03,  5.75407401e+02,  5.74232998e+02,  9.36649492e+01,\n",
       "         2.25735991e+02,  6.33804860e+02, -1.84718889e+02,  6.99524456e+02,\n",
       "        -3.24885835e+02, -7.74677226e+02,  6.43487684e+02, -3.37894804e+02,\n",
       "         3.05004811e+01, -2.89846213e+02,  5.39085218e+02,  6.19432861e+02,\n",
       "         1.34463049e+03, -1.84478024e+02, -2.35499409e+02,  1.16389880e+02,\n",
       "         5.27992752e+02,  3.90111651e+01,  1.21392123e+02,  1.90289095e+02,\n",
       "         1.72410516e+02, -4.71909084e+02, -4.37082259e+02,  8.99971786e+01,\n",
       "         9.53745815e+02,  9.20187882e+02,  7.57404637e+02,  2.33044175e+02,\n",
       "        -3.05906801e+01,  3.57405150e+02, -1.89825017e+02, -5.31692727e+02,\n",
       "         3.31267301e+02,  4.88898273e+02, -1.76547158e+02,  5.42206671e+02,\n",
       "         2.01374861e+02,  5.02962992e+02, -1.04525140e+03,  5.39511475e+02,\n",
       "         4.58004600e+02, -4.46011133e+01, -6.66420698e+02,  4.32470471e+02,\n",
       "        -1.69920712e+02,  2.16292041e+02,  3.21643227e+02,  4.42518557e+02,\n",
       "         4.38056227e+02, -2.36533620e+02, -1.00814457e+02,  5.01257643e+02,\n",
       "         5.78942483e+02,  8.68480385e+02,  4.14195493e+02, -3.16209811e+01,\n",
       "         1.56672190e+03, -4.57802161e+02, -3.85134520e+01, -6.08653551e+01,\n",
       "        -5.94665219e+02,  9.16569089e+02,  1.70149583e+00, -6.59991877e+02,\n",
       "        -2.04300727e+02, -1.45144465e+02,  5.88654511e+02,  7.71332273e+02,\n",
       "         9.54264684e+02,  1.21719577e+02, -5.64716393e+02, -1.85119848e+02,\n",
       "        -3.97554173e+02, -8.42303790e+02, -9.96509149e+02, -8.81450551e+02,\n",
       "        -4.41934253e+02, -2.53554536e+02,  4.59304598e+02,  2.66692462e+02,\n",
       "        -4.78995768e+01, -5.13674974e+02,  3.21317026e+02, -5.95816677e+01,\n",
       "         2.33699505e+02,  7.24447913e+02, -7.85124221e+02,  6.53033899e+02,\n",
       "         5.92699024e+02, -1.19536551e+02, -4.57848323e+02,  2.74636117e+02,\n",
       "         3.72907371e+02,  4.28615712e+02,  3.51324263e+02,  4.23903731e+02,\n",
       "        -4.10075399e+02, -4.87685397e+02,  1.76683487e+02,  4.01105940e+02,\n",
       "         2.20218160e+02, -6.83531873e+02, -1.49820866e+01,  9.24290762e+02,\n",
       "        -7.81284880e+02,  5.56301065e+02,  1.38876829e+03,  1.59451442e+02,\n",
       "        -1.23572400e+03,  4.59084090e+02, -3.44355040e+03,  1.12131245e+03,\n",
       "         4.10466339e+02,  8.57149480e+02,  4.57179442e+02,  8.16905734e+02,\n",
       "         2.45085481e+02,  6.84134864e+01,  6.02360743e+02, -1.10732595e+03,\n",
       "        -1.27902215e+03, -1.66023191e+03, -1.43807517e+03,  4.56757701e+02,\n",
       "         1.73428995e+03,  7.52139582e+02,  4.16243210e+02,  5.13934760e+02,\n",
       "         4.65565600e+02, -7.15552544e+02,  7.82236030e+02,  1.49095056e+02,\n",
       "        -3.75329538e+01,  2.96455089e+02, -7.06166276e+02,  3.29853835e+02,\n",
       "         5.35060090e+02, -2.03909154e+03,  1.87124482e+03,  4.15532569e+02,\n",
       "         1.08171386e+02, -3.11319479e+02, -3.45238321e+02,  6.83618238e+02,\n",
       "         7.04087716e+02, -1.52760536e+03, -3.04854274e+02,  2.41899607e+02,\n",
       "         9.18848891e+02,  9.44456986e+02,  6.84635059e+02,  8.49711147e+02,\n",
       "         1.11366810e+03,  9.84200826e+02,  5.32480448e+02, -5.77678463e+01,\n",
       "        -2.02344661e+03, -7.14692333e+02, -4.58020775e+01,  1.32966584e+03,\n",
       "         5.74540304e+02,  9.04872424e+01,  3.88052002e+02, -2.03474560e+03,\n",
       "         6.03760366e+02,  1.57609157e+02,  1.20248218e+02,  1.76883170e+02,\n",
       "        -5.79115644e+01,  5.03574766e+02, -4.91913428e+02, -1.44378204e+03,\n",
       "         1.39513595e+02, -3.29869330e+03,  6.24032573e+02,  1.41221326e+02,\n",
       "         1.76720287e+02,  2.32449879e+02, -4.11685056e+01,  1.00226234e+02,\n",
       "        -6.46282476e+01, -2.86524211e+02,  2.05253422e+02,  2.46147084e+02,\n",
       "         7.70512726e+01, -1.08135082e+03, -1.31087772e+02,  3.67041706e+02,\n",
       "        -1.97359892e+02,  6.91996215e+02,  1.13727904e+02, -2.19573413e+03,\n",
       "        -6.94723319e+01, -6.43219742e+01,  1.20950998e+02, -1.12571033e+02,\n",
       "        -8.12205169e+02, -1.67597771e+03, -2.26564711e+02, -1.46064404e+03,\n",
       "         1.96498076e+02,  1.11049006e+02,  2.44424766e+01,  8.14074728e+02,\n",
       "        -4.50812969e+02,  5.66820468e+02,  2.33816972e+02,  4.48705011e+02,\n",
       "         1.56461853e+01, -2.44131400e+01,  3.43420554e+02, -1.00564523e+03,\n",
       "        -2.44504316e+03,  9.55833238e+02,  4.24122554e+02, -1.35371994e+02,\n",
       "        -4.48328200e+02,  2.92186620e+02,  3.10775801e+02,  4.29147722e+02,\n",
       "         3.05334020e+02,  1.47940453e+02, -6.71012252e+02, -6.75817240e+02,\n",
       "         4.56326768e+02,  4.84292010e+02, -7.52996296e+02,  3.81589999e+01,\n",
       "        -9.39159550e+02, -1.80175788e+03, -1.53469543e+03, -6.60976237e+02,\n",
       "        -9.95611979e+02,  3.08088654e+02,  8.16108711e+01,  6.11215601e+02,\n",
       "        -1.31948816e+02, -5.19748621e+02, -5.80270811e+02, -2.32789328e+02,\n",
       "        -1.30472708e+02,  7.49697527e+02,  1.24666170e+03,  1.30483785e+03,\n",
       "        -4.86086080e+01, -7.87337497e+02,  8.11524172e+02, -1.03562418e+03,\n",
       "         1.39359956e+03, -1.69601501e+02, -6.25678694e+02, -5.45579583e+02,\n",
       "        -3.80734055e+02,  2.13610597e+02,  4.67351036e+02,  2.20629951e+02,\n",
       "         8.58784770e+01, -1.75118647e+03, -3.70940431e+02, -6.48135370e+01,\n",
       "         1.72445476e+03,  9.42687699e+02,  6.66534343e+02,  3.10416154e+01,\n",
       "         7.59791012e+02, -2.53616404e+02,  3.72779259e+02,  1.11955087e+03,\n",
       "         1.87030864e+02, -4.93909620e+02,  1.74015365e+02, -1.26908132e+03,\n",
       "        -6.56099221e+02,  2.20622404e+02,  5.58182874e+02, -1.24195084e+03,\n",
       "         3.53119665e+02,  3.27186482e+01, -1.63892188e+03, -1.64037631e+03,\n",
       "         6.07704059e+02,  5.17153206e+02,  5.62886243e+02, -7.23378100e+02,\n",
       "         8.25435064e+02,  5.74936025e+02, -1.16124854e+03, -6.31964883e+01,\n",
       "         3.75897632e+02,  1.17214581e+03,  1.05451687e+03, -7.06354401e+02,\n",
       "        -9.48237244e+02,  1.25082477e+01,  7.65028403e+02,  4.66848069e+02,\n",
       "        -2.11943241e+03,  1.29675802e+03, -1.33656968e+03,  1.76106774e+02,\n",
       "        -7.25081650e+02, -5.56068966e+02,  1.49863433e+02,  9.09796404e+02,\n",
       "         1.02523559e+03, -3.63494308e+01, -2.51123156e+02,  6.90503907e+02,\n",
       "         7.83824651e+02,  1.14479899e+03,  1.33900368e+03,  9.48778896e+02,\n",
       "        -9.35930180e+02,  3.12585187e+03, -1.08786117e+02,  7.06470401e+02,\n",
       "         5.00906981e+02,  6.03033416e+02,  1.14110215e+03,  2.32543093e+03,\n",
       "        -3.30953558e+03,  4.34505396e+01,  1.51346934e+02, -4.77893898e+02,\n",
       "         2.96382164e+02,  5.36377733e+02, -3.10168711e+02,  6.64196879e+02,\n",
       "         8.14465873e+01,  5.43773040e+01,  9.11370251e+02,  2.48987742e+02,\n",
       "         3.38504073e+02,  2.96618091e+02,  6.65352990e+02, -1.20575449e+03,\n",
       "        -1.91775967e+02,  4.90575219e+01, -1.10732669e+03, -1.48419001e+02,\n",
       "         7.03704339e+02,  1.41725217e+03,  6.35949536e+02, -2.55392582e+01,\n",
       "         4.18773437e+02, -2.02351263e+03,  1.03975777e+03,  1.04549265e+03,\n",
       "         7.01603753e+01, -5.35115736e+03, -1.04068042e+03,  8.80240839e+02,\n",
       "         6.65793071e+02, -7.19712885e+02,  8.90038718e+02, -1.55712770e+03,\n",
       "         1.23022630e+03, -1.97312173e+02,  1.09372251e+02,  5.05619742e+02,\n",
       "         5.79134911e+02,  3.29049516e+02,  9.06393779e+02,  1.33841480e+02,\n",
       "         1.74440411e+02, -3.63820050e+02, -1.18272854e+03,  1.07964179e+03,\n",
       "         9.05557623e+02,  1.08372984e+03, -4.55808991e+02, -3.31686831e+03,\n",
       "         2.16556301e+02,  1.86559001e+03,  9.93533521e+02,  1.15449200e+03,\n",
       "         1.61757290e+03,  9.31583298e+01, -2.37388557e+03,  3.76464067e+02,\n",
       "        -9.47313160e+02,  8.86654814e+02,  3.37042864e+02,  1.15904659e+02,\n",
       "         2.08262536e+02, -3.14708407e+02, -5.11077083e+02,  7.53469284e+02,\n",
       "         8.53991353e+02, -2.14921065e+03,  2.84423435e+03,  9.51801325e+02,\n",
       "         3.39753566e+02,  4.85211670e+02,  4.92140388e+02,  8.64844737e+02,\n",
       "         8.81003523e+02,  5.02220294e+02, -3.91062725e+02, -3.49139640e+01,\n",
       "        -1.74087814e+03,  1.36405834e+03,  4.80840410e+02,  7.48668174e+02,\n",
       "         6.21190902e+02, -1.82225375e+02, -1.83878754e+03,  5.98307336e+02,\n",
       "        -5.48071394e+02, -6.28031323e+02, -5.57045125e+02,  1.15946004e+03,\n",
       "         1.10155838e+01,  4.90111555e+01,  7.47361832e+02,  3.72053635e+02,\n",
       "        -9.39811254e+01, -1.37288097e+03, -6.02147245e+02, -1.77231748e+02,\n",
       "         4.18298421e+02,  6.15953260e+02,  1.24447137e+03, -3.50712753e+02,\n",
       "        -8.76043306e+00, -1.36276064e+03, -1.00413292e+03,  1.04817022e+03,\n",
       "         1.30484378e+02,  1.17137435e+03,  9.51979417e+02,  8.54936214e+02,\n",
       "         2.14234532e+02, -5.97716785e+02,  5.34044570e+02,  2.07490873e+02,\n",
       "        -8.70785316e+02,  3.98000385e+02, -6.09852297e+02, -1.75766749e+03,\n",
       "         1.76917375e+03,  3.19852250e+02,  1.03475419e+03,  1.32751734e+03,\n",
       "        -2.81839114e+02,  1.52773755e+02, -9.93789030e+01, -1.01964690e+02,\n",
       "         4.36111230e+02,  3.62494724e+02,  9.33079194e+02,  3.31480499e+02,\n",
       "         3.01096320e+02, -5.87059131e+01, -1.31468417e+03,  7.54601399e+02,\n",
       "         5.02846790e+02,  6.40755265e+02,  2.50208665e+02, -1.20704780e+03,\n",
       "        -1.49638727e+02, -3.71122775e+01,  2.45492469e+02,  2.53193175e+01,\n",
       "         6.14042408e+02,  6.48852873e+02,  4.54416561e+01,  8.88928823e+02,\n",
       "        -2.72049986e+03,  4.73673270e+02,  3.46440602e+02,  5.48567041e+02,\n",
       "         7.78141196e+02,  4.01979509e+02, -1.11493635e+03, -1.38338318e+03,\n",
       "         6.59311018e+02,  2.48906507e+02,  8.46306120e+02,  5.90901285e+02,\n",
       "         1.59804596e+02, -6.55946438e+02, -6.68977382e+02, -2.01883284e+02,\n",
       "         4.92787722e+02,  4.80108193e+02, -5.49447312e+02,  1.06153320e+03,\n",
       "        -9.44685926e+02,  1.83183604e+03,  3.10301313e+02,  7.18065225e+02,\n",
       "         6.77898847e+02,  5.07514162e+02,  6.83746656e+02,  1.25150817e+03,\n",
       "        -4.47178953e+02, -4.84362428e+02, -3.09798888e+03,  1.52705112e+03,\n",
       "         5.13360290e+02,  8.71115891e+02,  8.85109059e+02,  2.33545244e+02,\n",
       "        -1.26397183e+02,  1.09244587e+02,  2.82077802e+02, -1.45626148e+02,\n",
       "        -1.17284207e+01,  1.12381526e+03, -9.81090358e+02,  1.76293568e+02]),\n",
       " 'code': 2,\n",
       " 'n_cond': 0,\n",
       " 'nobs': 639,\n",
       " 'model': {'phi': array([0.27884585]),\n",
       "  'theta': array([-0.89437047,  0.        ,  0.        ,  0.        ,  0.        ,\n",
       "          0.        , -0.00414513,  0.00370728]),\n",
       "  'delta': array([1.]),\n",
       "  'Z': array([1., 0., 0., 0., 0., 0., 0., 0., 0., 1.]),\n",
       "  'a': array([ 5.90584382e+02, -1.58593185e+02, -7.64248775e-01,  1.64938144e+00,\n",
       "         -4.91261410e-01, -4.70184147e+00,  8.23304801e+00, -4.36793879e+00,\n",
       "          6.53570029e-01,  6.98519484e+03]),\n",
       "  'P': array([[ 0.00000000e+00,  0.00000000e+00,  0.00000000e+00,\n",
       "           0.00000000e+00,  0.00000000e+00,  0.00000000e+00,\n",
       "          -2.87092584e-24,  0.00000000e+00,  0.00000000e+00,\n",
       "           5.41583679e-22],\n",
       "         [ 0.00000000e+00,  3.33066907e-16,  1.11581414e-24,\n",
       "          -1.26090311e-24,  1.41353215e-24, -1.58047721e-24,\n",
       "           2.56768505e-24,  0.00000000e+00, -1.30104261e-18,\n",
       "          -3.26991379e-22],\n",
       "         [ 0.00000000e+00,  1.11581414e-24, -3.38813179e-21,\n",
       "           1.19003623e-26, -3.31830960e-27, -1.43492334e-42,\n",
       "          -3.61995931e-48, -1.37548264e-29, -4.67452380e-27,\n",
       "          -1.24048456e-46],\n",
       "         [ 0.00000000e+00, -1.26090311e-24,  1.19003623e-26,\n",
       "          -3.38813179e-21, -1.19003623e-26,  3.31830960e-27,\n",
       "           1.43493369e-42,  0.00000000e+00,  5.24036275e-27,\n",
       "          -5.85048073e-46],\n",
       "         [ 0.00000000e+00,  1.41353215e-24, -3.31830960e-27,\n",
       "          -1.19003623e-26, -3.38813179e-21,  1.19003623e-26,\n",
       "          -3.31830960e-27, -1.43492963e-42, -5.85927523e-27,\n",
       "          -6.82456502e-47],\n",
       "         [ 0.00000000e+00, -1.58047721e-24, -1.43492334e-42,\n",
       "           3.31830960e-27,  1.19003623e-26, -3.38813179e-21,\n",
       "          -1.19003623e-26,  3.31830960e-27,  6.55128430e-27,\n",
       "          -6.46084967e-46],\n",
       "         [-2.87092584e-24,  2.56768505e-24, -3.61995931e-48,\n",
       "           1.43493369e-42, -3.31830960e-27, -1.19003623e-26,\n",
       "          -3.38813179e-21,  1.19003623e-26, -1.06433326e-26,\n",
       "           2.87092584e-24],\n",
       "         [ 0.00000000e+00,  0.00000000e+00, -1.37548264e-29,\n",
       "           0.00000000e+00, -1.43492963e-42,  3.31830960e-27,\n",
       "           1.19003623e-26, -3.38813179e-21,  0.00000000e+00,\n",
       "          -2.87092584e-24],\n",
       "         [ 0.00000000e+00, -1.30104261e-18, -4.67452380e-27,\n",
       "           5.24036275e-27, -5.85927523e-27,  6.55128430e-27,\n",
       "          -1.06433326e-26,  0.00000000e+00,  6.77626358e-21,\n",
       "           1.35542194e-24],\n",
       "         [ 5.41583679e-22, -3.26991379e-22, -1.24048456e-46,\n",
       "          -5.85048073e-46, -6.82456502e-47, -6.46084967e-46,\n",
       "           2.87092584e-24, -2.87092584e-24,  1.35542194e-24,\n",
       "          -5.41583679e-22]]),\n",
       "  'T': array([[0.27884585, 1.        , 0.        , 0.        , 0.        ,\n",
       "          0.        , 0.        , 0.        , 0.        , 0.        ],\n",
       "         [0.        , 0.        , 1.        , 0.        , 0.        ,\n",
       "          0.        , 0.        , 0.        , 0.        , 0.        ],\n",
       "         [0.        , 0.        , 0.        , 1.        , 0.        ,\n",
       "          0.        , 0.        , 0.        , 0.        , 0.        ],\n",
       "         [0.        , 0.        , 0.        , 0.        , 1.        ,\n",
       "          0.        , 0.        , 0.        , 0.        , 0.        ],\n",
       "         [0.        , 0.        , 0.        , 0.        , 0.        ,\n",
       "          1.        , 0.        , 0.        , 0.        , 0.        ],\n",
       "         [0.        , 0.        , 0.        , 0.        , 0.        ,\n",
       "          0.        , 1.        , 0.        , 0.        , 0.        ],\n",
       "         [0.        , 0.        , 0.        , 0.        , 0.        ,\n",
       "          0.        , 0.        , 1.        , 0.        , 0.        ],\n",
       "         [0.        , 0.        , 0.        , 0.        , 0.        ,\n",
       "          0.        , 0.        , 0.        , 1.        , 0.        ],\n",
       "         [0.        , 0.        , 0.        , 0.        , 0.        ,\n",
       "          0.        , 0.        , 0.        , 0.        , 0.        ],\n",
       "         [1.        , 0.        , 0.        , 0.        , 0.        ,\n",
       "          0.        , 0.        , 0.        , 0.        , 1.        ]]),\n",
       "  'V': array([[ 1.00000000e+00, -8.94370472e-01,  0.00000000e+00,\n",
       "           0.00000000e+00,  0.00000000e+00,  0.00000000e+00,\n",
       "           0.00000000e+00, -4.14513050e-03,  3.70728233e-03,\n",
       "           0.00000000e+00],\n",
       "         [-8.94370472e-01,  7.99898541e-01, -0.00000000e+00,\n",
       "          -0.00000000e+00, -0.00000000e+00, -0.00000000e+00,\n",
       "          -0.00000000e+00,  3.70728233e-03, -3.31568384e-03,\n",
       "          -0.00000000e+00],\n",
       "         [ 0.00000000e+00, -0.00000000e+00,  0.00000000e+00,\n",
       "           0.00000000e+00,  0.00000000e+00,  0.00000000e+00,\n",
       "           0.00000000e+00, -0.00000000e+00,  0.00000000e+00,\n",
       "           0.00000000e+00],\n",
       "         [ 0.00000000e+00, -0.00000000e+00,  0.00000000e+00,\n",
       "           0.00000000e+00,  0.00000000e+00,  0.00000000e+00,\n",
       "           0.00000000e+00, -0.00000000e+00,  0.00000000e+00,\n",
       "           0.00000000e+00],\n",
       "         [ 0.00000000e+00, -0.00000000e+00,  0.00000000e+00,\n",
       "           0.00000000e+00,  0.00000000e+00,  0.00000000e+00,\n",
       "           0.00000000e+00, -0.00000000e+00,  0.00000000e+00,\n",
       "           0.00000000e+00],\n",
       "         [ 0.00000000e+00, -0.00000000e+00,  0.00000000e+00,\n",
       "           0.00000000e+00,  0.00000000e+00,  0.00000000e+00,\n",
       "           0.00000000e+00, -0.00000000e+00,  0.00000000e+00,\n",
       "           0.00000000e+00],\n",
       "         [ 0.00000000e+00, -0.00000000e+00,  0.00000000e+00,\n",
       "           0.00000000e+00,  0.00000000e+00,  0.00000000e+00,\n",
       "           0.00000000e+00, -0.00000000e+00,  0.00000000e+00,\n",
       "           0.00000000e+00],\n",
       "         [-4.14513050e-03,  3.70728233e-03, -0.00000000e+00,\n",
       "          -0.00000000e+00, -0.00000000e+00, -0.00000000e+00,\n",
       "          -0.00000000e+00,  1.71821069e-05, -1.53671691e-05,\n",
       "          -0.00000000e+00],\n",
       "         [ 3.70728233e-03, -3.31568384e-03,  0.00000000e+00,\n",
       "           0.00000000e+00,  0.00000000e+00,  0.00000000e+00,\n",
       "           0.00000000e+00, -1.53671691e-05,  1.37439422e-05,\n",
       "           0.00000000e+00],\n",
       "         [ 0.00000000e+00, -0.00000000e+00,  0.00000000e+00,\n",
       "           0.00000000e+00,  0.00000000e+00,  0.00000000e+00,\n",
       "           0.00000000e+00, -0.00000000e+00,  0.00000000e+00,\n",
       "           0.00000000e+00]]),\n",
       "  'h': 0.0,\n",
       "  'Pn': array([[ 1.00000000e+00, -8.94370472e-01,  1.26090311e-24,\n",
       "          -1.41353215e-24,  1.58047721e-24, -1.76713930e-24,\n",
       "           0.00000000e+00, -4.14513050e-03,  3.70728233e-03,\n",
       "           1.75973018e-22],\n",
       "         [-8.94370472e-01,  7.99898541e-01, -1.19003623e-26,\n",
       "           3.31830960e-27,  1.43493591e-42, -3.61995931e-48,\n",
       "           1.37548264e-29,  3.70728233e-03, -3.31568384e-03,\n",
       "          -1.24048456e-46],\n",
       "         [ 1.26090311e-24, -1.19003623e-26, -3.38813179e-21,\n",
       "           1.19003623e-26, -3.31830960e-27, -1.43492557e-42,\n",
       "           0.00000000e+00, -5.24036275e-27,  0.00000000e+00,\n",
       "          -5.85048073e-46],\n",
       "         [-1.41353215e-24,  3.31830960e-27,  1.19003623e-26,\n",
       "          -3.38813179e-21, -1.19003623e-26,  3.31830960e-27,\n",
       "           1.43492963e-42,  5.85927523e-27,  0.00000000e+00,\n",
       "          -6.82456502e-47],\n",
       "         [ 1.58047721e-24,  1.43493591e-42, -3.31830960e-27,\n",
       "          -1.19003623e-26, -3.38813179e-21,  1.19003623e-26,\n",
       "          -3.31830960e-27, -6.55128430e-27,  0.00000000e+00,\n",
       "          -6.46084967e-46],\n",
       "         [-1.76713930e-24, -3.61995931e-48, -1.43492557e-42,\n",
       "           3.31830960e-27,  1.19003623e-26, -3.38813179e-21,\n",
       "          -1.19003623e-26,  1.06433326e-26,  0.00000000e+00,\n",
       "           0.00000000e+00],\n",
       "         [ 0.00000000e+00,  1.37548264e-29,  0.00000000e+00,\n",
       "           1.43492963e-42, -3.31830960e-27, -1.19003623e-26,\n",
       "          -3.38813179e-21,  0.00000000e+00,  0.00000000e+00,\n",
       "           2.87092584e-24],\n",
       "         [-4.14513050e-03,  3.70728233e-03, -5.24036275e-27,\n",
       "           5.85927523e-27, -6.55128430e-27,  1.06433326e-26,\n",
       "           0.00000000e+00,  1.71821069e-05, -1.53671691e-05,\n",
       "          -1.35542194e-24],\n",
       "         [ 3.70728233e-03, -3.31568384e-03,  0.00000000e+00,\n",
       "           0.00000000e+00,  0.00000000e+00,  0.00000000e+00,\n",
       "           0.00000000e+00, -1.53671691e-05,  1.37439422e-05,\n",
       "           0.00000000e+00],\n",
       "         [ 1.75973018e-22, -1.24048456e-46, -5.85048073e-46,\n",
       "          -6.82456502e-47, -6.46084967e-46,  0.00000000e+00,\n",
       "           2.87092584e-24, -1.35542194e-24,  0.00000000e+00,\n",
       "          -5.41583679e-22]])},\n",
       " 'bic': 10540.519482810694,\n",
       " 'aicc': 10465.714828768027,\n",
       " 'ic': None,\n",
       " 'xreg': array([[0., 1., 0., ..., 0., 0., 0.],\n",
       "        [0., 1., 0., ..., 0., 0., 0.],\n",
       "        [0., 1., 0., ..., 0., 0., 0.],\n",
       "        ...,\n",
       "        [0., 1., 0., ..., 0., 0., 0.],\n",
       "        [0., 1., 0., ..., 0., 0., 0.],\n",
       "        [0., 1., 0., ..., 1., 0., 0.]]),\n",
       " 'x': array([ 985.,  801., 1349., 1562., 1600., 1606., 1510.,  959.,  822.,\n",
       "        1321., 1263., 1162., 1406., 1421., 1248., 1204., 1000.,  683.,\n",
       "        1650., 1927., 1543.,  981.,  986., 1416., 1985.,  506.,  431.,\n",
       "        1167., 1098., 1096., 1501., 1360., 1526., 1550., 1708., 1005.,\n",
       "        1623., 1712., 1530., 1605., 1538., 1746., 1472., 1589., 1913.,\n",
       "        1815., 2115., 2475., 2927., 1635., 1812., 1107., 1450., 1917.,\n",
       "        1807., 1461., 1969., 2402., 1446., 1851., 2134., 1685., 1944.,\n",
       "        2077.,  605., 1872., 2133., 1891.,  623., 1977., 2132., 2417.,\n",
       "        2046., 2056., 2192., 2744., 3239., 3117., 2471., 2077., 2703.,\n",
       "        2121., 1865., 2210., 2496., 1693., 2028., 2425., 1536., 1685.,\n",
       "        2227., 2252., 3249., 3115., 1795., 2808., 3141., 1471., 2455.,\n",
       "        2895., 3348., 2034., 2162., 3267., 3126.,  795., 3744., 3429.,\n",
       "        3204., 3944., 4189., 1683., 4036., 4191., 4073., 4400., 3872.,\n",
       "        4058., 4595., 5312., 3351., 4401., 4451., 2633., 4433., 4608.,\n",
       "        4714., 4333., 4362., 4803., 4182., 4864., 4105., 3409., 4553.,\n",
       "        3958., 4123., 3855., 4575., 4917., 5805., 4660., 4274., 4492.,\n",
       "        4978., 4677., 4679., 4758., 4788., 4098., 3982., 3974., 4968.,\n",
       "        5312., 5342., 4906., 4548., 4833., 4401., 3915., 4586., 4966.,\n",
       "        4460., 5020., 4891., 5180., 3767., 4844., 5119., 4744., 4010.,\n",
       "        4835., 4507., 4790., 4991., 5202., 5305., 4708., 4648., 5225.,\n",
       "        5515., 5362., 5119., 4649., 6043., 4665., 4629., 4592., 4040.,\n",
       "        5336., 4881., 4086., 4258., 4342., 5084., 5538., 5923., 5302.,\n",
       "        4458., 4541., 4332., 3784., 3387., 3285., 3606., 3840., 4590.,\n",
       "        4656., 4390., 3846., 4475., 4302., 4266., 4845., 3574., 4576.,\n",
       "        4866., 4294., 3785., 4326., 4602., 4780., 4792., 4905., 4150.,\n",
       "        3820., 4338., 4725., 4694., 3805., 4153., 5191., 3873., 4758.,\n",
       "        5895., 5130., 3542., 4661., 1115., 4334., 4634., 5204., 5058.,\n",
       "        5115., 4727., 4484., 4940., 3351., 2710., 1996., 1842., 3544.,\n",
       "        5345., 5046., 4713., 4763., 4785., 3659., 4760., 4511., 4274.,\n",
       "        4539., 3641., 4352., 4795., 2395., 5423., 5010., 4630., 4120.,\n",
       "        3907., 4839., 5202., 2429., 2918., 3570., 4456., 4826., 4765.,\n",
       "        4985., 5409., 5511., 5117., 4563., 2416., 2913., 3644., 5217.,\n",
       "        5041., 4570., 4748., 2424., 4195., 4304., 4308., 4381., 4187.,\n",
       "        4687., 3894., 2659., 3747.,  627., 3331., 3669., 4068., 4186.,\n",
       "        3974., 4046., 3926., 3649., 4035., 4205., 4109., 2933., 3368.,\n",
       "        4067., 3717., 4486., 4195., 1817., 3053., 3392., 3663., 3520.,\n",
       "        2765., 1607., 2566., 1495., 2792., 3068., 3071., 3867., 2914.,\n",
       "        3613., 3727., 3940., 3614., 3485., 3811., 2594.,  705., 3322.,\n",
       "        3620., 3190., 2743., 3310., 3523., 3740., 3709., 3577., 2739.,\n",
       "        2431., 3403., 3750., 2660., 3068., 2209., 1011.,  754., 1317.,\n",
       "        1162., 2302., 2423., 2999., 2485., 2294., 1951., 2236., 2368.,\n",
       "        3272., 4098., 4521., 3425., 2376., 3598., 2177., 4097., 3214.,\n",
       "        2493., 2311., 2298., 2935., 3376., 3292., 3163., 1301., 1977.,\n",
       "        2432., 4339., 4270., 4075., 3456., 4023., 3243., 3624., 4509.,\n",
       "        4579., 3761., 4151., 2832., 2947., 3784., 4375., 2802., 3830.,\n",
       "        3831., 2169., 1529., 3422., 3922., 4169., 3005., 4154., 4318.,\n",
       "        2689., 3129., 3777., 4773., 5062., 3487., 2732., 3389., 4322.,\n",
       "        4363., 1834., 4990., 3194., 4066., 3423., 3333., 3956., 4916.,\n",
       "        5382., 4569., 4118., 4911., 5298., 5847., 6312., 6192., 4378.,\n",
       "        7836., 5892., 6153., 6093., 6230., 6871., 8362., 3372., 4996.,\n",
       "        5558., 5102., 5698., 6133., 5459., 6235., 6041., 5936., 6772.,\n",
       "        6436., 6457., 6460., 6857., 5169., 5585., 5918., 4862., 5409.,\n",
       "        6398., 7460., 7132., 6370., 6691., 4367., 6565., 7290., 6624.,\n",
       "        1027., 3214., 5633., 6196., 5026., 6233., 4220., 6304., 5572.,\n",
       "        5740., 6169., 6421., 6296., 6883., 6359., 6273., 5728., 4717.,\n",
       "        6572., 7030., 7429., 6118., 2843., 5115., 7424., 7384., 7639.,\n",
       "        8294., 7129., 4359., 6073., 5260., 6770., 6734., 6536., 6591.,\n",
       "        6043., 5743., 6855., 7338., 4127., 8120., 7641., 6998., 7001.,\n",
       "        7055., 7494., 7736., 7498., 6598., 6664., 4972., 7421., 7363.,\n",
       "        7665., 7702., 6978., 5099., 6825., 6211., 5905., 5823., 7458.,\n",
       "        6891., 6779., 7442., 7335., 6879., 5463., 5687., 5531., 6227.,\n",
       "        6660., 7403., 6241., 6207., 4840., 4672., 6569., 6290., 7264.,\n",
       "        7446., 7499., 6969., 6031., 6830., 6786., 5713., 6591., 5870.,\n",
       "        4459., 7410., 6966., 7592., 8173., 6861., 6904., 6685., 6597.,\n",
       "        7105., 7216., 7580., 7261., 7175., 6824., 5464., 7013., 7273.,\n",
       "        7534., 7286., 5786., 6299., 6544., 6883., 6784., 7347., 7605.,\n",
       "        7148., 7865., 4549., 6530., 7006., 7375., 7765., 7582., 6053.,\n",
       "        5255., 6917., 7040., 7697., 7713., 7350., 6140., 5810., 6034.,\n",
       "        6864., 7112., 6203., 7504., 5976., 8227., 7525., 7767., 7870.,\n",
       "        7804., 8009., 8714., 7333., 6869., 4073., 7591., 7720., 8167.,\n",
       "        8395., 7907., 7436., 7538., 7733., 7393., 7415., 8555., 6889.,\n",
       "        6778.]),\n",
       " 'lambda': None}"
      ]
     },
     "execution_count": 25,
     "metadata": {},
     "output_type": "execute_result"
    }
   ],
   "source": [
    "out"
   ]
  },
  {
   "cell_type": "markdown",
   "metadata": {
    "slideshow": {
     "slide_type": "fragment"
    }
   },
   "source": [
    " - The first two numbers are $p$ and $q$, sixth number is $d$, other numbers relate to seasonal ARIMA\n",
    " - The selected model is ARIMA(2,1,3)"
   ]
  },
  {
   "cell_type": "markdown",
   "metadata": {
    "slideshow": {
     "slide_type": "slide"
    }
   },
   "source": [
    "## Fit model using `statsmodels`\n"
   ]
  },
  {
   "cell_type": "code",
   "execution_count": 26,
   "metadata": {},
   "outputs": [
    {
     "data": {
      "text/html": [
       "<table class=\"simpletable\">\n",
       "<caption>SARIMAX Results</caption>\n",
       "<tr>\n",
       "  <th>Dep. Variable:</th>      <td>logTurnover</td>   <th>  No. Observations:  </th>    <td>404</td>   \n",
       "</tr>\n",
       "<tr>\n",
       "  <th>Model:</th>            <td>ARIMA(2, 1, 3)</td>  <th>  Log Likelihood     </th>  <td>531.827</td> \n",
       "</tr>\n",
       "<tr>\n",
       "  <th>Date:</th>            <td>Wed, 22 Jun 2022</td> <th>  AIC                </th> <td>-1051.653</td>\n",
       "</tr>\n",
       "<tr>\n",
       "  <th>Time:</th>                <td>10:41:28</td>     <th>  BIC                </th> <td>-1027.660</td>\n",
       "</tr>\n",
       "<tr>\n",
       "  <th>Sample:</th>                  <td>0</td>        <th>  HQIC               </th> <td>-1042.154</td>\n",
       "</tr>\n",
       "<tr>\n",
       "  <th></th>                      <td> - 404</td>      <th>                     </th>     <td> </td>    \n",
       "</tr>\n",
       "<tr>\n",
       "  <th>Covariance Type:</th>        <td>opg</td>       <th>                     </th>     <td> </td>    \n",
       "</tr>\n",
       "</table>\n",
       "<table class=\"simpletable\">\n",
       "<tr>\n",
       "     <td></td>       <th>coef</th>     <th>std err</th>      <th>z</th>      <th>P>|z|</th>  <th>[0.025</th>    <th>0.975]</th>  \n",
       "</tr>\n",
       "<tr>\n",
       "  <th>ar.L1</th>  <td>    0.2090</td> <td>    3.974</td> <td>    0.053</td> <td> 0.958</td> <td>   -7.579</td> <td>    7.997</td>\n",
       "</tr>\n",
       "<tr>\n",
       "  <th>ar.L2</th>  <td>    0.5427</td> <td>    2.531</td> <td>    0.214</td> <td> 0.830</td> <td>   -4.418</td> <td>    5.504</td>\n",
       "</tr>\n",
       "<tr>\n",
       "  <th>ma.L1</th>  <td>   -0.5162</td> <td>    3.985</td> <td>   -0.130</td> <td> 0.897</td> <td>   -8.327</td> <td>    7.295</td>\n",
       "</tr>\n",
       "<tr>\n",
       "  <th>ma.L2</th>  <td>   -0.6882</td> <td>    1.303</td> <td>   -0.528</td> <td> 0.597</td> <td>   -3.241</td> <td>    1.865</td>\n",
       "</tr>\n",
       "<tr>\n",
       "  <th>ma.L3</th>  <td>    0.3425</td> <td>    1.634</td> <td>    0.210</td> <td> 0.834</td> <td>   -2.860</td> <td>    3.545</td>\n",
       "</tr>\n",
       "<tr>\n",
       "  <th>sigma2</th> <td>    0.0042</td> <td>    0.000</td> <td>   14.292</td> <td> 0.000</td> <td>    0.004</td> <td>    0.005</td>\n",
       "</tr>\n",
       "</table>\n",
       "<table class=\"simpletable\">\n",
       "<tr>\n",
       "  <th>Ljung-Box (L1) (Q):</th>     <td>0.59</td> <th>  Jarque-Bera (JB):  </th> <td>7.98</td> \n",
       "</tr>\n",
       "<tr>\n",
       "  <th>Prob(Q):</th>                <td>0.44</td> <th>  Prob(JB):          </th> <td>0.02</td> \n",
       "</tr>\n",
       "<tr>\n",
       "  <th>Heteroskedasticity (H):</th> <td>1.37</td> <th>  Skew:              </th> <td>-0.30</td>\n",
       "</tr>\n",
       "<tr>\n",
       "  <th>Prob(H) (two-sided):</th>    <td>0.07</td> <th>  Kurtosis:          </th> <td>3.33</td> \n",
       "</tr>\n",
       "</table><br/><br/>Warnings:<br/>[1] Covariance matrix calculated using the outer product of gradients (complex-step)."
      ],
      "text/plain": [
       "<class 'statsmodels.iolib.summary.Summary'>\n",
       "\"\"\"\n",
       "                               SARIMAX Results                                \n",
       "==============================================================================\n",
       "Dep. Variable:            logTurnover   No. Observations:                  404\n",
       "Model:                 ARIMA(2, 1, 3)   Log Likelihood                 531.827\n",
       "Date:                Wed, 22 Jun 2022   AIC                          -1051.653\n",
       "Time:                        10:41:28   BIC                          -1027.660\n",
       "Sample:                             0   HQIC                         -1042.154\n",
       "                                - 404                                         \n",
       "Covariance Type:                  opg                                         \n",
       "==============================================================================\n",
       "                 coef    std err          z      P>|z|      [0.025      0.975]\n",
       "------------------------------------------------------------------------------\n",
       "ar.L1          0.2090      3.974      0.053      0.958      -7.579       7.997\n",
       "ar.L2          0.5427      2.531      0.214      0.830      -4.418       5.504\n",
       "ma.L1         -0.5162      3.985     -0.130      0.897      -8.327       7.295\n",
       "ma.L2         -0.6882      1.303     -0.528      0.597      -3.241       1.865\n",
       "ma.L3          0.3425      1.634      0.210      0.834      -2.860       3.545\n",
       "sigma2         0.0042      0.000     14.292      0.000       0.004       0.005\n",
       "===================================================================================\n",
       "Ljung-Box (L1) (Q):                   0.59   Jarque-Bera (JB):                 7.98\n",
       "Prob(Q):                              0.44   Prob(JB):                         0.02\n",
       "Heteroskedasticity (H):               1.37   Skew:                            -0.30\n",
       "Prob(H) (two-sided):                  0.07   Kurtosis:                         3.33\n",
       "===================================================================================\n",
       "\n",
       "Warnings:\n",
       "[1] Covariance matrix calculated using the outer product of gradients (complex-step).\n",
       "\"\"\""
      ]
     },
     "execution_count": 26,
     "metadata": {},
     "output_type": "execute_result"
    }
   ],
   "source": [
    "import statsmodels.api as smt\n",
    "fitaa = sm.tsa.arima.model.ARIMA(train['logTurnover'], order = (2,1,3)).fit()\n",
    "fitaa.summary()"
   ]
  },
  {
   "cell_type": "markdown",
   "metadata": {
    "slideshow": {
     "slide_type": "slide"
    }
   },
   "source": [
    "# Plot of forecast"
   ]
  },
  {
   "cell_type": "code",
   "execution_count": 12,
   "metadata": {},
   "outputs": [
    {
     "data": {
      "text/plain": [
       "[<matplotlib.lines.Line2D at 0x7f53a0b1bb80>]"
      ]
     },
     "execution_count": 12,
     "metadata": {},
     "output_type": "execute_result"
    },
    {
     "data": {
      "image/png": "[encoded data removed]",
      "text/plain": [
       "<Figure size 1800x432 with 1 Axes>"
      ]
     },
     "metadata": {
      "needs_background": "light"
     },
     "output_type": "display_data"
    }
   ],
   "source": [
    "fcaa = fitaa.forecast(36)\n",
    "fig, ax = plt.subplots(1,figsize=(25,6))\n",
    "ax.plot(train['Month'].tail(48),train['logTurnover'].tail(48),color='black')\n",
    "ax.plot(test['Month'],test['logTurnover'],color='gray')\n",
    "ax.plot(test['Month'],fcaa,color='blue')\n"
   ]
  },
  {
   "cell_type": "markdown",
   "metadata": {
    "slideshow": {
     "slide_type": "slide"
    }
   },
   "source": [
    "## Seasonality\n",
    "\n",
    "- The ARIMA models as we have studied them so far do not take into account seasonality.\n",
    "- The forecasts work for short horizons, but fail to mimic the seasonal pattern at long horizons .\n",
    "- Looking at ACF and PACF plots leads to the same conclusion\n",
    "- Let's consider the ACF and PACF for the difference of log Turnover"
   ]
  },
  {
   "cell_type": "markdown",
   "metadata": {
    "slideshow": {
     "slide_type": "slide"
    }
   },
   "source": [
    "## ACF and PACF"
   ]
  },
  {
   "cell_type": "code",
   "execution_count": 13,
   "metadata": {
    "slideshow": {
     "slide_type": "-"
    }
   },
   "outputs": [
    {
     "data": {
      "image/png": "[encoded data removed]",
      "text/plain": [
       "<Figure size 1080x432 with 2 Axes>"
      ]
     },
     "metadata": {
      "needs_background": "light"
     },
     "output_type": "display_data"
    }
   ],
   "source": [
    "from statsmodels.graphics.tsaplots import plot_acf, plot_pacf\n",
    "fig, ax = plt.subplots(1,2,figsize=(15,6))\n",
    "dify = train.diff()['logTurnover'].iloc[2:]\n",
    "plot_acf(dify,ax=ax[0])\n",
    "plot_pacf(dify,ax=ax[1])\n",
    "plt.show()"
   ]
  },
  {
   "cell_type": "markdown",
   "metadata": {
    "slideshow": {
     "slide_type": "slide"
    }
   },
   "source": [
    "## Pure Seasonal models\n",
    "\n",
    "- Seasonal AR(1): $Y_t=\\phi^{(s)} Y_{t-m}+\\epsilon_t$\n",
    "- Seasonal AR(2): $Y_t=\\phi_1^{(s)} Y_{t-m}+\\phi_2^{(s)} Y_{t-2m}+\\epsilon_t$\n",
    "- Seasonal AR(p): $(1-\\Phi^{(s)}(L^m))Y_t=\\epsilon_t$\n",
    "- Seasonal ARIMA(p,d,q): $(1-\\Phi^{(s)}(L^m))(1-L^m)^DY_t=(1+\\Theta^{(s)}(L^m))\\epsilon_t$\n"
   ]
  },
  {
   "cell_type": "markdown",
   "metadata": {
    "slideshow": {
     "slide_type": "slide"
    }
   },
   "source": [
    "## Seasonal ARIMA\n",
    "\n",
    "The most general form for seasonal ARIMA is\n",
    "\n",
    "$$(1-\\Phi(L))(1-\\Phi^{(s)}(L^m))(1-L)^d(1-L^m)^DY_t=(1+\\Theta(L))(1+\\Theta^{(s)}(L^m))\\epsilon_t$$\n",
    "\n",
    "- Note that seasonal difference/components are always applied before non-seasonal components.\n",
    "\n",
    "- The auto arima algorithm can be generalised to seasonal ARIMA"
   ]
  },
  {
   "cell_type": "markdown",
   "metadata": {
    "slideshow": {
     "slide_type": "slide"
    }
   },
   "source": [
    "## Auto arima (seasonal)\n",
    "\n",
    "Specify the seasonal period and set `seasonal=True` in `auto_arima_f`"
   ]
  },
  {
   "cell_type": "code",
   "execution_count": 27,
   "metadata": {
    "scrolled": false,
    "slideshow": {
     "slide_type": "-"
    }
   },
   "outputs": [
    {
     "name": "stderr",
     "output_type": "stream",
     "text": [
      "/home/fli/downloads/statsforecast-0.5.5/statsforecast/arima.py:878: UserWarning: possible convergence problem: minimize gave code 2]\n",
      "  warnings.warn(\n",
      "/home/fli/downloads/statsforecast-0.5.5/statsforecast/arima.py:878: UserWarning: possible convergence problem: minimize gave code 2]\n",
      "  warnings.warn(\n",
      "/home/fli/downloads/statsforecast-0.5.5/statsforecast/arima.py:878: UserWarning: possible convergence problem: minimize gave code 2]\n",
      "  warnings.warn(\n",
      "/home/fli/downloads/statsforecast-0.5.5/statsforecast/arima.py:878: UserWarning: possible convergence problem: minimize gave code 2]\n",
      "  warnings.warn(\n",
      "/home/fli/downloads/statsforecast-0.5.5/statsforecast/arima.py:878: UserWarning: possible convergence problem: minimize gave code 2]\n",
      "  warnings.warn(\n",
      "/home/fli/downloads/statsforecast-0.5.5/statsforecast/arima.py:878: UserWarning: possible convergence problem: minimize gave code 2]\n",
      "  warnings.warn(\n",
      "/home/fli/.virtualenv/python3.9/lib/python3.9/site-packages/scipy/optimize/_numdiff.py:557: RuntimeWarning: invalid value encountered in subtract\n",
      "  df = fun(x) - f0\n",
      "/home/fli/downloads/statsforecast-0.5.5/statsforecast/arima.py:878: UserWarning: possible convergence problem: minimize gave code 2]\n",
      "  warnings.warn(\n",
      "/home/fli/.virtualenv/python3.9/lib/python3.9/site-packages/scipy/optimize/_numdiff.py:557: RuntimeWarning: invalid value encountered in subtract\n",
      "  df = fun(x) - f0\n",
      "/home/fli/downloads/statsforecast-0.5.5/statsforecast/arima.py:878: UserWarning: possible convergence problem: minimize gave code 2]\n",
      "  warnings.warn(\n",
      "/home/fli/.virtualenv/python3.9/lib/python3.9/site-packages/scipy/optimize/_numdiff.py:557: RuntimeWarning: invalid value encountered in subtract\n",
      "  df = fun(x) - f0\n",
      "/home/fli/.virtualenv/python3.9/lib/python3.9/site-packages/scipy/optimize/_numdiff.py:557: RuntimeWarning: invalid value encountered in subtract\n",
      "  df = fun(x) - f0\n",
      "/home/fli/downloads/statsforecast-0.5.5/statsforecast/arima.py:878: UserWarning: possible convergence problem: minimize gave code 2]\n",
      "  warnings.warn(\n",
      "/home/fli/.virtualenv/python3.9/lib/python3.9/site-packages/scipy/optimize/_numdiff.py:557: RuntimeWarning: invalid value encountered in subtract\n",
      "  df = fun(x) - f0\n",
      "/home/fli/downloads/statsforecast-0.5.5/statsforecast/arima.py:878: UserWarning: possible convergence problem: minimize gave code 2]\n",
      "  warnings.warn(\n",
      "/home/fli/downloads/statsforecast-0.5.5/statsforecast/arima.py:878: UserWarning: possible convergence problem: minimize gave code 2]\n",
      "  warnings.warn(\n",
      "/home/fli/downloads/statsforecast-0.5.5/statsforecast/arima.py:878: UserWarning: possible convergence problem: minimize gave code 2]\n",
      "  warnings.warn(\n",
      "/home/fli/.virtualenv/python3.9/lib/python3.9/site-packages/scipy/optimize/_numdiff.py:557: RuntimeWarning: invalid value encountered in subtract\n",
      "  df = fun(x) - f0\n",
      "/home/fli/downloads/statsforecast-0.5.5/statsforecast/arima.py:878: UserWarning: possible convergence problem: minimize gave code 2]\n",
      "  warnings.warn(\n",
      "/home/fli/downloads/statsforecast-0.5.5/statsforecast/arima.py:878: UserWarning: possible convergence problem: minimize gave code 2]\n",
      "  warnings.warn(\n",
      "/home/fli/downloads/statsforecast-0.5.5/statsforecast/arima.py:878: UserWarning: possible convergence problem: minimize gave code 2]\n",
      "  warnings.warn(\n",
      "/home/fli/downloads/statsforecast-0.5.5/statsforecast/arima.py:878: UserWarning: possible convergence problem: minimize gave code 2]\n",
      "  warnings.warn(\n",
      "/home/fli/downloads/statsforecast-0.5.5/statsforecast/arima.py:878: UserWarning: possible convergence problem: minimize gave code 2]\n",
      "  warnings.warn(\n",
      "/home/fli/.virtualenv/python3.9/lib/python3.9/site-packages/scipy/optimize/_numdiff.py:557: RuntimeWarning: invalid value encountered in subtract\n",
      "  df = fun(x) - f0\n",
      "/home/fli/downloads/statsforecast-0.5.5/statsforecast/arima.py:878: UserWarning: possible convergence problem: minimize gave code 2]\n",
      "  warnings.warn(\n",
      "/home/fli/downloads/statsforecast-0.5.5/statsforecast/arima.py:878: UserWarning: possible convergence problem: minimize gave code 2]\n",
      "  warnings.warn(\n",
      "/home/fli/downloads/statsforecast-0.5.5/statsforecast/arima.py:878: UserWarning: possible convergence problem: minimize gave code 2]\n",
      "  warnings.warn(\n",
      "/home/fli/downloads/statsforecast-0.5.5/statsforecast/arima.py:878: UserWarning: possible convergence problem: minimize gave code 2]\n",
      "  warnings.warn(\n",
      "/home/fli/downloads/statsforecast-0.5.5/statsforecast/arima.py:878: UserWarning: possible convergence problem: minimize gave code 2]\n",
      "  warnings.warn(\n",
      "/home/fli/downloads/statsforecast-0.5.5/statsforecast/arima.py:878: UserWarning: possible convergence problem: minimize gave code 2]\n",
      "  warnings.warn(\n",
      "/home/fli/downloads/statsforecast-0.5.5/statsforecast/arima.py:878: UserWarning: possible convergence problem: minimize gave code 2]\n",
      "  warnings.warn(\n",
      "/home/fli/.virtualenv/python3.9/lib/python3.9/site-packages/scipy/optimize/_numdiff.py:557: RuntimeWarning: invalid value encountered in subtract\n",
      "  df = fun(x) - f0\n",
      "/home/fli/downloads/statsforecast-0.5.5/statsforecast/arima.py:878: UserWarning: possible convergence problem: minimize gave code 2]\n",
      "  warnings.warn(\n",
      "/home/fli/downloads/statsforecast-0.5.5/statsforecast/arima.py:878: UserWarning: possible convergence problem: minimize gave code 2]\n",
      "  warnings.warn(\n",
      "/home/fli/.virtualenv/python3.9/lib/python3.9/site-packages/scipy/optimize/_numdiff.py:557: RuntimeWarning: invalid value encountered in subtract\n",
      "  df = fun(x) - f0\n",
      "/home/fli/downloads/statsforecast-0.5.5/statsforecast/arima.py:878: UserWarning: possible convergence problem: minimize gave code 2]\n",
      "  warnings.warn(\n",
      "/home/fli/.virtualenv/python3.9/lib/python3.9/site-packages/scipy/optimize/_numdiff.py:557: RuntimeWarning: invalid value encountered in subtract\n",
      "  df = fun(x) - f0\n",
      "/home/fli/downloads/statsforecast-0.5.5/statsforecast/arima.py:878: UserWarning: possible convergence problem: minimize gave code 2]\n",
      "  warnings.warn(\n",
      "/home/fli/.virtualenv/python3.9/lib/python3.9/site-packages/scipy/optimize/_numdiff.py:557: RuntimeWarning: invalid value encountered in subtract\n",
      "  df = fun(x) - f0\n"
     ]
    },
    {
     "name": "stdout",
     "output_type": "stream",
     "text": [
      "(2, 3, 2, 2, 12, 0, 1)\n"
     ]
    }
   ],
   "source": [
    "out = auto_arima_f(train['logTurnover'].to_numpy(),seasonal=True,period=12)\n",
    "print(out['arma'])"
   ]
  },
  {
   "cell_type": "markdown",
   "metadata": {
    "slideshow": {
     "slide_type": "slide"
    }
   },
   "source": [
    "- First two numbers are non-seasonal AR and MA orders.\n",
    "- Third and fourth numbers are seasonal AR and MA orders.\n",
    "- Fifth number is period.\n",
    "- Sixth and Seventh number are non-seasonal and seasonal orders of differencing."
   ]
  },
  {
   "cell_type": "code",
   "execution_count": 43,
   "metadata": {
    "slideshow": {
     "slide_type": "slide"
    }
   },
   "outputs": [
    {
     "data": {
      "text/plain": [
       "dict_keys(['coef', 'sigma2', 'var_coef', 'mask', 'loglik', 'aic', 'arma', 'residuals', 'code', 'n_cond', 'nobs', 'model', 'xreg', 'bic', 'aicc', 'ic', 'x', 'lambda'])"
      ]
     },
     "execution_count": 43,
     "metadata": {},
     "output_type": "execute_result"
    }
   ],
   "source": [
    "out.keys()"
   ]
  },
  {
   "cell_type": "code",
   "execution_count": 36,
   "metadata": {
    "scrolled": false,
    "slideshow": {
     "slide_type": "slide"
    }
   },
   "outputs": [
    {
     "data": {
      "text/plain": [
       "{'ar1': 1.4950272444503638,\n",
       " 'ar2': -0.6042819772790677,\n",
       " 'ma1': -0.9348259089618977,\n",
       " 'ma2': 0.1883384425501466,\n",
       " 'ma3': 0.08816510039082869,\n",
       " 'sar1': -0.17736048388551304,\n",
       " 'sar2': 0.004976986987146017,\n",
       " 'sma1': -0.6182575492373096,\n",
       " 'sma2': -0.22384114543899383,\n",
       " 'drift': 0.004052622731467806}"
      ]
     },
     "execution_count": 36,
     "metadata": {},
     "output_type": "execute_result"
    }
   ],
   "source": [
    "out['coef']"
   ]
  },
  {
   "cell_type": "code",
   "execution_count": 44,
   "metadata": {
    "slideshow": {
     "slide_type": "slide"
    }
   },
   "outputs": [
    {
     "data": {
      "text/plain": [
       "[619.8529241898765, -1217.0092784589087, -1174.050065219914]"
      ]
     },
     "execution_count": 44,
     "metadata": {},
     "output_type": "execute_result"
    }
   ],
   "source": [
    "[out['loglik'], out['aicc'], out['bic']]"
   ]
  },
  {
   "cell_type": "code",
   "execution_count": 37,
   "metadata": {
    "scrolled": false,
    "slideshow": {
     "slide_type": "slide"
    }
   },
   "outputs": [
    {
     "data": {
      "text/plain": [
       "array([[ 2.89379288e-07,  0.00000000e+00,  0.00000000e+00,\n",
       "         0.00000000e+00,  0.00000000e+00,  0.00000000e+00,\n",
       "         0.00000000e+00,  0.00000000e+00,  0.00000000e+00,\n",
       "         0.00000000e+00],\n",
       "       [-3.25946664e-06,  2.62594531e-06,  0.00000000e+00,\n",
       "         0.00000000e+00,  0.00000000e+00,  0.00000000e+00,\n",
       "         0.00000000e+00,  0.00000000e+00,  0.00000000e+00,\n",
       "         0.00000000e+00],\n",
       "       [ 0.00000000e+00,  0.00000000e+00,  6.50770512e-06,\n",
       "         0.00000000e+00,  0.00000000e+00,  0.00000000e+00,\n",
       "         0.00000000e+00,  0.00000000e+00,  0.00000000e+00,\n",
       "         0.00000000e+00],\n",
       "       [ 0.00000000e+00,  0.00000000e+00,  0.00000000e+00,\n",
       "         6.50770512e-06,  0.00000000e+00,  0.00000000e+00,\n",
       "         0.00000000e+00,  0.00000000e+00,  0.00000000e+00,\n",
       "         0.00000000e+00],\n",
       "       [ 0.00000000e+00,  0.00000000e+00,  0.00000000e+00,\n",
       "         0.00000000e+00,  6.50770512e-06,  0.00000000e+00,\n",
       "         0.00000000e+00,  0.00000000e+00,  0.00000000e+00,\n",
       "         0.00000000e+00],\n",
       "       [ 0.00000000e+00,  0.00000000e+00,  0.00000000e+00,\n",
       "         0.00000000e+00,  0.00000000e+00,  6.50770512e-06,\n",
       "         0.00000000e+00,  0.00000000e+00,  0.00000000e+00,\n",
       "         0.00000000e+00],\n",
       "       [ 0.00000000e+00,  0.00000000e+00,  0.00000000e+00,\n",
       "         0.00000000e+00,  0.00000000e+00,  2.31986122e-06,\n",
       "         6.50731362e-06,  0.00000000e+00,  0.00000000e+00,\n",
       "         0.00000000e+00],\n",
       "       [ 0.00000000e+00,  0.00000000e+00,  0.00000000e+00,\n",
       "         0.00000000e+00,  0.00000000e+00,  0.00000000e+00,\n",
       "         0.00000000e+00,  6.50770512e-06,  0.00000000e+00,\n",
       "         0.00000000e+00],\n",
       "       [ 0.00000000e+00,  0.00000000e+00,  0.00000000e+00,\n",
       "         0.00000000e+00,  0.00000000e+00,  0.00000000e+00,\n",
       "         0.00000000e+00,  0.00000000e+00,  6.50770512e-06,\n",
       "         0.00000000e+00],\n",
       "       [ 0.00000000e+00,  0.00000000e+00,  0.00000000e+00,\n",
       "         0.00000000e+00,  0.00000000e+00,  0.00000000e+00,\n",
       "         0.00000000e+00,  0.00000000e+00,  0.00000000e+00,\n",
       "         6.50770512e-06]])"
      ]
     },
     "execution_count": 37,
     "metadata": {},
     "output_type": "execute_result"
    }
   ],
   "source": [
    "out['var_coef']"
   ]
  },
  {
   "cell_type": "markdown",
   "metadata": {
    "slideshow": {
     "slide_type": "slide"
    }
   },
   "source": [
    "## Plots"
   ]
  },
  {
   "cell_type": "code",
   "execution_count": 16,
   "metadata": {
    "slideshow": {
     "slide_type": "-"
    }
   },
   "outputs": [
    {
     "ename": "NameError",
     "evalue": "name 'fitaas' is not defined",
     "output_type": "error",
     "traceback": [
      "\u001b[0;31m---------------------------------------------------------------------------\u001b[0m",
      "\u001b[0;31mNameError\u001b[0m                                 Traceback (most recent call last)",
      "\u001b[0;32m/tmp/ipykernel_21415/1038665650.py\u001b[0m in \u001b[0;36m<module>\u001b[0;34m\u001b[0m\n\u001b[0;32m----> 1\u001b[0;31m \u001b[0mfcaas\u001b[0m \u001b[0;34m=\u001b[0m \u001b[0mfitaas\u001b[0m\u001b[0;34m.\u001b[0m\u001b[0mforecast\u001b[0m\u001b[0;34m(\u001b[0m\u001b[0;36m36\u001b[0m\u001b[0;34m)\u001b[0m\u001b[0;34m\u001b[0m\u001b[0;34m\u001b[0m\u001b[0m\n\u001b[0m\u001b[1;32m      2\u001b[0m \u001b[0mfig\u001b[0m\u001b[0;34m,\u001b[0m \u001b[0max\u001b[0m \u001b[0;34m=\u001b[0m \u001b[0mplt\u001b[0m\u001b[0;34m.\u001b[0m\u001b[0msubplots\u001b[0m\u001b[0;34m(\u001b[0m\u001b[0;36m1\u001b[0m\u001b[0;34m,\u001b[0m\u001b[0mfigsize\u001b[0m\u001b[0;34m=\u001b[0m\u001b[0;34m(\u001b[0m\u001b[0;36m25\u001b[0m\u001b[0;34m,\u001b[0m\u001b[0;36m6\u001b[0m\u001b[0;34m)\u001b[0m\u001b[0;34m)\u001b[0m\u001b[0;34m\u001b[0m\u001b[0;34m\u001b[0m\u001b[0m\n\u001b[1;32m      3\u001b[0m \u001b[0mdat\u001b[0m\u001b[0;34m.\u001b[0m\u001b[0mMonth\u001b[0m\u001b[0;34m,\u001b[0m \u001b[0mdat\u001b[0m\u001b[0;34m.\u001b[0m\u001b[0mTurnover\u001b[0m\u001b[0;34m\u001b[0m\u001b[0;34m\u001b[0m\u001b[0m\n\u001b[1;32m      4\u001b[0m \u001b[0max\u001b[0m\u001b[0;34m.\u001b[0m\u001b[0mplot\u001b[0m\u001b[0;34m(\u001b[0m\u001b[0mtrain\u001b[0m\u001b[0;34m[\u001b[0m\u001b[0;34m'Month'\u001b[0m\u001b[0;34m]\u001b[0m\u001b[0;34m.\u001b[0m\u001b[0mtail\u001b[0m\u001b[0;34m(\u001b[0m\u001b[0;36m48\u001b[0m\u001b[0;34m)\u001b[0m\u001b[0;34m,\u001b[0m\u001b[0mtrain\u001b[0m\u001b[0;34m[\u001b[0m\u001b[0;34m'logTurnover'\u001b[0m\u001b[0;34m]\u001b[0m\u001b[0;34m.\u001b[0m\u001b[0mtail\u001b[0m\u001b[0;34m(\u001b[0m\u001b[0;36m48\u001b[0m\u001b[0;34m)\u001b[0m\u001b[0;34m,\u001b[0m\u001b[0mcolor\u001b[0m\u001b[0;34m=\u001b[0m\u001b[0;34m'black'\u001b[0m\u001b[0;34m)\u001b[0m\u001b[0;34m\u001b[0m\u001b[0;34m\u001b[0m\u001b[0m\n\u001b[1;32m      5\u001b[0m \u001b[0max\u001b[0m\u001b[0;34m.\u001b[0m\u001b[0mplot\u001b[0m\u001b[0;34m(\u001b[0m\u001b[0mtest\u001b[0m\u001b[0;34m[\u001b[0m\u001b[0;34m'Month'\u001b[0m\u001b[0;34m]\u001b[0m\u001b[0;34m,\u001b[0m\u001b[0mtest\u001b[0m\u001b[0;34m[\u001b[0m\u001b[0;34m'logTurnover'\u001b[0m\u001b[0;34m]\u001b[0m\u001b[0;34m,\u001b[0m\u001b[0mcolor\u001b[0m\u001b[0;34m=\u001b[0m\u001b[0;34m'gray'\u001b[0m\u001b[0;34m)\u001b[0m\u001b[0;34m\u001b[0m\u001b[0;34m\u001b[0m\u001b[0m\n",
      "\u001b[0;31mNameError\u001b[0m: name 'fitaas' is not defined"
     ]
    }
   ],
   "source": [
    "fcaas = fitaas.forecast(36)\n",
    "fig, ax = plt.subplots(1,figsize=(25,6))\n",
    "dat.Month, dat.Turnover\n",
    "ax.plot(train['Month'].tail(48),train['logTurnover'].tail(48),color='black')\n",
    "ax.plot(test['Month'],test['logTurnover'],color='gray')\n",
    "ax.plot(test['Month'],fcaas,color='blue')"
   ]
  },
  {
   "cell_type": "markdown",
   "metadata": {
    "slideshow": {
     "slide_type": "slide"
    }
   },
   "source": [
    "## Using Covariates\n",
    "\n",
    "- An important characteristic of (S)ARIMA models is the ability for them to include covariates or regressors.\n",
    "- The model becomes\n",
    "$$(1-\\Phi(L))(1-\\Phi^{(s)}(L^m))(1-L)^d(1-L^m)^D\\color{blue}{(y_t-\\mathbf{x}'_t\\boldsymbol{\\beta})}=(1+\\Theta(L))(1+\\Theta^{(s)}(L^m))\\epsilon_t$$\n",
    "\n",
    "- This is a regression model with (S)ARIMA errors."
   ]
  },
  {
   "cell_type": "markdown",
   "metadata": {
    "slideshow": {
     "slide_type": "slide"
    }
   },
   "source": [
    "\n",
    "- If the purpose of the analysis is to forecast we can only use regressors that are themselves available when we make the forecast.\n",
    "- Consider forecasting demand for bike sharing scheme.\n",
    "- To forecast tomorrow's demand we cannot use tomorrow's weather.\n",
    "- We can however use dummy variables for the type of day, public holidays, etc."
   ]
  },
  {
   "cell_type": "markdown",
   "metadata": {
    "slideshow": {
     "slide_type": "slide"
    }
   },
   "source": [
    "## Dataset\n",
    "\n",
    "DC bikeshare data of [Hadi and Gama (2013)](https://link.springer.com/article/10.1007/s13748-013-0040-3) from [UCI Machine Learning Repository](https://archive.ics.uci.edu/ml/datasets/bike%20sharing%20dataset)"
   ]
  },
  {
   "cell_type": "code",
   "execution_count": 45,
   "metadata": {
    "slideshow": {
     "slide_type": "slide"
    }
   },
   "outputs": [
    {
     "data": {
      "text/plain": [
       "[<matplotlib.lines.Line2D at 0x7f53a1366550>]"
      ]
     },
     "execution_count": 45,
     "metadata": {},
     "output_type": "execute_result"
    },
    {
     "data": {
      "image/png": "[encoded data removed]",
      "text/plain": [
       "<Figure size 1800x432 with 1 Axes>"
      ]
     },
     "metadata": {
      "needs_background": "light"
     },
     "output_type": "display_data"
    }
   ],
   "source": [
    "bikes=pd.read_csv('data/bike_sharing_daily.csv')\n",
    "bikes['dteday']=pd.to_datetime(bikes['dteday'])\n",
    "fig, ax = plt.subplots(1, figsize = (25, 6))\n",
    "ax.plot(bikes['dteday'], bikes['cnt'])"
   ]
  },
  {
   "cell_type": "markdown",
   "metadata": {
    "slideshow": {
     "slide_type": "slide"
    }
   },
   "source": [
    "## Application\n",
    "\n",
    "- Can handle weekly seasonality by considering seasonal ARIMA models with a period of 7.\n",
    "- Handle yearly seasonality with month dummies\n",
    "- Keep holiday dummies\n",
    "- Convert data into numpy array as input to `auto_arima`"
   ]
  },
  {
   "cell_type": "code",
   "execution_count": 46,
   "metadata": {
    "slideshow": {
     "slide_type": "-"
    }
   },
   "outputs": [
    {
     "name": "stderr",
     "output_type": "stream",
     "text": [
      "/tmp/ipykernel_21415/1611146982.py:2: SettingWithCopyWarning: \n",
      "A value is trying to be set on a copy of a slice from a DataFrame.\n",
      "Try using .loc[row_indexer,col_indexer] = value instead\n",
      "\n",
      "See the caveats in the documentation: https://pandas.pydata.org/pandas-docs/stable/user_guide/indexing.html#returning-a-view-versus-a-copy\n",
      "  bikes_clean['int']=1.0\n"
     ]
    }
   ],
   "source": [
    "bikes_clean = bikes[['cnt','mnth','holiday']]\n",
    "bikes_clean['int']=1.0\n",
    "bikes_clean = pd.get_dummies(bikes_clean, columns=['mnth'], drop_first=True)\n",
    "bikes_arr = bikes_clean.to_numpy(dtype='float')\n",
    "bikes_train=bikes_arr[:640,:]"
   ]
  },
  {
   "cell_type": "markdown",
   "metadata": {
    "slideshow": {
     "slide_type": "slide"
    }
   },
   "source": [
    "## Fit and forecast"
   ]
  },
  {
   "cell_type": "code",
   "execution_count": 47,
   "metadata": {},
   "outputs": [
    {
     "name": "stderr",
     "output_type": "stream",
     "text": [
      "/home/fli/.virtualenv/python3.9/lib/python3.9/site-packages/scipy/optimize/_numdiff.py:557: RuntimeWarning: invalid value encountered in subtract\n",
      "  df = fun(x) - f0\n",
      "/home/fli/downloads/statsforecast-0.5.5/statsforecast/arima.py:878: UserWarning: possible convergence problem: minimize gave code 2]\n",
      "  warnings.warn(\n",
      "/home/fli/downloads/statsforecast-0.5.5/statsforecast/arima.py:878: UserWarning: possible convergence problem: minimize gave code 2]\n",
      "  warnings.warn(\n",
      "/home/fli/downloads/statsforecast-0.5.5/statsforecast/arima.py:878: UserWarning: possible convergence problem: minimize gave code 2]\n",
      "  warnings.warn(\n",
      "/home/fli/downloads/statsforecast-0.5.5/statsforecast/arima.py:878: UserWarning: possible convergence problem: minimize gave code 2]\n",
      "  warnings.warn(\n",
      "/home/fli/downloads/statsforecast-0.5.5/statsforecast/arima.py:878: UserWarning: possible convergence problem: minimize gave code 1]\n",
      "  warnings.warn(\n",
      "/home/fli/downloads/statsforecast-0.5.5/statsforecast/arima.py:878: UserWarning: possible convergence problem: minimize gave code 2]\n",
      "  warnings.warn(\n",
      "/home/fli/downloads/statsforecast-0.5.5/statsforecast/arima.py:878: UserWarning: possible convergence problem: minimize gave code 2]\n",
      "  warnings.warn(\n",
      "/home/fli/downloads/statsforecast-0.5.5/statsforecast/arima.py:878: UserWarning: possible convergence problem: minimize gave code 2]\n",
      "  warnings.warn(\n",
      "/home/fli/.virtualenv/python3.9/lib/python3.9/site-packages/scipy/optimize/_numdiff.py:557: RuntimeWarning: invalid value encountered in subtract\n",
      "  df = fun(x) - f0\n",
      "/home/fli/downloads/statsforecast-0.5.5/statsforecast/arima.py:878: UserWarning: possible convergence problem: minimize gave code 1]\n",
      "  warnings.warn(\n",
      "/home/fli/.virtualenv/python3.9/lib/python3.9/site-packages/scipy/optimize/_numdiff.py:557: RuntimeWarning: invalid value encountered in subtract\n",
      "  df = fun(x) - f0\n",
      "/home/fli/downloads/statsforecast-0.5.5/statsforecast/arima.py:878: UserWarning: possible convergence problem: minimize gave code 2]\n",
      "  warnings.warn(\n",
      "/home/fli/downloads/statsforecast-0.5.5/statsforecast/arima.py:878: UserWarning: possible convergence problem: minimize gave code 2]\n",
      "  warnings.warn(\n",
      "/home/fli/downloads/statsforecast-0.5.5/statsforecast/arima.py:878: UserWarning: possible convergence problem: minimize gave code 1]\n",
      "  warnings.warn(\n",
      "/home/fli/downloads/statsforecast-0.5.5/statsforecast/arima.py:878: UserWarning: possible convergence problem: minimize gave code 2]\n",
      "  warnings.warn(\n",
      "/home/fli/downloads/statsforecast-0.5.5/statsforecast/arima.py:878: UserWarning: possible convergence problem: minimize gave code 1]\n",
      "  warnings.warn(\n",
      "/home/fli/.virtualenv/python3.9/lib/python3.9/site-packages/scipy/optimize/_numdiff.py:557: RuntimeWarning: invalid value encountered in subtract\n",
      "  df = fun(x) - f0\n",
      "/home/fli/downloads/statsforecast-0.5.5/statsforecast/arima.py:878: UserWarning: possible convergence problem: minimize gave code 1]\n",
      "  warnings.warn(\n",
      "/home/fli/.virtualenv/python3.9/lib/python3.9/site-packages/scipy/optimize/_numdiff.py:557: RuntimeWarning: invalid value encountered in subtract\n",
      "  df = fun(x) - f0\n",
      "/home/fli/downloads/statsforecast-0.5.5/statsforecast/arima.py:878: UserWarning: possible convergence problem: minimize gave code 1]\n",
      "  warnings.warn(\n"
     ]
    },
    {
     "name": "stdout",
     "output_type": "stream",
     "text": [
      "(1, 1, 0, 1, 7, 1, 0)\n"
     ]
    }
   ],
   "source": [
    "out = auto_arima_f(bikes_train[:,0],xreg = bikes_train[:,1:],seasonal=True,period=7)\n",
    "print(out['arma'])"
   ]
  },
  {
   "cell_type": "markdown",
   "metadata": {
    "slideshow": {
     "slide_type": "slide"
    }
   },
   "source": [
    "For this particular dataset auto arima chooses a SARIMA(0,1,3)(0,0,1)[7]"
   ]
  },
  {
   "cell_type": "markdown",
   "metadata": {
    "slideshow": {
     "slide_type": "slide"
    }
   },
   "source": [
    "## Fit model"
   ]
  },
  {
   "cell_type": "code",
   "execution_count": 48,
   "metadata": {
    "slideshow": {
     "slide_type": "fragment"
    }
   },
   "outputs": [
    {
     "data": {
      "text/html": [
       "<table class=\"simpletable\">\n",
       "<caption>SARIMAX Results</caption>\n",
       "<tr>\n",
       "  <th>Dep. Variable:</th>                 <td>y</td>               <th>  No. Observations:  </th>    <td>640</td>   \n",
       "</tr>\n",
       "<tr>\n",
       "  <th>Model:</th>           <td>ARIMA(0, 1, 3)x(0, 0, [1], 7)</td> <th>  Log Likelihood     </th> <td>-5229.593</td>\n",
       "</tr>\n",
       "<tr>\n",
       "  <th>Date:</th>                  <td>Wed, 22 Jun 2022</td>        <th>  AIC                </th> <td>10495.187</td>\n",
       "</tr>\n",
       "<tr>\n",
       "  <th>Time:</th>                      <td>10:50:52</td>            <th>  BIC                </th> <td>10575.465</td>\n",
       "</tr>\n",
       "<tr>\n",
       "  <th>Sample:</th>                        <td>0</td>               <th>  HQIC               </th> <td>10526.349</td>\n",
       "</tr>\n",
       "<tr>\n",
       "  <th></th>                            <td> - 640</td>             <th>                     </th>     <td> </td>    \n",
       "</tr>\n",
       "<tr>\n",
       "  <th>Covariance Type:</th>              <td>opg</td>              <th>                     </th>     <td> </td>    \n",
       "</tr>\n",
       "</table>\n",
       "<table class=\"simpletable\">\n",
       "<tr>\n",
       "     <td></td>        <th>coef</th>     <th>std err</th>      <th>z</th>      <th>P>|z|</th>  <th>[0.025</th>    <th>0.975]</th>  \n",
       "</tr>\n",
       "<tr>\n",
       "  <th>x1</th>      <td>  -22.5589</td> <td>  253.678</td> <td>   -0.089</td> <td> 0.929</td> <td> -519.759</td> <td>  474.642</td>\n",
       "</tr>\n",
       "<tr>\n",
       "  <th>const</th>   <td> 3.533e-06</td> <td> 9925.982</td> <td> 3.56e-10</td> <td> 1.000</td> <td>-1.95e+04</td> <td> 1.95e+04</td>\n",
       "</tr>\n",
       "<tr>\n",
       "  <th>x2</th>      <td>  116.1002</td> <td>  792.500</td> <td>    0.146</td> <td> 0.884</td> <td>-1437.171</td> <td> 1669.371</td>\n",
       "</tr>\n",
       "<tr>\n",
       "  <th>x3</th>      <td> 2048.1998</td> <td>  842.849</td> <td>    2.430</td> <td> 0.015</td> <td>  396.246</td> <td> 3700.154</td>\n",
       "</tr>\n",
       "<tr>\n",
       "  <th>x4</th>      <td> 2373.7999</td> <td> 1117.505</td> <td>    2.124</td> <td> 0.034</td> <td>  183.530</td> <td> 4564.069</td>\n",
       "</tr>\n",
       "<tr>\n",
       "  <th>x5</th>      <td> 1628.8999</td> <td> 1175.737</td> <td>    1.385</td> <td> 0.166</td> <td> -675.502</td> <td> 3933.302</td>\n",
       "</tr>\n",
       "<tr>\n",
       "  <th>x6</th>      <td>  171.0002</td> <td> 1199.322</td> <td>    0.143</td> <td> 0.887</td> <td>-2179.629</td> <td> 2521.629</td>\n",
       "</tr>\n",
       "<tr>\n",
       "  <th>x7</th>      <td>  168.1000</td> <td> 1292.395</td> <td>    0.130</td> <td> 0.897</td> <td>-2364.948</td> <td> 2701.148</td>\n",
       "</tr>\n",
       "<tr>\n",
       "  <th>x8</th>      <td>  483.7000</td> <td> 1395.971</td> <td>    0.346</td> <td> 0.729</td> <td>-2252.353</td> <td> 3219.753</td>\n",
       "</tr>\n",
       "<tr>\n",
       "  <th>x9</th>      <td>   58.8000</td> <td> 1433.398</td> <td>    0.041</td> <td> 0.967</td> <td>-2750.609</td> <td> 2868.209</td>\n",
       "</tr>\n",
       "<tr>\n",
       "  <th>x10</th>     <td>-1231.5999</td> <td> 1468.799</td> <td>   -0.839</td> <td> 0.402</td> <td>-4110.393</td> <td> 1647.193</td>\n",
       "</tr>\n",
       "<tr>\n",
       "  <th>x11</th>     <td> -529.4000</td> <td> 1292.024</td> <td>   -0.410</td> <td> 0.682</td> <td>-3061.720</td> <td> 2002.920</td>\n",
       "</tr>\n",
       "<tr>\n",
       "  <th>x12</th>     <td> -112.2000</td> <td> 1005.156</td> <td>   -0.112</td> <td> 0.911</td> <td>-2082.270</td> <td> 1857.870</td>\n",
       "</tr>\n",
       "<tr>\n",
       "  <th>ma.L1</th>   <td>   -0.5322</td> <td>    0.038</td> <td>  -13.835</td> <td> 0.000</td> <td>   -0.608</td> <td>   -0.457</td>\n",
       "</tr>\n",
       "<tr>\n",
       "  <th>ma.L2</th>   <td>   -0.1765</td> <td>    0.045</td> <td>   -3.965</td> <td> 0.000</td> <td>   -0.264</td> <td>   -0.089</td>\n",
       "</tr>\n",
       "<tr>\n",
       "  <th>ma.L3</th>   <td>   -0.0774</td> <td>    0.043</td> <td>   -1.801</td> <td> 0.072</td> <td>   -0.162</td> <td>    0.007</td>\n",
       "</tr>\n",
       "<tr>\n",
       "  <th>ma.S.L7</th> <td>   -0.0117</td> <td>    0.037</td> <td>   -0.317</td> <td> 0.751</td> <td>   -0.084</td> <td>    0.061</td>\n",
       "</tr>\n",
       "<tr>\n",
       "  <th>sigma2</th>  <td> 7.774e+05</td> <td> 2.96e+04</td> <td>   26.308</td> <td> 0.000</td> <td>  7.2e+05</td> <td> 8.35e+05</td>\n",
       "</tr>\n",
       "</table>\n",
       "<table class=\"simpletable\">\n",
       "<tr>\n",
       "  <th>Ljung-Box (L1) (Q):</th>     <td>0.00</td> <th>  Jarque-Bera (JB):  </th> <td>604.59</td>\n",
       "</tr>\n",
       "<tr>\n",
       "  <th>Prob(Q):</th>                <td>0.95</td> <th>  Prob(JB):          </th>  <td>0.00</td> \n",
       "</tr>\n",
       "<tr>\n",
       "  <th>Heteroskedasticity (H):</th> <td>2.74</td> <th>  Skew:              </th>  <td>-1.05</td>\n",
       "</tr>\n",
       "<tr>\n",
       "  <th>Prob(H) (two-sided):</th>    <td>0.00</td> <th>  Kurtosis:          </th>  <td>7.28</td> \n",
       "</tr>\n",
       "</table><br/><br/>Warnings:<br/>[1] Covariance matrix calculated using the outer product of gradients (complex-step)."
      ],
      "text/plain": [
       "<class 'statsmodels.iolib.summary.Summary'>\n",
       "\"\"\"\n",
       "                                     SARIMAX Results                                     \n",
       "=========================================================================================\n",
       "Dep. Variable:                                 y   No. Observations:                  640\n",
       "Model:             ARIMA(0, 1, 3)x(0, 0, [1], 7)   Log Likelihood               -5229.593\n",
       "Date:                           Wed, 22 Jun 2022   AIC                          10495.187\n",
       "Time:                                   10:50:52   BIC                          10575.465\n",
       "Sample:                                        0   HQIC                         10526.349\n",
       "                                           - 640                                         \n",
       "Covariance Type:                             opg                                         \n",
       "==============================================================================\n",
       "                 coef    std err          z      P>|z|      [0.025      0.975]\n",
       "------------------------------------------------------------------------------\n",
       "x1           -22.5589    253.678     -0.089      0.929    -519.759     474.642\n",
       "const       3.533e-06   9925.982   3.56e-10      1.000   -1.95e+04    1.95e+04\n",
       "x2           116.1002    792.500      0.146      0.884   -1437.171    1669.371\n",
       "x3          2048.1998    842.849      2.430      0.015     396.246    3700.154\n",
       "x4          2373.7999   1117.505      2.124      0.034     183.530    4564.069\n",
       "x5          1628.8999   1175.737      1.385      0.166    -675.502    3933.302\n",
       "x6           171.0002   1199.322      0.143      0.887   -2179.629    2521.629\n",
       "x7           168.1000   1292.395      0.130      0.897   -2364.948    2701.148\n",
       "x8           483.7000   1395.971      0.346      0.729   -2252.353    3219.753\n",
       "x9            58.8000   1433.398      0.041      0.967   -2750.609    2868.209\n",
       "x10        -1231.5999   1468.799     -0.839      0.402   -4110.393    1647.193\n",
       "x11         -529.4000   1292.024     -0.410      0.682   -3061.720    2002.920\n",
       "x12         -112.2000   1005.156     -0.112      0.911   -2082.270    1857.870\n",
       "ma.L1         -0.5322      0.038    -13.835      0.000      -0.608      -0.457\n",
       "ma.L2         -0.1765      0.045     -3.965      0.000      -0.264      -0.089\n",
       "ma.L3         -0.0774      0.043     -1.801      0.072      -0.162       0.007\n",
       "ma.S.L7       -0.0117      0.037     -0.317      0.751      -0.084       0.061\n",
       "sigma2      7.774e+05   2.96e+04     26.308      0.000     7.2e+05    8.35e+05\n",
       "===================================================================================\n",
       "Ljung-Box (L1) (Q):                   0.00   Jarque-Bera (JB):               604.59\n",
       "Prob(Q):                              0.95   Prob(JB):                         0.00\n",
       "Heteroskedasticity (H):               2.74   Skew:                            -1.05\n",
       "Prob(H) (two-sided):                  0.00   Kurtosis:                         7.28\n",
       "===================================================================================\n",
       "\n",
       "Warnings:\n",
       "[1] Covariance matrix calculated using the outer product of gradients (complex-step).\n",
       "\"\"\""
      ]
     },
     "execution_count": 48,
     "metadata": {},
     "output_type": "execute_result"
    }
   ],
   "source": [
    "fitaasx = sm.tsa.arima.model.ARIMA(bikes_train[:,0],exog=bikes_train[:,1:],order = (0,1,3),seasonal_order=(0,0,1,7)).fit()\n",
    "fitaasx.summary()"
   ]
  },
  {
   "cell_type": "markdown",
   "metadata": {
    "slideshow": {
     "slide_type": "slide"
    }
   },
   "source": [
    "## Forecast"
   ]
  },
  {
   "cell_type": "code",
   "execution_count": 49,
   "metadata": {
    "slideshow": {
     "slide_type": "fragment"
    }
   },
   "outputs": [
    {
     "data": {
      "text/plain": [
       "[<matplotlib.lines.Line2D at 0x7f53a1eb9a60>]"
      ]
     },
     "execution_count": 49,
     "metadata": {},
     "output_type": "execute_result"
    },
    {
     "data": {
      "image/png": "[encoded data removed]",
      "text/plain": [
       "<Figure size 1800x432 with 1 Axes>"
      ]
     },
     "metadata": {
      "needs_background": "light"
     },
     "output_type": "display_data"
    }
   ],
   "source": [
    "future_x =  bikes_arr[640:,1:]\n",
    "fc = fitaasx.forecast(len(future_x),exog = future_x)\n",
    "\n",
    "fig, ax = plt.subplots(1, figsize = (25, 6))\n",
    "ax.plot(bikes.iloc[550:640,1], bikes.iloc[550:640,15])\n",
    "ax.plot(bikes.iloc[640:,1], fc)"
   ]
  },
  {
   "cell_type": "markdown",
   "metadata": {
    "slideshow": {
     "slide_type": "slide"
    }
   },
   "source": [
    "## Fourier terms\n",
    "\n",
    "-  An alternative to month dummies is to use Fourier terms. For data with period $m$\n",
    "\n",
    "$$x_t^{(s)}=\\sin\\left(\\frac{2\\pi j t}{m}\\right)\\quad\\textrm{and}\\quad x_t^{(c)}=\\cos\\left(\\frac{2\\pi j t}{m}\\right)\\quad \\textrm{for}\\,j=1,2,\\dots,J$$\n",
    "\n",
    "- Fourier terms can be used to represent any periodic function to an arbitrary degree of accuracy.\n",
    "- In applied work, as few as 2-3 pairs of Fourier terms can be sufficient.\n",
    "- This is particularly useful for long seasonalities (e.g. $m=365$)."
   ]
  },
  {
   "cell_type": "markdown",
   "metadata": {
    "slideshow": {
     "slide_type": "slide"
    }
   },
   "source": [
    "## Wrap-up\n",
    "\n",
    "- Modern algorithms for selecting the order of ARIMA models are based on stepwise search, likelihood estimation and the AICc.\n",
    "- Seasonal ARIMA can capture seasonal effects with a small period.\n",
    "- Covariates based on calendar effects can be very useful for data based on human behaviour.\n",
    "- Regression with Fourier terms can capture seasonal effects with a long period. "
   ]
  }
 ],
 "metadata": {
  "celltoolbar": "Slideshow",
  "kernelspec": {
   "display_name": "Python3.9-virtualenv",
   "language": "python",
   "name": "python3.9-virtualenv"
  },
  "language_info": {
   "codemirror_mode": {
    "name": "ipython",
    "version": 3
   },
   "file_extension": ".py",
   "mimetype": "text/x-python",
   "name": "python",
   "nbconvert_exporter": "python",
   "pygments_lexer": "ipython3",
   "version": "3.9.13"
  },
  "rise": {
   "autolaunch": true,
   "enable_chalkboard": true,
   "scroll": true,
   "start_slideshow_at": "beginning"
  }
 },
 "nbformat": 4,
 "nbformat_minor": 4
}
